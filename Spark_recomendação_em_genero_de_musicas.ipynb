{
  "nbformat": 4,
  "nbformat_minor": 0,
  "metadata": {
    "colab": {
      "provenance": [],
      "authorship_tag": "ABX9TyNPkkGRI6tciT+QcMCImX0l",
      "include_colab_link": true
    },
    "kernelspec": {
      "name": "python3",
      "display_name": "Python 3"
    },
    "language_info": {
      "name": "python"
    }
  },
  "cells": [
    {
      "cell_type": "markdown",
      "metadata": {
        "id": "view-in-github",
        "colab_type": "text"
      },
      "source": [
        "<a href=\"https://colab.research.google.com/github/DiegoJSG/Spark_Sistema_de_recomendacao/blob/main/Spark_recomenda%C3%A7%C3%A3o_em_genero_de_musicas.ipynb\" target=\"_parent\"><img src=\"https://colab.research.google.com/assets/colab-badge.svg\" alt=\"Open In Colab\"/></a>"
      ]
    },
    {
      "cell_type": "code",
      "source": [
        "#sempre que for instalar algo utilize o ! caso nao seja um codigo python\n",
        "# e nao se esqueça sempre que iniciar novamente execute todas as cedulas para não haver erros"
      ],
      "metadata": {
        "id": "BofDRf-_E7Os"
      },
      "execution_count": 2,
      "outputs": []
    },
    {
      "cell_type": "code",
      "source": [
        "!pip install pyspark"
      ],
      "metadata": {
        "colab": {
          "base_uri": "https://localhost:8080/"
        },
        "id": "oEljO3_uEHPv",
        "outputId": "dcb8e892-f929-4456-9a95-47e906cc5080"
      },
      "execution_count": 3,
      "outputs": [
        {
          "output_type": "stream",
          "name": "stdout",
          "text": [
            "Looking in indexes: https://pypi.org/simple, https://us-python.pkg.dev/colab-wheels/public/simple/\n",
            "Collecting pyspark\n",
            "  Downloading pyspark-3.4.1.tar.gz (310.8 MB)\n",
            "\u001b[2K     \u001b[90m━━━━━━━━━━━━━━━━━━━━━━━━━━━━━━━━━━━━━━━\u001b[0m \u001b[32m310.8/310.8 MB\u001b[0m \u001b[31m4.1 MB/s\u001b[0m eta \u001b[36m0:00:00\u001b[0m\n",
            "\u001b[?25h  Preparing metadata (setup.py) ... \u001b[?25l\u001b[?25hdone\n",
            "Requirement already satisfied: py4j==0.10.9.7 in /usr/local/lib/python3.10/dist-packages (from pyspark) (0.10.9.7)\n",
            "Building wheels for collected packages: pyspark\n",
            "  Building wheel for pyspark (setup.py) ... \u001b[?25l\u001b[?25hdone\n",
            "  Created wheel for pyspark: filename=pyspark-3.4.1-py2.py3-none-any.whl size=311285398 sha256=9620b72a843349e4d8acd18e21fa5667fec062bbb7f1fa3d013305adb4959860\n",
            "  Stored in directory: /root/.cache/pip/wheels/0d/77/a3/ff2f74cc9ab41f8f594dabf0579c2a7c6de920d584206e0834\n",
            "Successfully built pyspark\n",
            "Installing collected packages: pyspark\n",
            "Successfully installed pyspark-3.4.1\n"
          ]
        }
      ]
    },
    {
      "cell_type": "code",
      "source": [
        "# importando o SQL do spark para usarmos"
      ],
      "metadata": {
        "id": "6JVLxSLfFj4i"
      },
      "execution_count": 4,
      "outputs": []
    },
    {
      "cell_type": "code",
      "source": [
        "from pyspark.sql import SparkSession"
      ],
      "metadata": {
        "id": "O93_sJcnFWK0"
      },
      "execution_count": 5,
      "outputs": []
    },
    {
      "cell_type": "code",
      "source": [
        "sessao_spark = SparkSession.builder\\\n",
        "                           .appName(\"Recomendador PySpark\")\\\n",
        "                           .getOrCreate()\n",
        "sessao_spark"
      ],
      "metadata": {
        "colab": {
          "base_uri": "https://localhost:8080/",
          "height": 222
        },
        "id": "5yhx6VAFG38G",
        "outputId": "1568f22b-04db-4b5b-a9f9-a8ce7db0e6cd"
      },
      "execution_count": 6,
      "outputs": [
        {
          "output_type": "execute_result",
          "data": {
            "text/plain": [
              "<pyspark.sql.session.SparkSession at 0x7f2759e6fe20>"
            ],
            "text/html": [
              "\n",
              "            <div>\n",
              "                <p><b>SparkSession - in-memory</b></p>\n",
              "                \n",
              "        <div>\n",
              "            <p><b>SparkContext</b></p>\n",
              "\n",
              "            <p><a href=\"http://ee0d07567027:4040\">Spark UI</a></p>\n",
              "\n",
              "            <dl>\n",
              "              <dt>Version</dt>\n",
              "                <dd><code>v3.4.1</code></dd>\n",
              "              <dt>Master</dt>\n",
              "                <dd><code>local[*]</code></dd>\n",
              "              <dt>AppName</dt>\n",
              "                <dd><code>Recomendador PySpark</code></dd>\n",
              "            </dl>\n",
              "        </div>\n",
              "        \n",
              "            </div>\n",
              "        "
            ]
          },
          "metadata": {},
          "execution_count": 6
        }
      ]
    },
    {
      "cell_type": "code",
      "source": [
        "from pyspark import SparkFiles"
      ],
      "metadata": {
        "id": "v28n-U6EKuk-"
      },
      "execution_count": 7,
      "outputs": []
    },
    {
      "cell_type": "code",
      "source": [
        "# inportando via github(url)\n",
        "url_dados = 'https://github.com/IgorNascAlves/dados/blob/main/dados_musicas.csv?raw=true'\n",
        "sessao_spark.sparkContext.addFile(url_dados)\n",
        "path_dados_file = 'file://' + SparkFiles.get('dados_musicas.csv')\n"
      ],
      "metadata": {
        "id": "xMFNJ85ZK0wO"
      },
      "execution_count": 8,
      "outputs": []
    },
    {
      "cell_type": "code",
      "source": [
        "dados = sessao_spark.read.csv(path_dados_file, header=True, sep=';', inferSchema=True)"
      ],
      "metadata": {
        "id": "XBA1M_4QLyQo"
      },
      "execution_count": 9,
      "outputs": []
    },
    {
      "cell_type": "code",
      "source": [
        "# para ter a certeza que executou as querys acima\n",
        "dados.show()"
      ],
      "metadata": {
        "colab": {
          "base_uri": "https://localhost:8080/"
        },
        "id": "y2rwyeOQMHqW",
        "outputId": "529720e8-e972-4962-a9ef-bd51bafdbd8f"
      },
      "execution_count": 10,
      "outputs": [
        {
          "output_type": "stream",
          "name": "stdout",
          "text": [
            "+------------------+----+------------+--------------+------------------+-----------+------------------+--------+--------------------+--------------------+---+--------+-------------------+----+--------------------+----------+-----------+------------------+--------------------+\n",
            "|           valence|year|acousticness|       artists|      danceability|duration_ms|            energy|explicit|                  id|    instrumentalness|key|liveness|           loudness|mode|                name|popularity|speechiness|             tempo|        artists_song|\n",
            "+------------------+----+------------+--------------+------------------+-----------+------------------+--------+--------------------+--------------------+---+--------+-------------------+----+--------------------+----------+-----------+------------------+--------------------+\n",
            "|             0.285|2000|     0.00239|      Coldplay|             0.429|     266773|0.6609999999999999|       0|3AJwUDP919kvQ9Qco...|             1.21E-4| 11|   0.234|             -7.227|   1|              Yellow|        84|     0.0281|           173.372|   Coldplay - Yellow|\n",
            "|             0.613|2000|       0.143|       OutKast|             0.843|     270507|0.8059999999999999|       1|0I3q5fE6wg7LIfHGn...|                 0.0|  4|  0.0771|-5.9460000000000015|   0|         Ms. Jackson|        80|      0.269|            94.948|OutKast - Ms. Jac...|\n",
            "|               0.4|2000|     0.00958|   Linkin Park|             0.556|     216880|0.8640000000000001|       0|60a0Rd6pjrkxjPbaK...|                 0.0|  3|   0.209|              -5.87|   0|          In the End|        84|     0.0584|           105.143|Linkin Park - In ...|\n",
            "|0.5429999999999999|2000|     0.00664|  3 Doors Down|             0.545|     233933|             0.865|       0|6ZOBP3NvffbU4SZcr...|              1.1E-5| 11|   0.168|-5.7079999999999975|   0|          Kryptonite|        78|     0.0286|            99.009|3 Doors Down - Kr...|\n",
            "|              0.76|2000|      0.0302|        Eminem|             0.949|     284200|0.6609999999999999|       1|3yfqSUWxFvZELEM4P...|                 0.0|  5|  0.0454|             -4.244|   0| The Real Slim Shady|        80|     0.0572|           104.504|Eminem - The Real...|\n",
            "|             0.941|2000|     9.96E-4|     Disturbed|             0.695|     279213|0.8759999999999999|       1|40rvBMQizxkIqnjPd...|             6.89E-6|  3|   0.106|             -4.262|   0|Down with the Sic...|        76|     0.0553|            89.954|Disturbed - Down ...|\n",
            "|             0.722|2000|      0.0616|         Nelly|              0.85|     291782|               0.7|       1|3Gf5nttwcX9aaSQXR...|              1.8E-6|  7|   0.244|              -6.49|   1|         Ride Wit Me|        74|     0.0478|           101.875| Nelly - Ride Wit Me|\n",
            "|             0.507|2000|      0.0371|        Eminem|              0.78|     404107|             0.768|       1|3UmaczJpikHgJFyBT...|             2.34E-6|  6|   0.518|             -4.325|   0|                Stan|        78|      0.238|            80.063|       Eminem - Stan|\n",
            "|             0.861|2000|       0.031|        *NSYNC|              0.61|     200400|             0.926|       0|62bOmKYxYg7dhrC6g...|              0.0012|  8|  0.0821|             -4.843|   0|         Bye Bye Bye|        71|     0.0479|           172.638|*NSYNC - Bye Bye Bye|\n",
            "|             0.894|2000|         0.3|Britney Spears|0.7509999999999999|     211160|0.8340000000000001|       0|6naxalmIoLFWR0siv...|             1.77E-5|  1|   0.355|             -5.444|   0|Oops!...I Did It ...|        78|     0.0437|            95.053|Britney Spears - ...|\n",
            "|             0.165|2000|       0.748|      Coldplay|             0.371|     227093|             0.268|       0|7D0RhFcb3CrfPuTJ0...|              0.0517|  1|   0.104|-10.505999999999998|   1|              Sparks|        73|     0.0281|           102.617|   Coldplay - Sparks|\n",
            "|0.5379999999999999|2000|      0.0014|   Linkin Park|0.4920000000000001|     157333|             0.969|       0|3K4HG9evC7dg3N0R9...|             1.32E-6|  9|  0.0787|             -4.419|   1|     One Step Closer|        76|     0.0491|            95.136|Linkin Park - One...|\n",
            "|             0.654|2000|      0.0561|        Shaggy|             0.853|     227600|             0.606|       0|3WkibOpDF7cQ5xntM...|                 0.0|  0|   0.313|             -4.596|   1|        It Wasn't Me|        76|     0.0713|            94.759|Shaggy - It Wasn'...|\n",
            "|             0.565|2000|     0.00689|         Nelly|             0.865|     287000|             0.664|       1|3wMUvT6eIw2L5cZFG...|                 0.0|  2|   0.142|             -6.822|   1|Country Grammar (...|        70|      0.108|162.83100000000005|Nelly - Country G...|\n",
            "|             0.532|2000|      0.0112|   The Beatles|             0.386|     425653|             0.607|       0|0aym2LBJBk9DAYuHH...|1.380000000000000...| 10|   0.088|               -7.7|   1|Hey Jude - Remast...|        76|     0.0261|           147.207|The Beatles - Hey...|\n",
            "|             0.866|2000|       0.386|   The Beatles|              0.49|     145747|             0.715|       0|4pbG9SUmWIvsROVLF...|                 0.0|  7|   0.311|             -5.549|   1|I Want To Hold Yo...|        73|     0.0476|           130.726|The Beatles - I W...|\n",
            "|             0.435|2000|     0.00118|     Lifehouse|             0.541|     216067|0.8640000000000001|       0|0wqOReZDnrefefEsr...|                 0.0|  1|  0.0896|             -4.915|   1| Hanging By A Moment|        65|     0.0357|           124.557|Lifehouse - Hangi...|\n",
            "|             0.299|2000|      0.0466|   Linkin Park|              0.58|     208960|0.7020000000000001|       0|57BrRMwf9LrcmuOsy...|              3.2E-6|  4|   0.536|             -5.565|   1|            Crawling|        73|     0.0337|           105.076|Linkin Park - Cra...|\n",
            "|             0.915|2000|      0.0281|       OutKast|             0.725|     240027|              0.64|       1|6glsMWIMIxQ4BedzL...|                 0.0|  5|   0.099|             -7.905|   0|  So Fresh, So Clean|        68|      0.332|           166.028|OutKast - So Fres...|\n",
            "|             0.885|2000|       0.627|     Sam Cooke|             0.691|     125440|             0.507|       0|2g2GkH3vZHk4lWzBj...|                 0.0| 11|   0.457|             -10.23|   1|(What A) Wonderfu...|        72|     0.0343|           128.518|Sam Cooke - (What...|\n",
            "+------------------+----+------------+--------------+------------------+-----------+------------------+--------+--------------------+--------------------+---+--------+-------------------+----+--------------------+----------+-----------+------------------+--------------------+\n",
            "only showing top 20 rows\n",
            "\n"
          ]
        }
      ]
    },
    {
      "cell_type": "code",
      "source": [
        "# veririfcar se os tipos de dados estão corretos\n",
        "dados.printSchema()"
      ],
      "metadata": {
        "colab": {
          "base_uri": "https://localhost:8080/"
        },
        "id": "XW93p6xOMZGs",
        "outputId": "514bdb04-9ee8-4b82-aeec-728a3fc76ea4"
      },
      "execution_count": 11,
      "outputs": [
        {
          "output_type": "stream",
          "name": "stdout",
          "text": [
            "root\n",
            " |-- valence: double (nullable = true)\n",
            " |-- year: integer (nullable = true)\n",
            " |-- acousticness: double (nullable = true)\n",
            " |-- artists: string (nullable = true)\n",
            " |-- danceability: double (nullable = true)\n",
            " |-- duration_ms: integer (nullable = true)\n",
            " |-- energy: double (nullable = true)\n",
            " |-- explicit: integer (nullable = true)\n",
            " |-- id: string (nullable = true)\n",
            " |-- instrumentalness: double (nullable = true)\n",
            " |-- key: integer (nullable = true)\n",
            " |-- liveness: double (nullable = true)\n",
            " |-- loudness: double (nullable = true)\n",
            " |-- mode: integer (nullable = true)\n",
            " |-- name: string (nullable = true)\n",
            " |-- popularity: integer (nullable = true)\n",
            " |-- speechiness: double (nullable = true)\n",
            " |-- tempo: double (nullable = true)\n",
            " |-- artists_song: string (nullable = true)\n",
            "\n"
          ]
        }
      ]
    },
    {
      "cell_type": "code",
      "source": [
        "dados.count()"
      ],
      "metadata": {
        "colab": {
          "base_uri": "https://localhost:8080/"
        },
        "id": "oxAgyaVmMiiB",
        "outputId": "f8543146-6a19-4217-daac-5e396fe2954b"
      },
      "execution_count": 12,
      "outputs": [
        {
          "output_type": "execute_result",
          "data": {
            "text/plain": [
              "20311"
            ]
          },
          "metadata": {},
          "execution_count": 12
        }
      ]
    },
    {
      "cell_type": "code",
      "source": [
        "len(dados.columns)"
      ],
      "metadata": {
        "colab": {
          "base_uri": "https://localhost:8080/"
        },
        "id": "FNofLdMIM2Sb",
        "outputId": "3d97e4be-5f40-4a88-b5d6-b6e17c5ec436"
      },
      "execution_count": 13,
      "outputs": [
        {
          "output_type": "execute_result",
          "data": {
            "text/plain": [
              "19"
            ]
          },
          "metadata": {},
          "execution_count": 13
        }
      ]
    },
    {
      "cell_type": "code",
      "source": [
        "import pyspark.sql.functions as f"
      ],
      "metadata": {
        "id": "DTY7iNPfM8VB"
      },
      "execution_count": 14,
      "outputs": []
    },
    {
      "cell_type": "code",
      "source": [
        "# query para contagem de quantos null tem e caso aja subtituir por 1 para contar\n",
        "dados.select([f.count( f.when(f.isnull(c), 1)).alias(c) for c in dados.columns]).show()"
      ],
      "metadata": {
        "colab": {
          "base_uri": "https://localhost:8080/"
        },
        "id": "qAv1Mr3GNF46",
        "outputId": "3f34bbc9-09ab-4c44-d9fd-95f0b2df4980"
      },
      "execution_count": 15,
      "outputs": [
        {
          "output_type": "stream",
          "name": "stdout",
          "text": [
            "+-------+----+------------+-------+------------+-----------+------+--------+---+----------------+---+--------+--------+----+----+----------+-----------+-----+------------+\n",
            "|valence|year|acousticness|artists|danceability|duration_ms|energy|explicit| id|instrumentalness|key|liveness|loudness|mode|name|popularity|speechiness|tempo|artists_song|\n",
            "+-------+----+------------+-------+------------+-----------+------+--------+---+----------------+---+--------+--------+----+----+----------+-----------+-----+------------+\n",
            "|      0|   0|           0|      0|           0|          0|     0|       0|  0|               0|  0|       0|       0|   0|   0|         0|          0|    0|           0|\n",
            "+-------+----+------------+-------+------------+-----------+------+--------+---+----------------+---+--------+--------+----+----+----------+-----------+-----+------------+\n",
            "\n"
          ]
        }
      ]
    },
    {
      "cell_type": "code",
      "source": [
        "# exibir os anos de cada musica com o  year\n",
        "# usar o sorted para deixar em ordem\n",
        "# e o print para exibir apenas os anos\n",
        "print(sorted(dados.select('year').distinct().collect()))"
      ],
      "metadata": {
        "colab": {
          "base_uri": "https://localhost:8080/"
        },
        "id": "g9o-Wd9BNlLe",
        "outputId": "f9649db6-6357-4dd1-f8c9-47178ddac69a"
      },
      "execution_count": 16,
      "outputs": [
        {
          "output_type": "stream",
          "name": "stdout",
          "text": [
            "[Row(year=2000), Row(year=2001), Row(year=2002), Row(year=2003), Row(year=2004), Row(year=2005), Row(year=2006), Row(year=2007), Row(year=2008), Row(year=2009), Row(year=2010), Row(year=2011), Row(year=2012), Row(year=2013), Row(year=2014), Row(year=2015), Row(year=2016), Row(year=2017), Row(year=2018), Row(year=2019), Row(year=2020)]\n"
          ]
        }
      ]
    },
    {
      "cell_type": "code",
      "source": [
        "# analise dos dados\n",
        "url_anos_dados = 'https://github.com/IgorNascAlves/dados/blob/main/dados_musicas_ano.csv?raw=true'\n",
        "\n",
        "sessao_spark.sparkContext.addFile(url_anos_dados)\n",
        "path_dados_file = 'file://' + SparkFiles.get('dados_musicas_ano.csv')\n",
        "\n",
        "dados_anos = sessao_spark.read.csv(path_dados_file, header=True, inferSchema=True)\n",
        "\n",
        "dados_anos.show()"
      ],
      "metadata": {
        "colab": {
          "base_uri": "https://localhost:8080/"
        },
        "id": "i1XZk36YOHot",
        "outputId": "2992bdd9-3320-4032-e040-d86d57dc6d8a"
      },
      "execution_count": 17,
      "outputs": [
        {
          "output_type": "stream",
          "name": "stdout",
          "text": [
            "+----+----+------------------+-------------------+------------------+-------------------+-------------------+-------------------+-------------------+-------------------+------------------+-------------------+-------------------+---+\n",
            "|mode|year|      acousticness|       danceability|       duration_ms|             energy|   instrumentalness|           liveness|           loudness|        speechiness|             tempo|            valence|         popularity|key|\n",
            "+----+----+------------------+-------------------+------------------+-------------------+-------------------+-------------------+-------------------+-------------------+------------------+-------------------+-------------------+---+\n",
            "|   1|1921|0.8868960000000005| 0.4185973333333336|260537.16666666663|0.23181513333333334|0.34487805886666656|            0.20571| -17.04866666666665|           0.073662|101.53149333333329|0.37932666666666665| 0.6533333333333333|  2|\n",
            "|   1|1922|0.9385915492957748| 0.4820422535211267|165469.74647887325|0.23781535211267596| 0.4341948697183099| 0.2407197183098592|-19.275281690140844| 0.1166549295774648|100.88452112676056| 0.5355492957746479|0.14084507042253522| 10|\n",
            "|   1|1923|0.9572467913513516| 0.5773405405405401|177942.36216216214| 0.2624064864864865|0.37173272502702703| 0.2274621621621621|-14.129210810810811| 0.0939486486486487| 114.0107297297297| 0.6254924324324328|  5.389189189189189|  0|\n",
            "|   1|1924| 0.940199860169493| 0.5498940677966102|191046.70762711862| 0.3443466101694912| 0.5817009136440677| 0.2352190677966101|-14.231343220338989|0.09208940677966099|120.68957203389822| 0.6637254237288139| 0.6610169491525424| 10|\n",
            "|   1|1925|0.9626070503597138| 0.5738633093525181|184986.92446043165| 0.2785935251798561| 0.4182973612230215| 0.2376679856115108| -14.14641366906474|0.11191798561151084| 115.5219208633093| 0.6219287769784171| 2.6043165467625897|  5|\n",
            "|   1|1926| 0.660817216981134| 0.5998802612481859|156881.65747460088| 0.2114670907111756| 0.3330931111175616| 0.2323695936139332|-18.492538461538466| 0.4837036284470243|109.64803265602328| 0.4369104571843251| 1.4223512336719883|  9|\n",
            "|   1|1927|0.9361794552845558| 0.6482682926829262|184993.59837398372| 0.2643213008130081| 0.3913284986504065|0.16845024390243893|-14.422373983739831|0.11360959349593502|114.84652357723554| 0.6597004878048782| 0.8016260162601626|  7|\n",
            "|   1|1928|0.9386165035685952| 0.5342878667724027|214827.90642347344|0.20794779540047573| 0.4948354801348136|0.17528937351308488|-17.191982553528927|0.15991149881046796|106.77226169706593| 0.4957126883425853| 1.5257731958762886|  1|\n",
            "|   1|1929|0.6014265861344558| 0.6476698529411761|168999.41281512607| 0.2418007352941172|0.21520403106092464| 0.2360002100840333|-16.530376050420152| 0.4900007352941176|110.94835714285715| 0.6365298319327733| 0.3403361344537815|  7|\n",
            "|   1|1930| 0.936714937370057| 0.5181758835758836|195150.28534303536| 0.3335239189189189|0.35220592816528057|0.22131086278586296|-12.869221413721428|0.11990966735966745|109.87119438669428| 0.6162376299376306| 0.9267151767151768|  2|\n",
            "|   1|1931|0.8330399585921336| 0.5952217391304357|171553.42546583852| 0.2344967732919257|0.22141964161490724|0.22742795031055896| -16.51609420289853| 0.4536189440993791|109.02528157349907| 0.5131170807453418|0.17080745341614906|  0|\n",
            "|   1|1932|0.9357705179282878| 0.5577976095617526|195749.37250996014| 0.3020677290836656|0.22635657916334675|0.23249621513944224|-13.364055776892426| 0.1390073705179282|115.11980079681273| 0.5881599601593626|  2.151394422310757|  7|\n",
            "|   1|1933| 0.899897909117222|   0.57029030390738|196219.25759768448| 0.2798994211287988| 0.1839489396816208| 0.2090719247467437| -13.06900868306802|0.09112315484804634|           112.522| 0.5994099855282197|  6.898697539797395|  7|\n",
            "|   1|1934|0.8911487501730107|  0.528705882352941| 189356.1262975779| 0.2621313148788928|  0.276382266643599|0.21345259515570927|-14.756875432525954|0.10245692041522483|115.39084602076124| 0.5588046712802772| 1.2577854671280275|  0|\n",
            "|   1|1935|0.7783855599472987| 0.5558691699604746|220124.24703557312| 0.2463669762845848| 0.2258732980895915| 0.2292998682476943| -15.41474967061924| 0.3539123847167326|110.66795652173931| 0.5455777997364957| 1.5013175230566536|  7|\n",
            "|   1|1936|0.7723120800000008| 0.5580055454545453| 220809.1863636364| 0.3083886092727274| 0.2571099957181816| 0.2214382727272726|-14.612999090909069|0.27902936363636377|109.88875454545445| 0.5640635454545455|  5.080909090909091| 10|\n",
            "|   1|1937|0.8654357853881286| 0.5421572298325723| 223216.5585996956|0.31104829528158273| 0.3270876216438359| 0.2259677321156773| -13.11514307458143|0.08567884322678843| 115.2632222222222| 0.5857894977168944|  3.328767123287671|  7|\n",
            "|   1|1938|0.9192803908646014|0.47997797716150103|249177.09951060358| 0.2809812398042416| 0.3784246349265906|  0.237111092985318|-14.290582381729198|  0.095957259380098| 111.6253278955954| 0.5149111092985317| 2.0962479608482867|  0|\n",
            "|   1|1939|0.9087381000000004|          0.5126828|        221602.065| 0.2826715000000002| 0.2776824694100001| 0.2391015999999999|-13.900570000000005| 0.1284626999999999|        113.174592| 0.5599248999999992|               4.36|  0|\n",
            "|   1|1940|0.8476440499999951|         0.52189235|       182227.9445| 0.3108928949999999|0.31684869986499986|0.26433510000000043|-13.684048000000017| 0.2429576500000001|108.44933449999992| 0.6167094700000009|               0.93|  7|\n",
            "+----+----+------------------+-------------------+------------------+-------------------+-------------------+-------------------+-------------------+-------------------+------------------+-------------------+-------------------+---+\n",
            "only showing top 20 rows\n",
            "\n"
          ]
        }
      ]
    },
    {
      "cell_type": "code",
      "source": [
        "# filtrando apenas para o ano 2000 ou maior\n",
        "dados_anos = dados_anos.filter('year >= 2000')\n",
        "dados_anos.show()"
      ],
      "metadata": {
        "colab": {
          "base_uri": "https://localhost:8080/"
        },
        "id": "zI5N4TUyUSqc",
        "outputId": "17e4dcf9-14bf-4bf5-efdb-c6b91e327ccf"
      },
      "execution_count": 18,
      "outputs": [
        {
          "output_type": "stream",
          "name": "stdout",
          "text": [
            "+----+----+-------------------+------------------+------------------+------------------+-------------------+-------------------+-------------------+-------------------+------------------+------------------+------------------+---+\n",
            "|mode|year|       acousticness|      danceability|       duration_ms|            energy|   instrumentalness|           liveness|           loudness|        speechiness|             tempo|           valence|        popularity|key|\n",
            "+----+----+-------------------+------------------+------------------+------------------+-------------------+-------------------+-------------------+-------------------+------------------+------------------+------------------+---+\n",
            "|   1|2000|0.28932270051635994| 0.590918047034764| 242724.6426380368|0.6254128323108387|0.10116776879345596| 0.1976860429447853| -8.247765848670758|0.08920541922290394| 118.9993231083843|0.5594754601226991|  46.6840490797546|  7|\n",
            "|   1|2001| 0.2868424748428934|0.5833178553615969|240307.79600997505|0.6269855221945144|0.10721401899251867|0.18702563591022486| -8.305095261845384|0.08918229426433916|117.76539900249378| 0.541479107231919| 48.75012468827929|  7|\n",
            "|   1|2002|0.28262428988500105|0.5761602999999997|        239503.283|0.6412697960000012|0.08804835031499995| 0.1939111999999998| -7.686639500000013|0.08430759999999995|119.23973849999993|0.5423971500000008|           48.6555|  7|\n",
            "|   1|2003|0.25647051817297833|0.5757633060388944| 244670.5752302968|0.6601652610030712|0.08304927466734914|0.19697630501535301| -7.485545035823955|0.09392574206755384| 120.9146218014328|0.5305042476970324| 48.62640736949847|  7|\n",
            "|   1|2004| 0.2805589466225845|0.5676803662258397|237378.70803662261|0.6488679450661226|0.07793403490844357| 0.2021994404883014| -7.601655137334684|0.09423880976602242|121.29034587995956|0.5244885554425227| 49.27314343845372|  7|\n",
            "|   1|2005| 0.2557635068666665|0.5722805641025652| 237229.5882051282| 0.653208511282051|0.09019436118461543|0.19008162564102585|  -7.46615897435897|0.09333369230769203|121.61796666666649|0.5325309230769236| 50.95333333333333|  0|\n",
            "|   1|2006| 0.2799863520256408|0.5682301538461539|234042.91435897435|0.6503262820512825|0.07770147187692314| 0.1882892820512821| -7.265500512820514|0.08584676923076921|121.79861538461536|0.5200283076923078| 51.31384615384616|  7|\n",
            "|   1|2007| 0.2540809575538463|0.5634143589743592|241049.96256410255|0.6683047743589737|0.07295726805128197|0.19612656410256424| -7.044535897435892|0.08434733333333336| 124.0875164102562|0.5167938461538473| 51.07589743589744|  7|\n",
            "|   1|2008| 0.2491917627212275|0.5791928388746803|240107.31560102306|0.6714608207672623| 0.0636620903171356|0.19843140664961625|-6.8438040920716166|0.07735636828644507|123.50993350383641|0.5275418925831203| 50.63017902813299|  0|\n",
            "|   1|2009|0.26192861909693904|0.5641903571428577| 238140.0132653061|0.6707487551020408|0.07587207368367352| 0.2052522959183674|-7.0460147959183645|0.08545780612244899| 123.4638076530612|0.5071696617346935|51.440816326530616|  0|\n",
            "|   1|2010| 0.2426866435515872|0.5724883432539687| 242811.8045634921|0.6817778026289684|0.08298056821924611|0.19970064484126995|-6.9099042658730125|0.08103149801587313| 123.5702152777779|0.5208951587301589| 52.73015873015873|  0|\n",
            "|   1|2011|0.27318266251859197|0.5528669806643526|  236998.787307883|0.6483008934060499|0.10377233216658402|0.20330882498760566| -7.574986117997006|0.08747927615270201|121.48399702528488|0.4724536787307882| 53.30738720872582|  2|\n",
            "|   1|2012|0.24995304438046245|0.5708818508997433|245807.45758354763|0.6565714601542408|0.08520552067866319| 0.1897330077120824| -7.260549614395888|0.08174246786632405|121.78173624678669|0.4627090128534706| 52.65501285347044|  7|\n",
            "|   1|2013| 0.2574880859564779|0.5711480263157896|242267.66143724695|0.6455968914473688|0.09836505391700387|0.19963081983805714| -7.472039473684207|0.09384888663967614|120.80682945344118|0.4547411943319834|54.047064777327925|  1|\n",
            "|   1|2014|0.24931264588029906|0.5899476807980057|233728.31471321694|0.6487954437905223|0.07656955483790515| 0.1918215960099752|  -7.06743990024938|0.08406054862842896|122.30526284289296|0.4630487780548628|55.543142144638395|  0|\n",
            "|   1|2015| 0.2539522577102332|0.5937740628166152| 230029.0466058764|0.6270642715298895| 0.1067868780547114|0.18885643363728474| -7.625639311043569|0.09677922998986847|120.11541134751768|0.4320983687943254| 56.70060790273557|  7|\n",
            "|   1|2016|0.28417102995548144|0.6002023928770179|221396.51029493602|0.5928552316082347|0.09398438711741793|0.18116989426822505| -8.061056204785759|0.10431329994435183|118.65262993878693|0.4315320589872012|  59.6471897607123|  0|\n",
            "|   1|2017| 0.2860990665261043|0.6122170180722886| 211115.6967871486|0.5904210208835337|0.09709060906626496| 0.1917126004016064|  -8.31262951807228| 0.1105364959839356|117.20273995983936|0.4164763112449793| 63.26355421686747|  1|\n",
            "|   1|2018| 0.2676329907750836|0.6635004755111744| 206001.0071326676|0.6024346220161672|0.05421712166904419|0.17632553495007114| -7.168785068949124|0.12717555872563022| 121.9223076557296|0.4479212743699474| 63.29624346172135|  1|\n",
            "|   1|2019| 0.2782985863365824|0.6448141097998967|201024.78809645973|0.5932240360184717|0.07764024697280643|0.17261641867624464| -7.722191893278596|0.12104335556695732|120.23564443304272|0.4588176295536167| 65.25654181631606|  1|\n",
            "+----+----+-------------------+------------------+------------------+------------------+-------------------+-------------------+-------------------+-------------------+------------------+------------------+------------------+---+\n",
            "only showing top 20 rows\n",
            "\n"
          ]
        }
      ]
    },
    {
      "cell_type": "code",
      "source": [
        "dados_anos.count()"
      ],
      "metadata": {
        "colab": {
          "base_uri": "https://localhost:8080/"
        },
        "id": "itnOsoQZUu4y",
        "outputId": "c307347a-5ef3-4c2c-e184-c73cd9bd84fb"
      },
      "execution_count": 19,
      "outputs": [
        {
          "output_type": "execute_result",
          "data": {
            "text/plain": [
              "21"
            ]
          },
          "metadata": {},
          "execution_count": 19
        }
      ]
    },
    {
      "cell_type": "code",
      "source": [
        "len(dados_anos.columns)"
      ],
      "metadata": {
        "colab": {
          "base_uri": "https://localhost:8080/"
        },
        "id": "PBKYAr4NU1vl",
        "outputId": "2d26686d-2d4d-4127-a608-2f1f01472f98"
      },
      "execution_count": 20,
      "outputs": [
        {
          "output_type": "execute_result",
          "data": {
            "text/plain": [
              "14"
            ]
          },
          "metadata": {},
          "execution_count": 20
        }
      ]
    },
    {
      "cell_type": "code",
      "source": [
        "# fig = figura\n",
        "# ToPandas vai pegar todos os dados e trazer para um nó\n",
        "# loudness nome da coluna onde seram buscados os dados\n",
        "import plotly.express as px\n",
        "\n",
        "fig = px.line(dados_anos.toPandas(), x='year', y='loudness', markers=True, title='Variação do loudness conforme os anos')\n",
        "fig.show()\n"
      ],
      "metadata": {
        "colab": {
          "base_uri": "https://localhost:8080/",
          "height": 542
        },
        "id": "RDuj8C0UU7h9",
        "outputId": "aa460d24-60f2-4771-ee0f-bd2d7bf572a5"
      },
      "execution_count": 21,
      "outputs": [
        {
          "output_type": "display_data",
          "data": {
            "text/html": [
              "<html>\n",
              "<head><meta charset=\"utf-8\" /></head>\n",
              "<body>\n",
              "    <div>            <script src=\"https://cdnjs.cloudflare.com/ajax/libs/mathjax/2.7.5/MathJax.js?config=TeX-AMS-MML_SVG\"></script><script type=\"text/javascript\">if (window.MathJax && window.MathJax.Hub && window.MathJax.Hub.Config) {window.MathJax.Hub.Config({SVG: {font: \"STIX-Web\"}});}</script>                <script type=\"text/javascript\">window.PlotlyConfig = {MathJaxConfig: 'local'};</script>\n",
              "        <script src=\"https://cdn.plot.ly/plotly-2.18.2.min.js\"></script>                <div id=\"3d507f48-85e5-4326-b650-3837ec895dfd\" class=\"plotly-graph-div\" style=\"height:525px; width:100%;\"></div>            <script type=\"text/javascript\">                                    window.PLOTLYENV=window.PLOTLYENV || {};                                    if (document.getElementById(\"3d507f48-85e5-4326-b650-3837ec895dfd\")) {                    Plotly.newPlot(                        \"3d507f48-85e5-4326-b650-3837ec895dfd\",                        [{\"hovertemplate\":\"year=%{x}<br>loudness=%{y}<extra></extra>\",\"legendgroup\":\"\",\"line\":{\"color\":\"#636efa\",\"dash\":\"solid\"},\"marker\":{\"symbol\":\"circle\"},\"mode\":\"markers+lines\",\"name\":\"\",\"orientation\":\"v\",\"showlegend\":false,\"x\":[2000,2001,2002,2003,2004,2005,2006,2007,2008,2009,2010,2011,2012,2013,2014,2015,2016,2017,2018,2019,2020],\"xaxis\":\"x\",\"y\":[-8.247765848670758,-8.305095261845384,-7.686639500000013,-7.485545035823955,-7.601655137334684,-7.46615897435897,-7.265500512820514,-7.044535897435892,-6.8438040920716166,-7.0460147959183645,-6.9099042658730125,-7.574986117997006,-7.260549614395888,-7.472039473684207,-7.06743990024938,-7.625639311043569,-8.061056204785759,-8.31262951807228,-7.168785068949124,-7.722191893278596,-6.595066995073878],\"yaxis\":\"y\",\"type\":\"scatter\"}],                        {\"template\":{\"data\":{\"histogram2dcontour\":[{\"type\":\"histogram2dcontour\",\"colorbar\":{\"outlinewidth\":0,\"ticks\":\"\"},\"colorscale\":[[0.0,\"#0d0887\"],[0.1111111111111111,\"#46039f\"],[0.2222222222222222,\"#7201a8\"],[0.3333333333333333,\"#9c179e\"],[0.4444444444444444,\"#bd3786\"],[0.5555555555555556,\"#d8576b\"],[0.6666666666666666,\"#ed7953\"],[0.7777777777777778,\"#fb9f3a\"],[0.8888888888888888,\"#fdca26\"],[1.0,\"#f0f921\"]]}],\"choropleth\":[{\"type\":\"choropleth\",\"colorbar\":{\"outlinewidth\":0,\"ticks\":\"\"}}],\"histogram2d\":[{\"type\":\"histogram2d\",\"colorbar\":{\"outlinewidth\":0,\"ticks\":\"\"},\"colorscale\":[[0.0,\"#0d0887\"],[0.1111111111111111,\"#46039f\"],[0.2222222222222222,\"#7201a8\"],[0.3333333333333333,\"#9c179e\"],[0.4444444444444444,\"#bd3786\"],[0.5555555555555556,\"#d8576b\"],[0.6666666666666666,\"#ed7953\"],[0.7777777777777778,\"#fb9f3a\"],[0.8888888888888888,\"#fdca26\"],[1.0,\"#f0f921\"]]}],\"heatmap\":[{\"type\":\"heatmap\",\"colorbar\":{\"outlinewidth\":0,\"ticks\":\"\"},\"colorscale\":[[0.0,\"#0d0887\"],[0.1111111111111111,\"#46039f\"],[0.2222222222222222,\"#7201a8\"],[0.3333333333333333,\"#9c179e\"],[0.4444444444444444,\"#bd3786\"],[0.5555555555555556,\"#d8576b\"],[0.6666666666666666,\"#ed7953\"],[0.7777777777777778,\"#fb9f3a\"],[0.8888888888888888,\"#fdca26\"],[1.0,\"#f0f921\"]]}],\"heatmapgl\":[{\"type\":\"heatmapgl\",\"colorbar\":{\"outlinewidth\":0,\"ticks\":\"\"},\"colorscale\":[[0.0,\"#0d0887\"],[0.1111111111111111,\"#46039f\"],[0.2222222222222222,\"#7201a8\"],[0.3333333333333333,\"#9c179e\"],[0.4444444444444444,\"#bd3786\"],[0.5555555555555556,\"#d8576b\"],[0.6666666666666666,\"#ed7953\"],[0.7777777777777778,\"#fb9f3a\"],[0.8888888888888888,\"#fdca26\"],[1.0,\"#f0f921\"]]}],\"contourcarpet\":[{\"type\":\"contourcarpet\",\"colorbar\":{\"outlinewidth\":0,\"ticks\":\"\"}}],\"contour\":[{\"type\":\"contour\",\"colorbar\":{\"outlinewidth\":0,\"ticks\":\"\"},\"colorscale\":[[0.0,\"#0d0887\"],[0.1111111111111111,\"#46039f\"],[0.2222222222222222,\"#7201a8\"],[0.3333333333333333,\"#9c179e\"],[0.4444444444444444,\"#bd3786\"],[0.5555555555555556,\"#d8576b\"],[0.6666666666666666,\"#ed7953\"],[0.7777777777777778,\"#fb9f3a\"],[0.8888888888888888,\"#fdca26\"],[1.0,\"#f0f921\"]]}],\"surface\":[{\"type\":\"surface\",\"colorbar\":{\"outlinewidth\":0,\"ticks\":\"\"},\"colorscale\":[[0.0,\"#0d0887\"],[0.1111111111111111,\"#46039f\"],[0.2222222222222222,\"#7201a8\"],[0.3333333333333333,\"#9c179e\"],[0.4444444444444444,\"#bd3786\"],[0.5555555555555556,\"#d8576b\"],[0.6666666666666666,\"#ed7953\"],[0.7777777777777778,\"#fb9f3a\"],[0.8888888888888888,\"#fdca26\"],[1.0,\"#f0f921\"]]}],\"mesh3d\":[{\"type\":\"mesh3d\",\"colorbar\":{\"outlinewidth\":0,\"ticks\":\"\"}}],\"scatter\":[{\"fillpattern\":{\"fillmode\":\"overlay\",\"size\":10,\"solidity\":0.2},\"type\":\"scatter\"}],\"parcoords\":[{\"type\":\"parcoords\",\"line\":{\"colorbar\":{\"outlinewidth\":0,\"ticks\":\"\"}}}],\"scatterpolargl\":[{\"type\":\"scatterpolargl\",\"marker\":{\"colorbar\":{\"outlinewidth\":0,\"ticks\":\"\"}}}],\"bar\":[{\"error_x\":{\"color\":\"#2a3f5f\"},\"error_y\":{\"color\":\"#2a3f5f\"},\"marker\":{\"line\":{\"color\":\"#E5ECF6\",\"width\":0.5},\"pattern\":{\"fillmode\":\"overlay\",\"size\":10,\"solidity\":0.2}},\"type\":\"bar\"}],\"scattergeo\":[{\"type\":\"scattergeo\",\"marker\":{\"colorbar\":{\"outlinewidth\":0,\"ticks\":\"\"}}}],\"scatterpolar\":[{\"type\":\"scatterpolar\",\"marker\":{\"colorbar\":{\"outlinewidth\":0,\"ticks\":\"\"}}}],\"histogram\":[{\"marker\":{\"pattern\":{\"fillmode\":\"overlay\",\"size\":10,\"solidity\":0.2}},\"type\":\"histogram\"}],\"scattergl\":[{\"type\":\"scattergl\",\"marker\":{\"colorbar\":{\"outlinewidth\":0,\"ticks\":\"\"}}}],\"scatter3d\":[{\"type\":\"scatter3d\",\"line\":{\"colorbar\":{\"outlinewidth\":0,\"ticks\":\"\"}},\"marker\":{\"colorbar\":{\"outlinewidth\":0,\"ticks\":\"\"}}}],\"scattermapbox\":[{\"type\":\"scattermapbox\",\"marker\":{\"colorbar\":{\"outlinewidth\":0,\"ticks\":\"\"}}}],\"scatterternary\":[{\"type\":\"scatterternary\",\"marker\":{\"colorbar\":{\"outlinewidth\":0,\"ticks\":\"\"}}}],\"scattercarpet\":[{\"type\":\"scattercarpet\",\"marker\":{\"colorbar\":{\"outlinewidth\":0,\"ticks\":\"\"}}}],\"carpet\":[{\"aaxis\":{\"endlinecolor\":\"#2a3f5f\",\"gridcolor\":\"white\",\"linecolor\":\"white\",\"minorgridcolor\":\"white\",\"startlinecolor\":\"#2a3f5f\"},\"baxis\":{\"endlinecolor\":\"#2a3f5f\",\"gridcolor\":\"white\",\"linecolor\":\"white\",\"minorgridcolor\":\"white\",\"startlinecolor\":\"#2a3f5f\"},\"type\":\"carpet\"}],\"table\":[{\"cells\":{\"fill\":{\"color\":\"#EBF0F8\"},\"line\":{\"color\":\"white\"}},\"header\":{\"fill\":{\"color\":\"#C8D4E3\"},\"line\":{\"color\":\"white\"}},\"type\":\"table\"}],\"barpolar\":[{\"marker\":{\"line\":{\"color\":\"#E5ECF6\",\"width\":0.5},\"pattern\":{\"fillmode\":\"overlay\",\"size\":10,\"solidity\":0.2}},\"type\":\"barpolar\"}],\"pie\":[{\"automargin\":true,\"type\":\"pie\"}]},\"layout\":{\"autotypenumbers\":\"strict\",\"colorway\":[\"#636efa\",\"#EF553B\",\"#00cc96\",\"#ab63fa\",\"#FFA15A\",\"#19d3f3\",\"#FF6692\",\"#B6E880\",\"#FF97FF\",\"#FECB52\"],\"font\":{\"color\":\"#2a3f5f\"},\"hovermode\":\"closest\",\"hoverlabel\":{\"align\":\"left\"},\"paper_bgcolor\":\"white\",\"plot_bgcolor\":\"#E5ECF6\",\"polar\":{\"bgcolor\":\"#E5ECF6\",\"angularaxis\":{\"gridcolor\":\"white\",\"linecolor\":\"white\",\"ticks\":\"\"},\"radialaxis\":{\"gridcolor\":\"white\",\"linecolor\":\"white\",\"ticks\":\"\"}},\"ternary\":{\"bgcolor\":\"#E5ECF6\",\"aaxis\":{\"gridcolor\":\"white\",\"linecolor\":\"white\",\"ticks\":\"\"},\"baxis\":{\"gridcolor\":\"white\",\"linecolor\":\"white\",\"ticks\":\"\"},\"caxis\":{\"gridcolor\":\"white\",\"linecolor\":\"white\",\"ticks\":\"\"}},\"coloraxis\":{\"colorbar\":{\"outlinewidth\":0,\"ticks\":\"\"}},\"colorscale\":{\"sequential\":[[0.0,\"#0d0887\"],[0.1111111111111111,\"#46039f\"],[0.2222222222222222,\"#7201a8\"],[0.3333333333333333,\"#9c179e\"],[0.4444444444444444,\"#bd3786\"],[0.5555555555555556,\"#d8576b\"],[0.6666666666666666,\"#ed7953\"],[0.7777777777777778,\"#fb9f3a\"],[0.8888888888888888,\"#fdca26\"],[1.0,\"#f0f921\"]],\"sequentialminus\":[[0.0,\"#0d0887\"],[0.1111111111111111,\"#46039f\"],[0.2222222222222222,\"#7201a8\"],[0.3333333333333333,\"#9c179e\"],[0.4444444444444444,\"#bd3786\"],[0.5555555555555556,\"#d8576b\"],[0.6666666666666666,\"#ed7953\"],[0.7777777777777778,\"#fb9f3a\"],[0.8888888888888888,\"#fdca26\"],[1.0,\"#f0f921\"]],\"diverging\":[[0,\"#8e0152\"],[0.1,\"#c51b7d\"],[0.2,\"#de77ae\"],[0.3,\"#f1b6da\"],[0.4,\"#fde0ef\"],[0.5,\"#f7f7f7\"],[0.6,\"#e6f5d0\"],[0.7,\"#b8e186\"],[0.8,\"#7fbc41\"],[0.9,\"#4d9221\"],[1,\"#276419\"]]},\"xaxis\":{\"gridcolor\":\"white\",\"linecolor\":\"white\",\"ticks\":\"\",\"title\":{\"standoff\":15},\"zerolinecolor\":\"white\",\"automargin\":true,\"zerolinewidth\":2},\"yaxis\":{\"gridcolor\":\"white\",\"linecolor\":\"white\",\"ticks\":\"\",\"title\":{\"standoff\":15},\"zerolinecolor\":\"white\",\"automargin\":true,\"zerolinewidth\":2},\"scene\":{\"xaxis\":{\"backgroundcolor\":\"#E5ECF6\",\"gridcolor\":\"white\",\"linecolor\":\"white\",\"showbackground\":true,\"ticks\":\"\",\"zerolinecolor\":\"white\",\"gridwidth\":2},\"yaxis\":{\"backgroundcolor\":\"#E5ECF6\",\"gridcolor\":\"white\",\"linecolor\":\"white\",\"showbackground\":true,\"ticks\":\"\",\"zerolinecolor\":\"white\",\"gridwidth\":2},\"zaxis\":{\"backgroundcolor\":\"#E5ECF6\",\"gridcolor\":\"white\",\"linecolor\":\"white\",\"showbackground\":true,\"ticks\":\"\",\"zerolinecolor\":\"white\",\"gridwidth\":2}},\"shapedefaults\":{\"line\":{\"color\":\"#2a3f5f\"}},\"annotationdefaults\":{\"arrowcolor\":\"#2a3f5f\",\"arrowhead\":0,\"arrowwidth\":1},\"geo\":{\"bgcolor\":\"white\",\"landcolor\":\"#E5ECF6\",\"subunitcolor\":\"white\",\"showland\":true,\"showlakes\":true,\"lakecolor\":\"white\"},\"title\":{\"x\":0.05},\"mapbox\":{\"style\":\"light\"}}},\"xaxis\":{\"anchor\":\"y\",\"domain\":[0.0,1.0],\"title\":{\"text\":\"year\"}},\"yaxis\":{\"anchor\":\"x\",\"domain\":[0.0,1.0],\"title\":{\"text\":\"loudness\"}},\"legend\":{\"tracegroupgap\":0},\"title\":{\"text\":\"Varia\\u00e7\\u00e3o do loudness conforme os anos\"}},                        {\"responsive\": true}                    ).then(function(){\n",
              "                            \n",
              "var gd = document.getElementById('3d507f48-85e5-4326-b650-3837ec895dfd');\n",
              "var x = new MutationObserver(function (mutations, observer) {{\n",
              "        var display = window.getComputedStyle(gd).display;\n",
              "        if (!display || display === 'none') {{\n",
              "            console.log([gd, 'removed!']);\n",
              "            Plotly.purge(gd);\n",
              "            observer.disconnect();\n",
              "        }}\n",
              "}});\n",
              "\n",
              "// Listen for the removal of the full notebook cells\n",
              "var notebookContainer = gd.closest('#notebook-container');\n",
              "if (notebookContainer) {{\n",
              "    x.observe(notebookContainer, {childList: true});\n",
              "}}\n",
              "\n",
              "// Listen for the clearing of the current output cell\n",
              "var outputEl = gd.closest('.output');\n",
              "if (outputEl) {{\n",
              "    x.observe(outputEl, {childList: true});\n",
              "}}\n",
              "\n",
              "                        })                };                            </script>        </div>\n",
              "</body>\n",
              "</html>"
            ]
          },
          "metadata": {}
        }
      ]
    },
    {
      "cell_type": "code",
      "source": [
        "# temp = temporario\n",
        "# acousticness nome da coluna onde seram buscados os dados\n",
        "import plotly.graph_objects as go\n",
        "\n",
        "fig = go.Figure()\n",
        "\n",
        "temp = dados_anos.toPandas()\n",
        "\n",
        "fig.add_trace(go.Scatter(x=temp['year'], y=temp['acousticness'], name='Acousticness'))\n",
        "\n",
        "fig.show()"
      ],
      "metadata": {
        "colab": {
          "base_uri": "https://localhost:8080/",
          "height": 542
        },
        "id": "3gHPY7MUVkAp",
        "outputId": "e19fc8d0-20a5-4ec6-be0b-2864eb0da3e8"
      },
      "execution_count": 22,
      "outputs": [
        {
          "output_type": "display_data",
          "data": {
            "text/html": [
              "<html>\n",
              "<head><meta charset=\"utf-8\" /></head>\n",
              "<body>\n",
              "    <div>            <script src=\"https://cdnjs.cloudflare.com/ajax/libs/mathjax/2.7.5/MathJax.js?config=TeX-AMS-MML_SVG\"></script><script type=\"text/javascript\">if (window.MathJax && window.MathJax.Hub && window.MathJax.Hub.Config) {window.MathJax.Hub.Config({SVG: {font: \"STIX-Web\"}});}</script>                <script type=\"text/javascript\">window.PlotlyConfig = {MathJaxConfig: 'local'};</script>\n",
              "        <script src=\"https://cdn.plot.ly/plotly-2.18.2.min.js\"></script>                <div id=\"4041b0f1-5e58-4ae5-85a3-36ff6f583b36\" class=\"plotly-graph-div\" style=\"height:525px; width:100%;\"></div>            <script type=\"text/javascript\">                                    window.PLOTLYENV=window.PLOTLYENV || {};                                    if (document.getElementById(\"4041b0f1-5e58-4ae5-85a3-36ff6f583b36\")) {                    Plotly.newPlot(                        \"4041b0f1-5e58-4ae5-85a3-36ff6f583b36\",                        [{\"name\":\"Acousticness\",\"x\":[2000,2001,2002,2003,2004,2005,2006,2007,2008,2009,2010,2011,2012,2013,2014,2015,2016,2017,2018,2019,2020],\"y\":[0.28932270051635994,0.2868424748428934,0.28262428988500105,0.25647051817297833,0.2805589466225845,0.2557635068666665,0.2799863520256408,0.2540809575538463,0.2491917627212275,0.26192861909693904,0.2426866435515872,0.27318266251859197,0.24995304438046245,0.2574880859564779,0.24931264588029906,0.2539522577102332,0.28417102995548144,0.2860990665261043,0.2676329907750836,0.2782985863365824,0.2199308880935964],\"type\":\"scatter\"}],                        {\"template\":{\"data\":{\"histogram2dcontour\":[{\"type\":\"histogram2dcontour\",\"colorbar\":{\"outlinewidth\":0,\"ticks\":\"\"},\"colorscale\":[[0.0,\"#0d0887\"],[0.1111111111111111,\"#46039f\"],[0.2222222222222222,\"#7201a8\"],[0.3333333333333333,\"#9c179e\"],[0.4444444444444444,\"#bd3786\"],[0.5555555555555556,\"#d8576b\"],[0.6666666666666666,\"#ed7953\"],[0.7777777777777778,\"#fb9f3a\"],[0.8888888888888888,\"#fdca26\"],[1.0,\"#f0f921\"]]}],\"choropleth\":[{\"type\":\"choropleth\",\"colorbar\":{\"outlinewidth\":0,\"ticks\":\"\"}}],\"histogram2d\":[{\"type\":\"histogram2d\",\"colorbar\":{\"outlinewidth\":0,\"ticks\":\"\"},\"colorscale\":[[0.0,\"#0d0887\"],[0.1111111111111111,\"#46039f\"],[0.2222222222222222,\"#7201a8\"],[0.3333333333333333,\"#9c179e\"],[0.4444444444444444,\"#bd3786\"],[0.5555555555555556,\"#d8576b\"],[0.6666666666666666,\"#ed7953\"],[0.7777777777777778,\"#fb9f3a\"],[0.8888888888888888,\"#fdca26\"],[1.0,\"#f0f921\"]]}],\"heatmap\":[{\"type\":\"heatmap\",\"colorbar\":{\"outlinewidth\":0,\"ticks\":\"\"},\"colorscale\":[[0.0,\"#0d0887\"],[0.1111111111111111,\"#46039f\"],[0.2222222222222222,\"#7201a8\"],[0.3333333333333333,\"#9c179e\"],[0.4444444444444444,\"#bd3786\"],[0.5555555555555556,\"#d8576b\"],[0.6666666666666666,\"#ed7953\"],[0.7777777777777778,\"#fb9f3a\"],[0.8888888888888888,\"#fdca26\"],[1.0,\"#f0f921\"]]}],\"heatmapgl\":[{\"type\":\"heatmapgl\",\"colorbar\":{\"outlinewidth\":0,\"ticks\":\"\"},\"colorscale\":[[0.0,\"#0d0887\"],[0.1111111111111111,\"#46039f\"],[0.2222222222222222,\"#7201a8\"],[0.3333333333333333,\"#9c179e\"],[0.4444444444444444,\"#bd3786\"],[0.5555555555555556,\"#d8576b\"],[0.6666666666666666,\"#ed7953\"],[0.7777777777777778,\"#fb9f3a\"],[0.8888888888888888,\"#fdca26\"],[1.0,\"#f0f921\"]]}],\"contourcarpet\":[{\"type\":\"contourcarpet\",\"colorbar\":{\"outlinewidth\":0,\"ticks\":\"\"}}],\"contour\":[{\"type\":\"contour\",\"colorbar\":{\"outlinewidth\":0,\"ticks\":\"\"},\"colorscale\":[[0.0,\"#0d0887\"],[0.1111111111111111,\"#46039f\"],[0.2222222222222222,\"#7201a8\"],[0.3333333333333333,\"#9c179e\"],[0.4444444444444444,\"#bd3786\"],[0.5555555555555556,\"#d8576b\"],[0.6666666666666666,\"#ed7953\"],[0.7777777777777778,\"#fb9f3a\"],[0.8888888888888888,\"#fdca26\"],[1.0,\"#f0f921\"]]}],\"surface\":[{\"type\":\"surface\",\"colorbar\":{\"outlinewidth\":0,\"ticks\":\"\"},\"colorscale\":[[0.0,\"#0d0887\"],[0.1111111111111111,\"#46039f\"],[0.2222222222222222,\"#7201a8\"],[0.3333333333333333,\"#9c179e\"],[0.4444444444444444,\"#bd3786\"],[0.5555555555555556,\"#d8576b\"],[0.6666666666666666,\"#ed7953\"],[0.7777777777777778,\"#fb9f3a\"],[0.8888888888888888,\"#fdca26\"],[1.0,\"#f0f921\"]]}],\"mesh3d\":[{\"type\":\"mesh3d\",\"colorbar\":{\"outlinewidth\":0,\"ticks\":\"\"}}],\"scatter\":[{\"fillpattern\":{\"fillmode\":\"overlay\",\"size\":10,\"solidity\":0.2},\"type\":\"scatter\"}],\"parcoords\":[{\"type\":\"parcoords\",\"line\":{\"colorbar\":{\"outlinewidth\":0,\"ticks\":\"\"}}}],\"scatterpolargl\":[{\"type\":\"scatterpolargl\",\"marker\":{\"colorbar\":{\"outlinewidth\":0,\"ticks\":\"\"}}}],\"bar\":[{\"error_x\":{\"color\":\"#2a3f5f\"},\"error_y\":{\"color\":\"#2a3f5f\"},\"marker\":{\"line\":{\"color\":\"#E5ECF6\",\"width\":0.5},\"pattern\":{\"fillmode\":\"overlay\",\"size\":10,\"solidity\":0.2}},\"type\":\"bar\"}],\"scattergeo\":[{\"type\":\"scattergeo\",\"marker\":{\"colorbar\":{\"outlinewidth\":0,\"ticks\":\"\"}}}],\"scatterpolar\":[{\"type\":\"scatterpolar\",\"marker\":{\"colorbar\":{\"outlinewidth\":0,\"ticks\":\"\"}}}],\"histogram\":[{\"marker\":{\"pattern\":{\"fillmode\":\"overlay\",\"size\":10,\"solidity\":0.2}},\"type\":\"histogram\"}],\"scattergl\":[{\"type\":\"scattergl\",\"marker\":{\"colorbar\":{\"outlinewidth\":0,\"ticks\":\"\"}}}],\"scatter3d\":[{\"type\":\"scatter3d\",\"line\":{\"colorbar\":{\"outlinewidth\":0,\"ticks\":\"\"}},\"marker\":{\"colorbar\":{\"outlinewidth\":0,\"ticks\":\"\"}}}],\"scattermapbox\":[{\"type\":\"scattermapbox\",\"marker\":{\"colorbar\":{\"outlinewidth\":0,\"ticks\":\"\"}}}],\"scatterternary\":[{\"type\":\"scatterternary\",\"marker\":{\"colorbar\":{\"outlinewidth\":0,\"ticks\":\"\"}}}],\"scattercarpet\":[{\"type\":\"scattercarpet\",\"marker\":{\"colorbar\":{\"outlinewidth\":0,\"ticks\":\"\"}}}],\"carpet\":[{\"aaxis\":{\"endlinecolor\":\"#2a3f5f\",\"gridcolor\":\"white\",\"linecolor\":\"white\",\"minorgridcolor\":\"white\",\"startlinecolor\":\"#2a3f5f\"},\"baxis\":{\"endlinecolor\":\"#2a3f5f\",\"gridcolor\":\"white\",\"linecolor\":\"white\",\"minorgridcolor\":\"white\",\"startlinecolor\":\"#2a3f5f\"},\"type\":\"carpet\"}],\"table\":[{\"cells\":{\"fill\":{\"color\":\"#EBF0F8\"},\"line\":{\"color\":\"white\"}},\"header\":{\"fill\":{\"color\":\"#C8D4E3\"},\"line\":{\"color\":\"white\"}},\"type\":\"table\"}],\"barpolar\":[{\"marker\":{\"line\":{\"color\":\"#E5ECF6\",\"width\":0.5},\"pattern\":{\"fillmode\":\"overlay\",\"size\":10,\"solidity\":0.2}},\"type\":\"barpolar\"}],\"pie\":[{\"automargin\":true,\"type\":\"pie\"}]},\"layout\":{\"autotypenumbers\":\"strict\",\"colorway\":[\"#636efa\",\"#EF553B\",\"#00cc96\",\"#ab63fa\",\"#FFA15A\",\"#19d3f3\",\"#FF6692\",\"#B6E880\",\"#FF97FF\",\"#FECB52\"],\"font\":{\"color\":\"#2a3f5f\"},\"hovermode\":\"closest\",\"hoverlabel\":{\"align\":\"left\"},\"paper_bgcolor\":\"white\",\"plot_bgcolor\":\"#E5ECF6\",\"polar\":{\"bgcolor\":\"#E5ECF6\",\"angularaxis\":{\"gridcolor\":\"white\",\"linecolor\":\"white\",\"ticks\":\"\"},\"radialaxis\":{\"gridcolor\":\"white\",\"linecolor\":\"white\",\"ticks\":\"\"}},\"ternary\":{\"bgcolor\":\"#E5ECF6\",\"aaxis\":{\"gridcolor\":\"white\",\"linecolor\":\"white\",\"ticks\":\"\"},\"baxis\":{\"gridcolor\":\"white\",\"linecolor\":\"white\",\"ticks\":\"\"},\"caxis\":{\"gridcolor\":\"white\",\"linecolor\":\"white\",\"ticks\":\"\"}},\"coloraxis\":{\"colorbar\":{\"outlinewidth\":0,\"ticks\":\"\"}},\"colorscale\":{\"sequential\":[[0.0,\"#0d0887\"],[0.1111111111111111,\"#46039f\"],[0.2222222222222222,\"#7201a8\"],[0.3333333333333333,\"#9c179e\"],[0.4444444444444444,\"#bd3786\"],[0.5555555555555556,\"#d8576b\"],[0.6666666666666666,\"#ed7953\"],[0.7777777777777778,\"#fb9f3a\"],[0.8888888888888888,\"#fdca26\"],[1.0,\"#f0f921\"]],\"sequentialminus\":[[0.0,\"#0d0887\"],[0.1111111111111111,\"#46039f\"],[0.2222222222222222,\"#7201a8\"],[0.3333333333333333,\"#9c179e\"],[0.4444444444444444,\"#bd3786\"],[0.5555555555555556,\"#d8576b\"],[0.6666666666666666,\"#ed7953\"],[0.7777777777777778,\"#fb9f3a\"],[0.8888888888888888,\"#fdca26\"],[1.0,\"#f0f921\"]],\"diverging\":[[0,\"#8e0152\"],[0.1,\"#c51b7d\"],[0.2,\"#de77ae\"],[0.3,\"#f1b6da\"],[0.4,\"#fde0ef\"],[0.5,\"#f7f7f7\"],[0.6,\"#e6f5d0\"],[0.7,\"#b8e186\"],[0.8,\"#7fbc41\"],[0.9,\"#4d9221\"],[1,\"#276419\"]]},\"xaxis\":{\"gridcolor\":\"white\",\"linecolor\":\"white\",\"ticks\":\"\",\"title\":{\"standoff\":15},\"zerolinecolor\":\"white\",\"automargin\":true,\"zerolinewidth\":2},\"yaxis\":{\"gridcolor\":\"white\",\"linecolor\":\"white\",\"ticks\":\"\",\"title\":{\"standoff\":15},\"zerolinecolor\":\"white\",\"automargin\":true,\"zerolinewidth\":2},\"scene\":{\"xaxis\":{\"backgroundcolor\":\"#E5ECF6\",\"gridcolor\":\"white\",\"linecolor\":\"white\",\"showbackground\":true,\"ticks\":\"\",\"zerolinecolor\":\"white\",\"gridwidth\":2},\"yaxis\":{\"backgroundcolor\":\"#E5ECF6\",\"gridcolor\":\"white\",\"linecolor\":\"white\",\"showbackground\":true,\"ticks\":\"\",\"zerolinecolor\":\"white\",\"gridwidth\":2},\"zaxis\":{\"backgroundcolor\":\"#E5ECF6\",\"gridcolor\":\"white\",\"linecolor\":\"white\",\"showbackground\":true,\"ticks\":\"\",\"zerolinecolor\":\"white\",\"gridwidth\":2}},\"shapedefaults\":{\"line\":{\"color\":\"#2a3f5f\"}},\"annotationdefaults\":{\"arrowcolor\":\"#2a3f5f\",\"arrowhead\":0,\"arrowwidth\":1},\"geo\":{\"bgcolor\":\"white\",\"landcolor\":\"#E5ECF6\",\"subunitcolor\":\"white\",\"showland\":true,\"showlakes\":true,\"lakecolor\":\"white\"},\"title\":{\"x\":0.05},\"mapbox\":{\"style\":\"light\"}}}},                        {\"responsive\": true}                    ).then(function(){\n",
              "                            \n",
              "var gd = document.getElementById('4041b0f1-5e58-4ae5-85a3-36ff6f583b36');\n",
              "var x = new MutationObserver(function (mutations, observer) {{\n",
              "        var display = window.getComputedStyle(gd).display;\n",
              "        if (!display || display === 'none') {{\n",
              "            console.log([gd, 'removed!']);\n",
              "            Plotly.purge(gd);\n",
              "            observer.disconnect();\n",
              "        }}\n",
              "}});\n",
              "\n",
              "// Listen for the removal of the full notebook cells\n",
              "var notebookContainer = gd.closest('#notebook-container');\n",
              "if (notebookContainer) {{\n",
              "    x.observe(notebookContainer, {childList: true});\n",
              "}}\n",
              "\n",
              "// Listen for the clearing of the current output cell\n",
              "var outputEl = gd.closest('.output');\n",
              "if (outputEl) {{\n",
              "    x.observe(outputEl, {childList: true});\n",
              "}}\n",
              "\n",
              "                        })                };                            </script>        </div>\n",
              "</body>\n",
              "</html>"
            ]
          },
          "metadata": {}
        }
      ]
    },
    {
      "cell_type": "code",
      "source": [
        "# Esse código está fazendo a mesma coisa da linha acima\n",
        "# mas variando a segunda coluna do eixo y por outras características de músicas\n",
        "import plotly.graph_objects as go\n",
        "\n",
        "fig = go.Figure()\n",
        "\n",
        "temp = dados_anos.toPandas()\n",
        "\n",
        "fig.add_trace(go.Scatter(x=temp['year'], y=temp['acousticness'], name='Acousticness'))\n",
        "fig.add_trace(go.Scatter(x=temp['year'], y=temp['valence'],\n",
        "                    name='Valence'))\n",
        "fig.add_trace(go.Scatter(x=temp['year'], y=temp['danceability'],\n",
        "                    name='Danceability'))\n",
        "fig.add_trace(go.Scatter(x=temp['year'], y=temp['energy'],\n",
        "                    name='Energy'))\n",
        "fig.add_trace(go.Scatter(x=temp['year'], y=temp['instrumentalness'],\n",
        "                    name='Instrumentalness'))\n",
        "fig.add_trace(go.Scatter(x=temp['year'], y=temp['liveness'],\n",
        "                    name='Liveness'))\n",
        "fig.add_trace(go.Scatter(x=temp['year'], y=temp['speechiness'],\n",
        "                    name='Speechiness'))\n",
        "\n",
        "fig.show()"
      ],
      "metadata": {
        "colab": {
          "base_uri": "https://localhost:8080/",
          "height": 542
        },
        "id": "c9S3xfC6WaY5",
        "outputId": "fb248b11-16ad-4f96-9b87-6c46e0a9d8e6"
      },
      "execution_count": 23,
      "outputs": [
        {
          "output_type": "display_data",
          "data": {
            "text/html": [
              "<html>\n",
              "<head><meta charset=\"utf-8\" /></head>\n",
              "<body>\n",
              "    <div>            <script src=\"https://cdnjs.cloudflare.com/ajax/libs/mathjax/2.7.5/MathJax.js?config=TeX-AMS-MML_SVG\"></script><script type=\"text/javascript\">if (window.MathJax && window.MathJax.Hub && window.MathJax.Hub.Config) {window.MathJax.Hub.Config({SVG: {font: \"STIX-Web\"}});}</script>                <script type=\"text/javascript\">window.PlotlyConfig = {MathJaxConfig: 'local'};</script>\n",
              "        <script src=\"https://cdn.plot.ly/plotly-2.18.2.min.js\"></script>                <div id=\"568ffe83-b186-4de4-9deb-0d2e48e3bd8f\" class=\"plotly-graph-div\" style=\"height:525px; width:100%;\"></div>            <script type=\"text/javascript\">                                    window.PLOTLYENV=window.PLOTLYENV || {};                                    if (document.getElementById(\"568ffe83-b186-4de4-9deb-0d2e48e3bd8f\")) {                    Plotly.newPlot(                        \"568ffe83-b186-4de4-9deb-0d2e48e3bd8f\",                        [{\"name\":\"Acousticness\",\"x\":[2000,2001,2002,2003,2004,2005,2006,2007,2008,2009,2010,2011,2012,2013,2014,2015,2016,2017,2018,2019,2020],\"y\":[0.28932270051635994,0.2868424748428934,0.28262428988500105,0.25647051817297833,0.2805589466225845,0.2557635068666665,0.2799863520256408,0.2540809575538463,0.2491917627212275,0.26192861909693904,0.2426866435515872,0.27318266251859197,0.24995304438046245,0.2574880859564779,0.24931264588029906,0.2539522577102332,0.28417102995548144,0.2860990665261043,0.2676329907750836,0.2782985863365824,0.2199308880935964],\"type\":\"scatter\"},{\"name\":\"Valence\",\"x\":[2000,2001,2002,2003,2004,2005,2006,2007,2008,2009,2010,2011,2012,2013,2014,2015,2016,2017,2018,2019,2020],\"y\":[0.5594754601226991,0.541479107231919,0.5423971500000008,0.5305042476970324,0.5244885554425227,0.5325309230769236,0.5200283076923078,0.5167938461538473,0.5275418925831203,0.5071696617346935,0.5208951587301589,0.4724536787307882,0.4627090128534706,0.4547411943319834,0.4630487780548628,0.4320983687943254,0.4315320589872012,0.4164763112449793,0.4479212743699474,0.4588176295536167,0.5010478078817729],\"type\":\"scatter\"},{\"name\":\"Danceability\",\"x\":[2000,2001,2002,2003,2004,2005,2006,2007,2008,2009,2010,2011,2012,2013,2014,2015,2016,2017,2018,2019,2020],\"y\":[0.590918047034764,0.5833178553615969,0.5761602999999997,0.5757633060388944,0.5676803662258397,0.5722805641025652,0.5682301538461539,0.5634143589743592,0.5791928388746803,0.5641903571428577,0.5724883432539687,0.5528669806643526,0.5708818508997433,0.5711480263157896,0.5899476807980057,0.5937740628166152,0.6002023928770179,0.6122170180722886,0.6635004755111744,0.6448141097998967,0.6929043349753701],\"type\":\"scatter\"},{\"name\":\"Energy\",\"x\":[2000,2001,2002,2003,2004,2005,2006,2007,2008,2009,2010,2011,2012,2013,2014,2015,2016,2017,2018,2019,2020],\"y\":[0.6254128323108387,0.6269855221945144,0.6412697960000012,0.6601652610030712,0.6488679450661226,0.653208511282051,0.6503262820512825,0.6683047743589737,0.6714608207672623,0.6707487551020408,0.6817778026289684,0.6483008934060499,0.6565714601542408,0.6455968914473688,0.6487954437905223,0.6270642715298895,0.5928552316082347,0.5904210208835337,0.6024346220161672,0.5932240360184717,0.6312316354679793],\"type\":\"scatter\"},{\"name\":\"Instrumentalness\",\"x\":[2000,2001,2002,2003,2004,2005,2006,2007,2008,2009,2010,2011,2012,2013,2014,2015,2016,2017,2018,2019,2020],\"y\":[0.10116776879345596,0.10721401899251867,0.08804835031499995,0.08304927466734914,0.07793403490844357,0.09019436118461543,0.07770147187692314,0.07295726805128197,0.0636620903171356,0.07587207368367352,0.08298056821924611,0.10377233216658402,0.08520552067866319,0.09836505391700387,0.07656955483790515,0.1067868780547114,0.09398438711741793,0.09709060906626496,0.05421712166904419,0.07764024697280643,0.016375524305418724],\"type\":\"scatter\"},{\"name\":\"Liveness\",\"x\":[2000,2001,2002,2003,2004,2005,2006,2007,2008,2009,2010,2011,2012,2013,2014,2015,2016,2017,2018,2019,2020],\"y\":[0.1976860429447853,0.18702563591022486,0.1939111999999998,0.19697630501535301,0.2021994404883014,0.19008162564102585,0.1882892820512821,0.19612656410256424,0.19843140664961625,0.2052522959183674,0.19970064484126995,0.20330882498760566,0.1897330077120824,0.19963081983805714,0.1918215960099752,0.18885643363728474,0.18116989426822505,0.1917126004016064,0.17632553495007114,0.17261641867624464,0.1785354187192117],\"type\":\"scatter\"},{\"name\":\"Speechiness\",\"x\":[2000,2001,2002,2003,2004,2005,2006,2007,2008,2009,2010,2011,2012,2013,2014,2015,2016,2017,2018,2019,2020],\"y\":[0.08920541922290394,0.08918229426433916,0.08430759999999995,0.09392574206755384,0.09423880976602242,0.09333369230769203,0.08584676923076921,0.08434733333333336,0.07735636828644507,0.08545780612244899,0.08103149801587313,0.08747927615270201,0.08174246786632405,0.09384888663967614,0.08406054862842896,0.09677922998986847,0.10431329994435183,0.1105364959839356,0.12717555872563022,0.12104335556695732,0.14138369458128058],\"type\":\"scatter\"}],                        {\"template\":{\"data\":{\"histogram2dcontour\":[{\"type\":\"histogram2dcontour\",\"colorbar\":{\"outlinewidth\":0,\"ticks\":\"\"},\"colorscale\":[[0.0,\"#0d0887\"],[0.1111111111111111,\"#46039f\"],[0.2222222222222222,\"#7201a8\"],[0.3333333333333333,\"#9c179e\"],[0.4444444444444444,\"#bd3786\"],[0.5555555555555556,\"#d8576b\"],[0.6666666666666666,\"#ed7953\"],[0.7777777777777778,\"#fb9f3a\"],[0.8888888888888888,\"#fdca26\"],[1.0,\"#f0f921\"]]}],\"choropleth\":[{\"type\":\"choropleth\",\"colorbar\":{\"outlinewidth\":0,\"ticks\":\"\"}}],\"histogram2d\":[{\"type\":\"histogram2d\",\"colorbar\":{\"outlinewidth\":0,\"ticks\":\"\"},\"colorscale\":[[0.0,\"#0d0887\"],[0.1111111111111111,\"#46039f\"],[0.2222222222222222,\"#7201a8\"],[0.3333333333333333,\"#9c179e\"],[0.4444444444444444,\"#bd3786\"],[0.5555555555555556,\"#d8576b\"],[0.6666666666666666,\"#ed7953\"],[0.7777777777777778,\"#fb9f3a\"],[0.8888888888888888,\"#fdca26\"],[1.0,\"#f0f921\"]]}],\"heatmap\":[{\"type\":\"heatmap\",\"colorbar\":{\"outlinewidth\":0,\"ticks\":\"\"},\"colorscale\":[[0.0,\"#0d0887\"],[0.1111111111111111,\"#46039f\"],[0.2222222222222222,\"#7201a8\"],[0.3333333333333333,\"#9c179e\"],[0.4444444444444444,\"#bd3786\"],[0.5555555555555556,\"#d8576b\"],[0.6666666666666666,\"#ed7953\"],[0.7777777777777778,\"#fb9f3a\"],[0.8888888888888888,\"#fdca26\"],[1.0,\"#f0f921\"]]}],\"heatmapgl\":[{\"type\":\"heatmapgl\",\"colorbar\":{\"outlinewidth\":0,\"ticks\":\"\"},\"colorscale\":[[0.0,\"#0d0887\"],[0.1111111111111111,\"#46039f\"],[0.2222222222222222,\"#7201a8\"],[0.3333333333333333,\"#9c179e\"],[0.4444444444444444,\"#bd3786\"],[0.5555555555555556,\"#d8576b\"],[0.6666666666666666,\"#ed7953\"],[0.7777777777777778,\"#fb9f3a\"],[0.8888888888888888,\"#fdca26\"],[1.0,\"#f0f921\"]]}],\"contourcarpet\":[{\"type\":\"contourcarpet\",\"colorbar\":{\"outlinewidth\":0,\"ticks\":\"\"}}],\"contour\":[{\"type\":\"contour\",\"colorbar\":{\"outlinewidth\":0,\"ticks\":\"\"},\"colorscale\":[[0.0,\"#0d0887\"],[0.1111111111111111,\"#46039f\"],[0.2222222222222222,\"#7201a8\"],[0.3333333333333333,\"#9c179e\"],[0.4444444444444444,\"#bd3786\"],[0.5555555555555556,\"#d8576b\"],[0.6666666666666666,\"#ed7953\"],[0.7777777777777778,\"#fb9f3a\"],[0.8888888888888888,\"#fdca26\"],[1.0,\"#f0f921\"]]}],\"surface\":[{\"type\":\"surface\",\"colorbar\":{\"outlinewidth\":0,\"ticks\":\"\"},\"colorscale\":[[0.0,\"#0d0887\"],[0.1111111111111111,\"#46039f\"],[0.2222222222222222,\"#7201a8\"],[0.3333333333333333,\"#9c179e\"],[0.4444444444444444,\"#bd3786\"],[0.5555555555555556,\"#d8576b\"],[0.6666666666666666,\"#ed7953\"],[0.7777777777777778,\"#fb9f3a\"],[0.8888888888888888,\"#fdca26\"],[1.0,\"#f0f921\"]]}],\"mesh3d\":[{\"type\":\"mesh3d\",\"colorbar\":{\"outlinewidth\":0,\"ticks\":\"\"}}],\"scatter\":[{\"fillpattern\":{\"fillmode\":\"overlay\",\"size\":10,\"solidity\":0.2},\"type\":\"scatter\"}],\"parcoords\":[{\"type\":\"parcoords\",\"line\":{\"colorbar\":{\"outlinewidth\":0,\"ticks\":\"\"}}}],\"scatterpolargl\":[{\"type\":\"scatterpolargl\",\"marker\":{\"colorbar\":{\"outlinewidth\":0,\"ticks\":\"\"}}}],\"bar\":[{\"error_x\":{\"color\":\"#2a3f5f\"},\"error_y\":{\"color\":\"#2a3f5f\"},\"marker\":{\"line\":{\"color\":\"#E5ECF6\",\"width\":0.5},\"pattern\":{\"fillmode\":\"overlay\",\"size\":10,\"solidity\":0.2}},\"type\":\"bar\"}],\"scattergeo\":[{\"type\":\"scattergeo\",\"marker\":{\"colorbar\":{\"outlinewidth\":0,\"ticks\":\"\"}}}],\"scatterpolar\":[{\"type\":\"scatterpolar\",\"marker\":{\"colorbar\":{\"outlinewidth\":0,\"ticks\":\"\"}}}],\"histogram\":[{\"marker\":{\"pattern\":{\"fillmode\":\"overlay\",\"size\":10,\"solidity\":0.2}},\"type\":\"histogram\"}],\"scattergl\":[{\"type\":\"scattergl\",\"marker\":{\"colorbar\":{\"outlinewidth\":0,\"ticks\":\"\"}}}],\"scatter3d\":[{\"type\":\"scatter3d\",\"line\":{\"colorbar\":{\"outlinewidth\":0,\"ticks\":\"\"}},\"marker\":{\"colorbar\":{\"outlinewidth\":0,\"ticks\":\"\"}}}],\"scattermapbox\":[{\"type\":\"scattermapbox\",\"marker\":{\"colorbar\":{\"outlinewidth\":0,\"ticks\":\"\"}}}],\"scatterternary\":[{\"type\":\"scatterternary\",\"marker\":{\"colorbar\":{\"outlinewidth\":0,\"ticks\":\"\"}}}],\"scattercarpet\":[{\"type\":\"scattercarpet\",\"marker\":{\"colorbar\":{\"outlinewidth\":0,\"ticks\":\"\"}}}],\"carpet\":[{\"aaxis\":{\"endlinecolor\":\"#2a3f5f\",\"gridcolor\":\"white\",\"linecolor\":\"white\",\"minorgridcolor\":\"white\",\"startlinecolor\":\"#2a3f5f\"},\"baxis\":{\"endlinecolor\":\"#2a3f5f\",\"gridcolor\":\"white\",\"linecolor\":\"white\",\"minorgridcolor\":\"white\",\"startlinecolor\":\"#2a3f5f\"},\"type\":\"carpet\"}],\"table\":[{\"cells\":{\"fill\":{\"color\":\"#EBF0F8\"},\"line\":{\"color\":\"white\"}},\"header\":{\"fill\":{\"color\":\"#C8D4E3\"},\"line\":{\"color\":\"white\"}},\"type\":\"table\"}],\"barpolar\":[{\"marker\":{\"line\":{\"color\":\"#E5ECF6\",\"width\":0.5},\"pattern\":{\"fillmode\":\"overlay\",\"size\":10,\"solidity\":0.2}},\"type\":\"barpolar\"}],\"pie\":[{\"automargin\":true,\"type\":\"pie\"}]},\"layout\":{\"autotypenumbers\":\"strict\",\"colorway\":[\"#636efa\",\"#EF553B\",\"#00cc96\",\"#ab63fa\",\"#FFA15A\",\"#19d3f3\",\"#FF6692\",\"#B6E880\",\"#FF97FF\",\"#FECB52\"],\"font\":{\"color\":\"#2a3f5f\"},\"hovermode\":\"closest\",\"hoverlabel\":{\"align\":\"left\"},\"paper_bgcolor\":\"white\",\"plot_bgcolor\":\"#E5ECF6\",\"polar\":{\"bgcolor\":\"#E5ECF6\",\"angularaxis\":{\"gridcolor\":\"white\",\"linecolor\":\"white\",\"ticks\":\"\"},\"radialaxis\":{\"gridcolor\":\"white\",\"linecolor\":\"white\",\"ticks\":\"\"}},\"ternary\":{\"bgcolor\":\"#E5ECF6\",\"aaxis\":{\"gridcolor\":\"white\",\"linecolor\":\"white\",\"ticks\":\"\"},\"baxis\":{\"gridcolor\":\"white\",\"linecolor\":\"white\",\"ticks\":\"\"},\"caxis\":{\"gridcolor\":\"white\",\"linecolor\":\"white\",\"ticks\":\"\"}},\"coloraxis\":{\"colorbar\":{\"outlinewidth\":0,\"ticks\":\"\"}},\"colorscale\":{\"sequential\":[[0.0,\"#0d0887\"],[0.1111111111111111,\"#46039f\"],[0.2222222222222222,\"#7201a8\"],[0.3333333333333333,\"#9c179e\"],[0.4444444444444444,\"#bd3786\"],[0.5555555555555556,\"#d8576b\"],[0.6666666666666666,\"#ed7953\"],[0.7777777777777778,\"#fb9f3a\"],[0.8888888888888888,\"#fdca26\"],[1.0,\"#f0f921\"]],\"sequentialminus\":[[0.0,\"#0d0887\"],[0.1111111111111111,\"#46039f\"],[0.2222222222222222,\"#7201a8\"],[0.3333333333333333,\"#9c179e\"],[0.4444444444444444,\"#bd3786\"],[0.5555555555555556,\"#d8576b\"],[0.6666666666666666,\"#ed7953\"],[0.7777777777777778,\"#fb9f3a\"],[0.8888888888888888,\"#fdca26\"],[1.0,\"#f0f921\"]],\"diverging\":[[0,\"#8e0152\"],[0.1,\"#c51b7d\"],[0.2,\"#de77ae\"],[0.3,\"#f1b6da\"],[0.4,\"#fde0ef\"],[0.5,\"#f7f7f7\"],[0.6,\"#e6f5d0\"],[0.7,\"#b8e186\"],[0.8,\"#7fbc41\"],[0.9,\"#4d9221\"],[1,\"#276419\"]]},\"xaxis\":{\"gridcolor\":\"white\",\"linecolor\":\"white\",\"ticks\":\"\",\"title\":{\"standoff\":15},\"zerolinecolor\":\"white\",\"automargin\":true,\"zerolinewidth\":2},\"yaxis\":{\"gridcolor\":\"white\",\"linecolor\":\"white\",\"ticks\":\"\",\"title\":{\"standoff\":15},\"zerolinecolor\":\"white\",\"automargin\":true,\"zerolinewidth\":2},\"scene\":{\"xaxis\":{\"backgroundcolor\":\"#E5ECF6\",\"gridcolor\":\"white\",\"linecolor\":\"white\",\"showbackground\":true,\"ticks\":\"\",\"zerolinecolor\":\"white\",\"gridwidth\":2},\"yaxis\":{\"backgroundcolor\":\"#E5ECF6\",\"gridcolor\":\"white\",\"linecolor\":\"white\",\"showbackground\":true,\"ticks\":\"\",\"zerolinecolor\":\"white\",\"gridwidth\":2},\"zaxis\":{\"backgroundcolor\":\"#E5ECF6\",\"gridcolor\":\"white\",\"linecolor\":\"white\",\"showbackground\":true,\"ticks\":\"\",\"zerolinecolor\":\"white\",\"gridwidth\":2}},\"shapedefaults\":{\"line\":{\"color\":\"#2a3f5f\"}},\"annotationdefaults\":{\"arrowcolor\":\"#2a3f5f\",\"arrowhead\":0,\"arrowwidth\":1},\"geo\":{\"bgcolor\":\"white\",\"landcolor\":\"#E5ECF6\",\"subunitcolor\":\"white\",\"showland\":true,\"showlakes\":true,\"lakecolor\":\"white\"},\"title\":{\"x\":0.05},\"mapbox\":{\"style\":\"light\"}}}},                        {\"responsive\": true}                    ).then(function(){\n",
              "                            \n",
              "var gd = document.getElementById('568ffe83-b186-4de4-9deb-0d2e48e3bd8f');\n",
              "var x = new MutationObserver(function (mutations, observer) {{\n",
              "        var display = window.getComputedStyle(gd).display;\n",
              "        if (!display || display === 'none') {{\n",
              "            console.log([gd, 'removed!']);\n",
              "            Plotly.purge(gd);\n",
              "            observer.disconnect();\n",
              "        }}\n",
              "}});\n",
              "\n",
              "// Listen for the removal of the full notebook cells\n",
              "var notebookContainer = gd.closest('#notebook-container');\n",
              "if (notebookContainer) {{\n",
              "    x.observe(notebookContainer, {childList: true});\n",
              "}}\n",
              "\n",
              "// Listen for the clearing of the current output cell\n",
              "var outputEl = gd.closest('.output');\n",
              "if (outputEl) {{\n",
              "    x.observe(outputEl, {childList: true});\n",
              "}}\n",
              "\n",
              "                        })                };                            </script>        </div>\n",
              "</body>\n",
              "</html>"
            ]
          },
          "metadata": {}
        }
      ]
    },
    {
      "cell_type": "code",
      "source": [
        "# matriz de correlação\n",
        "# imshow = mostrar a imagem e o correto é imshow e nao imgshow\n",
        "# o .drop seria  para retirar a coluna MODE\n",
        "\n",
        "fig = px.imshow(dados_anos.drop('mode').toPandas().corr(), text_auto=True)\n",
        "fig.show()"
      ],
      "metadata": {
        "colab": {
          "base_uri": "https://localhost:8080/",
          "height": 542
        },
        "id": "xVu9VrIiWrHN",
        "outputId": "7c864b34-675d-4d33-a04d-07473565ebb0"
      },
      "execution_count": 24,
      "outputs": [
        {
          "output_type": "display_data",
          "data": {
            "text/html": [
              "<html>\n",
              "<head><meta charset=\"utf-8\" /></head>\n",
              "<body>\n",
              "    <div>            <script src=\"https://cdnjs.cloudflare.com/ajax/libs/mathjax/2.7.5/MathJax.js?config=TeX-AMS-MML_SVG\"></script><script type=\"text/javascript\">if (window.MathJax && window.MathJax.Hub && window.MathJax.Hub.Config) {window.MathJax.Hub.Config({SVG: {font: \"STIX-Web\"}});}</script>                <script type=\"text/javascript\">window.PlotlyConfig = {MathJaxConfig: 'local'};</script>\n",
              "        <script src=\"https://cdn.plot.ly/plotly-2.18.2.min.js\"></script>                <div id=\"78365dd3-bb0b-46a6-a678-a519b1fd014b\" class=\"plotly-graph-div\" style=\"height:525px; width:100%;\"></div>            <script type=\"text/javascript\">                                    window.PLOTLYENV=window.PLOTLYENV || {};                                    if (document.getElementById(\"78365dd3-bb0b-46a6-a678-a519b1fd014b\")) {                    Plotly.newPlot(                        \"78365dd3-bb0b-46a6-a678-a519b1fd014b\",                        [{\"coloraxis\":\"coloraxis\",\"name\":\"0\",\"texttemplate\":\"%{z}\",\"x\":[\"year\",\"acousticness\",\"danceability\",\"duration_ms\",\"energy\",\"instrumentalness\",\"liveness\",\"loudness\",\"speechiness\",\"tempo\",\"valence\",\"popularity\",\"key\"],\"y\":[\"year\",\"acousticness\",\"danceability\",\"duration_ms\",\"energy\",\"instrumentalness\",\"liveness\",\"loudness\",\"speechiness\",\"tempo\",\"valence\",\"popularity\",\"key\"],\"z\":[[1.0,-0.3411159583826981,0.6608199386023006,-0.7677124784467935,-0.4883614976017922,-0.3778796163418823,-0.5600359793453032,0.24481327200034977,0.6679407869495613,0.135206651286006,-0.8475989110150034,0.9403224364955638,-0.59003208568506],[-0.3411159583826981,1.0,-0.21562914783872839,0.07027065889373486,-0.5028464016727273,0.6000179544161117,-0.005278610778445343,-0.8384634126764212,-0.11507903484724662,-0.779129060109222,0.017657401281779277,-0.15878272118242956,0.30112204523201086],[0.6608199386023006,-0.21562914783872839,1.0,-0.9174882989904196,-0.6300040145063887,-0.6365783321457552,-0.7937311387338585,0.1177493452900591,0.9290984292792732,0.008636460322801484,-0.3339128886804443,0.8080907171455811,-0.3130172458393562],[-0.7677124784467935,0.07027065889373486,-0.9174882989904196,1.0,0.7158216074913761,0.5408931341064447,0.7726846760122201,-0.040353826764081446,-0.9337595836692876,0.049435388491187233,0.4998944618939771,-0.9211587580397507,0.4112955092341246],[-0.4883614976017922,-0.5028464016727273,-0.6300040145063887,0.7158216074913761,1.0,-0.09557373830784033,0.7059936616366327,0.6163827716194801,-0.6879629289427857,0.6827348256574154,0.5688501869406707,-0.6830008647144806,0.11853490224047748],[-0.3778796163418823,0.6000179544161117,-0.6365783321457552,0.5408931341064447,-0.09557373830784033,1.0,0.34767145702429336,-0.738575685509048,-0.5356289163845074,-0.6735345367211589,-0.08676554084668006,-0.39967805880699375,0.2824279571619284],[-0.5600359793453032,-0.005278610778445343,-0.7937311387338585,0.7726846760122201,0.7059936616366327,0.34767145702429336,1.0,0.07598100746952816,-0.7340833881462239,0.18936558013168733,0.38466429778551764,-0.7202553144289295,0.1345806771347886],[0.24481327200034977,-0.8384634126764212,0.1177493452900591,-0.040353826764081446,0.6163827716194801,-0.738575685509048,0.07598100746952816,1.0,0.005313336822696862,0.9597996046866653,0.11428988275912833,0.07272200634495016,-0.2990411256697193],[0.6679407869495613,-0.11507903484724662,0.9290984292792732,-0.9337595836692876,-0.6879629289427857,-0.5356289163845074,-0.7340833881462239,0.005313336822696862,1.0,-0.0691209252461087,-0.41134099161696436,0.8300352075638717,-0.2949439559626186],[0.135206651286006,-0.779129060109222,0.008636460322801484,0.049435388491187233,0.6827348256574154,-0.6735345367211589,0.18936558013168733,0.9597996046866653,-0.0691209252461087,1.0,0.2151115193534347,-0.03535889516641647,-0.2561334077890368],[-0.8475989110150034,0.017657401281779277,-0.3339128886804443,0.4998944618939771,0.5688501869406707,-0.08676554084668006,0.38466429778551764,0.11428988275912833,-0.41134099161696436,0.2151115193534347,1.0,-0.7616832157267148,0.384059807659227],[0.9403224364955638,-0.15878272118242956,0.8080907171455811,-0.9211587580397507,-0.6830008647144806,-0.39967805880699375,-0.7202553144289295,0.07272200634495016,0.8300352075638717,-0.03535889516641647,-0.7616832157267148,1.0,-0.5339331304034587],[-0.59003208568506,0.30112204523201086,-0.3130172458393562,0.4112955092341246,0.11853490224047748,0.2824279571619284,0.1345806771347886,-0.2990411256697193,-0.2949439559626186,-0.2561334077890368,0.384059807659227,-0.5339331304034587,1.0]],\"type\":\"heatmap\",\"xaxis\":\"x\",\"yaxis\":\"y\",\"hovertemplate\":\"x: %{x}<br>y: %{y}<br>color: %{z}<extra></extra>\"}],                        {\"template\":{\"data\":{\"histogram2dcontour\":[{\"type\":\"histogram2dcontour\",\"colorbar\":{\"outlinewidth\":0,\"ticks\":\"\"},\"colorscale\":[[0.0,\"#0d0887\"],[0.1111111111111111,\"#46039f\"],[0.2222222222222222,\"#7201a8\"],[0.3333333333333333,\"#9c179e\"],[0.4444444444444444,\"#bd3786\"],[0.5555555555555556,\"#d8576b\"],[0.6666666666666666,\"#ed7953\"],[0.7777777777777778,\"#fb9f3a\"],[0.8888888888888888,\"#fdca26\"],[1.0,\"#f0f921\"]]}],\"choropleth\":[{\"type\":\"choropleth\",\"colorbar\":{\"outlinewidth\":0,\"ticks\":\"\"}}],\"histogram2d\":[{\"type\":\"histogram2d\",\"colorbar\":{\"outlinewidth\":0,\"ticks\":\"\"},\"colorscale\":[[0.0,\"#0d0887\"],[0.1111111111111111,\"#46039f\"],[0.2222222222222222,\"#7201a8\"],[0.3333333333333333,\"#9c179e\"],[0.4444444444444444,\"#bd3786\"],[0.5555555555555556,\"#d8576b\"],[0.6666666666666666,\"#ed7953\"],[0.7777777777777778,\"#fb9f3a\"],[0.8888888888888888,\"#fdca26\"],[1.0,\"#f0f921\"]]}],\"heatmap\":[{\"type\":\"heatmap\",\"colorbar\":{\"outlinewidth\":0,\"ticks\":\"\"},\"colorscale\":[[0.0,\"#0d0887\"],[0.1111111111111111,\"#46039f\"],[0.2222222222222222,\"#7201a8\"],[0.3333333333333333,\"#9c179e\"],[0.4444444444444444,\"#bd3786\"],[0.5555555555555556,\"#d8576b\"],[0.6666666666666666,\"#ed7953\"],[0.7777777777777778,\"#fb9f3a\"],[0.8888888888888888,\"#fdca26\"],[1.0,\"#f0f921\"]]}],\"heatmapgl\":[{\"type\":\"heatmapgl\",\"colorbar\":{\"outlinewidth\":0,\"ticks\":\"\"},\"colorscale\":[[0.0,\"#0d0887\"],[0.1111111111111111,\"#46039f\"],[0.2222222222222222,\"#7201a8\"],[0.3333333333333333,\"#9c179e\"],[0.4444444444444444,\"#bd3786\"],[0.5555555555555556,\"#d8576b\"],[0.6666666666666666,\"#ed7953\"],[0.7777777777777778,\"#fb9f3a\"],[0.8888888888888888,\"#fdca26\"],[1.0,\"#f0f921\"]]}],\"contourcarpet\":[{\"type\":\"contourcarpet\",\"colorbar\":{\"outlinewidth\":0,\"ticks\":\"\"}}],\"contour\":[{\"type\":\"contour\",\"colorbar\":{\"outlinewidth\":0,\"ticks\":\"\"},\"colorscale\":[[0.0,\"#0d0887\"],[0.1111111111111111,\"#46039f\"],[0.2222222222222222,\"#7201a8\"],[0.3333333333333333,\"#9c179e\"],[0.4444444444444444,\"#bd3786\"],[0.5555555555555556,\"#d8576b\"],[0.6666666666666666,\"#ed7953\"],[0.7777777777777778,\"#fb9f3a\"],[0.8888888888888888,\"#fdca26\"],[1.0,\"#f0f921\"]]}],\"surface\":[{\"type\":\"surface\",\"colorbar\":{\"outlinewidth\":0,\"ticks\":\"\"},\"colorscale\":[[0.0,\"#0d0887\"],[0.1111111111111111,\"#46039f\"],[0.2222222222222222,\"#7201a8\"],[0.3333333333333333,\"#9c179e\"],[0.4444444444444444,\"#bd3786\"],[0.5555555555555556,\"#d8576b\"],[0.6666666666666666,\"#ed7953\"],[0.7777777777777778,\"#fb9f3a\"],[0.8888888888888888,\"#fdca26\"],[1.0,\"#f0f921\"]]}],\"mesh3d\":[{\"type\":\"mesh3d\",\"colorbar\":{\"outlinewidth\":0,\"ticks\":\"\"}}],\"scatter\":[{\"fillpattern\":{\"fillmode\":\"overlay\",\"size\":10,\"solidity\":0.2},\"type\":\"scatter\"}],\"parcoords\":[{\"type\":\"parcoords\",\"line\":{\"colorbar\":{\"outlinewidth\":0,\"ticks\":\"\"}}}],\"scatterpolargl\":[{\"type\":\"scatterpolargl\",\"marker\":{\"colorbar\":{\"outlinewidth\":0,\"ticks\":\"\"}}}],\"bar\":[{\"error_x\":{\"color\":\"#2a3f5f\"},\"error_y\":{\"color\":\"#2a3f5f\"},\"marker\":{\"line\":{\"color\":\"#E5ECF6\",\"width\":0.5},\"pattern\":{\"fillmode\":\"overlay\",\"size\":10,\"solidity\":0.2}},\"type\":\"bar\"}],\"scattergeo\":[{\"type\":\"scattergeo\",\"marker\":{\"colorbar\":{\"outlinewidth\":0,\"ticks\":\"\"}}}],\"scatterpolar\":[{\"type\":\"scatterpolar\",\"marker\":{\"colorbar\":{\"outlinewidth\":0,\"ticks\":\"\"}}}],\"histogram\":[{\"marker\":{\"pattern\":{\"fillmode\":\"overlay\",\"size\":10,\"solidity\":0.2}},\"type\":\"histogram\"}],\"scattergl\":[{\"type\":\"scattergl\",\"marker\":{\"colorbar\":{\"outlinewidth\":0,\"ticks\":\"\"}}}],\"scatter3d\":[{\"type\":\"scatter3d\",\"line\":{\"colorbar\":{\"outlinewidth\":0,\"ticks\":\"\"}},\"marker\":{\"colorbar\":{\"outlinewidth\":0,\"ticks\":\"\"}}}],\"scattermapbox\":[{\"type\":\"scattermapbox\",\"marker\":{\"colorbar\":{\"outlinewidth\":0,\"ticks\":\"\"}}}],\"scatterternary\":[{\"type\":\"scatterternary\",\"marker\":{\"colorbar\":{\"outlinewidth\":0,\"ticks\":\"\"}}}],\"scattercarpet\":[{\"type\":\"scattercarpet\",\"marker\":{\"colorbar\":{\"outlinewidth\":0,\"ticks\":\"\"}}}],\"carpet\":[{\"aaxis\":{\"endlinecolor\":\"#2a3f5f\",\"gridcolor\":\"white\",\"linecolor\":\"white\",\"minorgridcolor\":\"white\",\"startlinecolor\":\"#2a3f5f\"},\"baxis\":{\"endlinecolor\":\"#2a3f5f\",\"gridcolor\":\"white\",\"linecolor\":\"white\",\"minorgridcolor\":\"white\",\"startlinecolor\":\"#2a3f5f\"},\"type\":\"carpet\"}],\"table\":[{\"cells\":{\"fill\":{\"color\":\"#EBF0F8\"},\"line\":{\"color\":\"white\"}},\"header\":{\"fill\":{\"color\":\"#C8D4E3\"},\"line\":{\"color\":\"white\"}},\"type\":\"table\"}],\"barpolar\":[{\"marker\":{\"line\":{\"color\":\"#E5ECF6\",\"width\":0.5},\"pattern\":{\"fillmode\":\"overlay\",\"size\":10,\"solidity\":0.2}},\"type\":\"barpolar\"}],\"pie\":[{\"automargin\":true,\"type\":\"pie\"}]},\"layout\":{\"autotypenumbers\":\"strict\",\"colorway\":[\"#636efa\",\"#EF553B\",\"#00cc96\",\"#ab63fa\",\"#FFA15A\",\"#19d3f3\",\"#FF6692\",\"#B6E880\",\"#FF97FF\",\"#FECB52\"],\"font\":{\"color\":\"#2a3f5f\"},\"hovermode\":\"closest\",\"hoverlabel\":{\"align\":\"left\"},\"paper_bgcolor\":\"white\",\"plot_bgcolor\":\"#E5ECF6\",\"polar\":{\"bgcolor\":\"#E5ECF6\",\"angularaxis\":{\"gridcolor\":\"white\",\"linecolor\":\"white\",\"ticks\":\"\"},\"radialaxis\":{\"gridcolor\":\"white\",\"linecolor\":\"white\",\"ticks\":\"\"}},\"ternary\":{\"bgcolor\":\"#E5ECF6\",\"aaxis\":{\"gridcolor\":\"white\",\"linecolor\":\"white\",\"ticks\":\"\"},\"baxis\":{\"gridcolor\":\"white\",\"linecolor\":\"white\",\"ticks\":\"\"},\"caxis\":{\"gridcolor\":\"white\",\"linecolor\":\"white\",\"ticks\":\"\"}},\"coloraxis\":{\"colorbar\":{\"outlinewidth\":0,\"ticks\":\"\"}},\"colorscale\":{\"sequential\":[[0.0,\"#0d0887\"],[0.1111111111111111,\"#46039f\"],[0.2222222222222222,\"#7201a8\"],[0.3333333333333333,\"#9c179e\"],[0.4444444444444444,\"#bd3786\"],[0.5555555555555556,\"#d8576b\"],[0.6666666666666666,\"#ed7953\"],[0.7777777777777778,\"#fb9f3a\"],[0.8888888888888888,\"#fdca26\"],[1.0,\"#f0f921\"]],\"sequentialminus\":[[0.0,\"#0d0887\"],[0.1111111111111111,\"#46039f\"],[0.2222222222222222,\"#7201a8\"],[0.3333333333333333,\"#9c179e\"],[0.4444444444444444,\"#bd3786\"],[0.5555555555555556,\"#d8576b\"],[0.6666666666666666,\"#ed7953\"],[0.7777777777777778,\"#fb9f3a\"],[0.8888888888888888,\"#fdca26\"],[1.0,\"#f0f921\"]],\"diverging\":[[0,\"#8e0152\"],[0.1,\"#c51b7d\"],[0.2,\"#de77ae\"],[0.3,\"#f1b6da\"],[0.4,\"#fde0ef\"],[0.5,\"#f7f7f7\"],[0.6,\"#e6f5d0\"],[0.7,\"#b8e186\"],[0.8,\"#7fbc41\"],[0.9,\"#4d9221\"],[1,\"#276419\"]]},\"xaxis\":{\"gridcolor\":\"white\",\"linecolor\":\"white\",\"ticks\":\"\",\"title\":{\"standoff\":15},\"zerolinecolor\":\"white\",\"automargin\":true,\"zerolinewidth\":2},\"yaxis\":{\"gridcolor\":\"white\",\"linecolor\":\"white\",\"ticks\":\"\",\"title\":{\"standoff\":15},\"zerolinecolor\":\"white\",\"automargin\":true,\"zerolinewidth\":2},\"scene\":{\"xaxis\":{\"backgroundcolor\":\"#E5ECF6\",\"gridcolor\":\"white\",\"linecolor\":\"white\",\"showbackground\":true,\"ticks\":\"\",\"zerolinecolor\":\"white\",\"gridwidth\":2},\"yaxis\":{\"backgroundcolor\":\"#E5ECF6\",\"gridcolor\":\"white\",\"linecolor\":\"white\",\"showbackground\":true,\"ticks\":\"\",\"zerolinecolor\":\"white\",\"gridwidth\":2},\"zaxis\":{\"backgroundcolor\":\"#E5ECF6\",\"gridcolor\":\"white\",\"linecolor\":\"white\",\"showbackground\":true,\"ticks\":\"\",\"zerolinecolor\":\"white\",\"gridwidth\":2}},\"shapedefaults\":{\"line\":{\"color\":\"#2a3f5f\"}},\"annotationdefaults\":{\"arrowcolor\":\"#2a3f5f\",\"arrowhead\":0,\"arrowwidth\":1},\"geo\":{\"bgcolor\":\"white\",\"landcolor\":\"#E5ECF6\",\"subunitcolor\":\"white\",\"showland\":true,\"showlakes\":true,\"lakecolor\":\"white\"},\"title\":{\"x\":0.05},\"mapbox\":{\"style\":\"light\"}}},\"xaxis\":{\"anchor\":\"y\",\"domain\":[0.0,1.0],\"scaleanchor\":\"y\",\"constrain\":\"domain\"},\"yaxis\":{\"anchor\":\"x\",\"domain\":[0.0,1.0],\"autorange\":\"reversed\",\"constrain\":\"domain\"},\"coloraxis\":{\"colorscale\":[[0.0,\"#0d0887\"],[0.1111111111111111,\"#46039f\"],[0.2222222222222222,\"#7201a8\"],[0.3333333333333333,\"#9c179e\"],[0.4444444444444444,\"#bd3786\"],[0.5555555555555556,\"#d8576b\"],[0.6666666666666666,\"#ed7953\"],[0.7777777777777778,\"#fb9f3a\"],[0.8888888888888888,\"#fdca26\"],[1.0,\"#f0f921\"]]},\"margin\":{\"t\":60}},                        {\"responsive\": true}                    ).then(function(){\n",
              "                            \n",
              "var gd = document.getElementById('78365dd3-bb0b-46a6-a678-a519b1fd014b');\n",
              "var x = new MutationObserver(function (mutations, observer) {{\n",
              "        var display = window.getComputedStyle(gd).display;\n",
              "        if (!display || display === 'none') {{\n",
              "            console.log([gd, 'removed!']);\n",
              "            Plotly.purge(gd);\n",
              "            observer.disconnect();\n",
              "        }}\n",
              "}});\n",
              "\n",
              "// Listen for the removal of the full notebook cells\n",
              "var notebookContainer = gd.closest('#notebook-container');\n",
              "if (notebookContainer) {{\n",
              "    x.observe(notebookContainer, {childList: true});\n",
              "}}\n",
              "\n",
              "// Listen for the clearing of the current output cell\n",
              "var outputEl = gd.closest('.output');\n",
              "if (outputEl) {{\n",
              "    x.observe(outputEl, {childList: true});\n",
              "}}\n",
              "\n",
              "                        })                };                            </script>        </div>\n",
              "</body>\n",
              "</html>"
            ]
          },
          "metadata": {}
        }
      ]
    },
    {
      "cell_type": "code",
      "source": [
        "url_dados_generos = 'https://github.com/IgorNascAlves/dados/blob/main/dados_musicas_genero.csv?raw=true'\n",
        "\n",
        "sessao_spark.sparkContext.addFile(url_dados_generos)\n",
        "path_dados_file = \"file://\" + SparkFiles.get(\"dados_musicas_genero.csv\")\n",
        "\n",
        "dados_generos = sessao_spark.read.csv(path_dados_file, header=True, inferSchema= True)\n",
        "dados_generos.show()"
      ],
      "metadata": {
        "id": "iyHm92wKakKt",
        "colab": {
          "base_uri": "https://localhost:8080/"
        },
        "outputId": "4b240676-1819-4a2b-9a54-d464f998bb40"
      },
      "execution_count": 27,
      "outputs": [
        {
          "output_type": "stream",
          "name": "stdout",
          "text": [
            "+----+--------------------+-------------------+-------------------+------------------+-------------------+--------------------+-------------------+-------------------+--------------------+------------------+-------------------+------------------+---+\n",
            "|mode|              genres|       acousticness|       danceability|       duration_ms|             energy|    instrumentalness|           liveness|           loudness|         speechiness|             tempo|            valence|        popularity|key|\n",
            "+----+--------------------+-------------------+-------------------+------------------+-------------------+--------------------+-------------------+-------------------+--------------------+------------------+-------------------+------------------+---+\n",
            "|   1|21st century clas...| 0.9793333333333332|0.16288333333333335|160297.66666666663|0.07131666666666665|          0.60683367|             0.3616|-31.514333333333337| 0.04056666666666667|           75.3365|0.10378333333333334| 27.83333333333333|  6|\n",
            "|   1|               432hz|            0.49478| 0.2993333333333333| 1048887.333333333| 0.4506783333333333|  0.4777616666666668|              0.131|            -16.854| 0.07681666666666667|120.28566666666666|            0.22175|              52.5|  5|\n",
            "|   1|               8-bit|              0.762| 0.7120000000000001|          115177.0|              0.818|  0.8759999999999999|              0.126|              -9.18|               0.047|           133.444|              0.975|              48.0|  7|\n",
            "|   1|                  []| 0.6514170195595453| 0.5290925603549332| 232880.8902503945| 0.4191460727353524|  0.2053091895111363|0.21869585415040735|-12.288964675489455| 0.10787155868681396| 112.8573524318416| 0.5136042963588958|20.859882191849056|  7|\n",
            "|   1|          a cappella|  0.676557304985755| 0.5389612464387464| 190628.5408867521| 0.3164335701566952|0.003003441440420227| 0.1722541371082621|-12.479387421652426| 0.08285143981481483| 112.1103620014245|0.44824865455840457| 45.82007122507122|  7|\n",
            "|   1|            abstract|            0.45921| 0.5161666666666667|          343196.5| 0.4424166666666666|  0.8496666666666667| 0.1180666666666667|-15.472083333333332|0.046516666666666664|127.88575000000002|           0.307325|              43.5|  1|\n",
            "|   1|      abstract beats| 0.3421466666666667|              0.623|          229936.2| 0.5277999999999999|  0.3336026120000001|0.09965333333333334| -7.918000000000001| 0.11637333333333333|          112.4138| 0.4935066666666666| 58.93333333333332| 10|\n",
            "|   1|    abstract hip hop| 0.2438540633608816| 0.6945709366391184|231849.23415977962| 0.6462346418732783|  0.0242312629201102| 0.1685429201101929| -7.349327823691461| 0.21425769972451789|108.24498650137741| 0.5713909090909091| 39.79070247933884|  2|\n",
            "|   0|           accordeon|0.32299999999999995|              0.588|          164000.0|              0.392|               0.441|             0.0794|            -14.899|              0.0727|           109.131| 0.7090000000000001|              39.0|  2|\n",
            "|   1|           accordion|           0.446125|          0.6248125|       167061.5625|          0.3734375|       0.19373839375|             0.1603|        -14.4870625| 0.07853750000000001|       112.8724375| 0.6586875000000001|           21.9375|  2|\n",
            "|   0|          acid house|0.06795053846153845|             0.6774|297188.05384615384| 0.7244030769230769|  0.3858910307692308| 0.2334884615384616| -9.381199999999998| 0.05585538461538461|126.49209230769232| 0.5676769230769231| 46.63846153846154|  7|\n",
            "|   1|           acid rock| 0.2569145079725167| 0.4472389930828895| 259203.9143310266| 0.5806492948018793| 0.15092567737840148| 0.2304514628310576| -11.43307330938882| 0.06759985278233482|125.65952227133604| 0.5344474777454798| 32.67595532906288|  2|\n",
            "|   1|         acid trance|            0.00683| 0.6629999999999999|          221160.0|              0.925|               0.703|              0.185|             -6.775|              0.0449|           132.687|              0.843|              62.0|  9|\n",
            "|   1|          acousmatic| 0.9170191062801932| 0.4204582850241546| 185040.2595531401| 0.2385243417874396|  0.6162484134359903| 0.2610061823671498| -20.96456474637681| 0.08061773913043478|104.07463265700486| 0.3244473852657005| 9.342524154589373|  5|\n",
            "|   1|      acoustic blues|  0.761723539455837| 0.6069147720232645|204321.25087923245| 0.3606592945953496| 0.09891813613614234|0.18309821355287112| -12.55490505937252| 0.06881536422902226|113.28452122830322|  0.633785722320662| 23.74606007693052|  7|\n",
            "|   1|        acoustic pop| 0.4902350260381985| 0.5351083171521532|235379.78355519095| 0.4764399220103099|0.033338280109024794| 0.1577504987283953| -9.297247893173367| 0.04177066481431856|117.88741975150835| 0.3794153530026807| 53.11550474564842|  7|\n",
            "|   1|       acoustic punk| 0.4049000220385675| 0.5391115702479339|192332.11845730024| 0.6158241505968779|0.061939951303948575|0.20948062442607893| -8.010774104683195| 0.06357052341597796|122.30848852157943| 0.7305188246097337| 40.37649219467401|  9|\n",
            "|   1|       acoustic rock| 0.6132007936507936| 0.5243968253968254|          195036.0| 0.4160026455026456| 0.32147492174603176|0.14051838624338622| -10.54062037037037| 0.03468108465608465| 122.6556626984127| 0.3802986772486773| 51.10978835978836|  7|\n",
            "|   0|         action rock|              0.229|              0.412|          198400.0|              0.938|             2.59E-4|              0.106|             -0.253|               0.182|            97.489|               0.32|              47.0|  4|\n",
            "|   1|           adoracion| 0.4328571428571428| 0.5047142857142857| 302906.0714285714| 0.5207499999999999|                 0.0|0.31598571428571426| -8.010071428571429|0.038203571428571434| 130.7106785714286| 0.3115714285714285| 46.39285714285714|  9|\n",
            "+----+--------------------+-------------------+-------------------+------------------+-------------------+--------------------+-------------------+-------------------+--------------------+------------------+-------------------+------------------+---+\n",
            "only showing top 20 rows\n",
            "\n"
          ]
        }
      ]
    },
    {
      "cell_type": "code",
      "source": [
        "dados_generos.count()"
      ],
      "metadata": {
        "colab": {
          "base_uri": "https://localhost:8080/"
        },
        "id": "eSJQXm1M584Z",
        "outputId": "feb263c6-6eb5-480a-fe54-d364d7497f51"
      },
      "execution_count": 29,
      "outputs": [
        {
          "output_type": "execute_result",
          "data": {
            "text/plain": [
              "2973"
            ]
          },
          "metadata": {},
          "execution_count": 29
        }
      ]
    },
    {
      "cell_type": "code",
      "source": [
        "# distinct tambem é uma funcao por iss o uso do ()\n",
        "dados_generos.select('genres').distinct().count()"
      ],
      "metadata": {
        "colab": {
          "base_uri": "https://localhost:8080/"
        },
        "id": "flslrOw16SDS",
        "outputId": "6d7770bc-6ba6-49bf-f97d-6227e4c610f0"
      },
      "execution_count": 30,
      "outputs": [
        {
          "output_type": "execute_result",
          "data": {
            "text/plain": [
              "2973"
            ]
          },
          "metadata": {},
          "execution_count": 30
        }
      ]
    },
    {
      "cell_type": "code",
      "source": [
        "len(dados_generos.columns)"
      ],
      "metadata": {
        "colab": {
          "base_uri": "https://localhost:8080/"
        },
        "id": "9p0UoCaU6aWx",
        "outputId": "f776a68f-aa5b-4aad-b689-677f6d638cc9"
      },
      "execution_count": 31,
      "outputs": [
        {
          "output_type": "execute_result",
          "data": {
            "text/plain": [
              "14"
            ]
          },
          "metadata": {},
          "execution_count": 31
        }
      ]
    },
    {
      "cell_type": "code",
      "source": [
        "\n",
        "from pyspark.ml.feature import VectorAssembler\n",
        "\n",
        "dados_generos.columns\n"
      ],
      "metadata": {
        "colab": {
          "base_uri": "https://localhost:8080/"
        },
        "id": "Qqt4tqd96kqg",
        "outputId": "8bb5f93e-1515-4caa-b09a-efce3d9b000f"
      },
      "execution_count": 33,
      "outputs": [
        {
          "output_type": "execute_result",
          "data": {
            "text/plain": [
              "['mode',\n",
              " 'genres',\n",
              " 'acousticness',\n",
              " 'danceability',\n",
              " 'duration_ms',\n",
              " 'energy',\n",
              " 'instrumentalness',\n",
              " 'liveness',\n",
              " 'loudness',\n",
              " 'speechiness',\n",
              " 'tempo',\n",
              " 'valence',\n",
              " 'popularity',\n",
              " 'key']"
            ]
          },
          "metadata": {},
          "execution_count": 33
        }
      ]
    },
    {
      "cell_type": "code",
      "source": [
        "X = dados_generos.columns\n",
        "X.remove('genres')\n",
        "X"
      ],
      "metadata": {
        "colab": {
          "base_uri": "https://localhost:8080/"
        },
        "id": "ObIYpg7t72XM",
        "outputId": "92588ad9-d386-4997-b3a3-bf7ba3e57f2b"
      },
      "execution_count": 34,
      "outputs": [
        {
          "output_type": "execute_result",
          "data": {
            "text/plain": [
              "['mode',\n",
              " 'acousticness',\n",
              " 'danceability',\n",
              " 'duration_ms',\n",
              " 'energy',\n",
              " 'instrumentalness',\n",
              " 'liveness',\n",
              " 'loudness',\n",
              " 'speechiness',\n",
              " 'tempo',\n",
              " 'valence',\n",
              " 'popularity',\n",
              " 'key']"
            ]
          },
          "metadata": {},
          "execution_count": 34
        }
      ]
    },
    {
      "cell_type": "code",
      "source": [
        "dados_generos_vector = VectorAssembler(inputCols=X, outputCol='features').transform(dados_generos).select(['features', 'genres'])"
      ],
      "metadata": {
        "id": "N2IbmHor8A6G"
      },
      "execution_count": 35,
      "outputs": []
    },
    {
      "cell_type": "code",
      "source": [
        "# o truncate mostraria TUDO mas vamos dr um limitador de 5 apenas\n",
        "dados_generos_vector.show(truncate=False, n=5)"
      ],
      "metadata": {
        "colab": {
          "base_uri": "https://localhost:8080/"
        },
        "id": "RkJs6O8Y8Qv-",
        "outputId": "04a539b2-9740-441a-f249-e742ea5beb56"
      },
      "execution_count": 37,
      "outputs": [
        {
          "output_type": "stream",
          "name": "stdout",
          "text": [
            "+---------------------------------------------------------------------------------------------------------------------------------------------------------------------------------------------------------------------------+----------------------+\n",
            "|features                                                                                                                                                                                                                   |genres                |\n",
            "+---------------------------------------------------------------------------------------------------------------------------------------------------------------------------------------------------------------------------+----------------------+\n",
            "|[1.0,0.9793333333333332,0.16288333333333335,160297.66666666663,0.07131666666666665,0.60683367,0.3616,-31.514333333333337,0.04056666666666667,75.3365,0.10378333333333334,27.83333333333333,6.0]                            |21st century classical|\n",
            "|[1.0,0.49478,0.2993333333333333,1048887.333333333,0.4506783333333333,0.4777616666666668,0.131,-16.854,0.07681666666666667,120.28566666666666,0.22175,52.5,5.0]                                                             |432hz                 |\n",
            "|[1.0,0.762,0.7120000000000001,115177.0,0.818,0.8759999999999999,0.126,-9.18,0.047,133.444,0.975,48.0,7.0]                                                                                                                  |8-bit                 |\n",
            "|[1.0,0.6514170195595453,0.5290925603549332,232880.8902503945,0.4191460727353524,0.2053091895111363,0.21869585415040735,-12.288964675489455,0.10787155868681396,112.8573524318416,0.5136042963588958,20.859882191849056,7.0]|[]                    |\n",
            "|[1.0,0.676557304985755,0.5389612464387464,190628.5408867521,0.3164335701566952,0.003003441440420227,0.1722541371082621,-12.479387421652426,0.08285143981481483,112.1103620014245,0.44824865455840457,45.82007122507122,7.0]|a cappella            |\n",
            "+---------------------------------------------------------------------------------------------------------------------------------------------------------------------------------------------------------------------------+----------------------+\n",
            "only showing top 5 rows\n",
            "\n"
          ]
        }
      ]
    },
    {
      "cell_type": "code",
      "source": [
        "from pyspark.ml.feature import StandardScaler"
      ],
      "metadata": {
        "id": "DehpZqlS8Ua2"
      },
      "execution_count": 38,
      "outputs": []
    },
    {
      "cell_type": "code",
      "source": [
        "scaler = StandardScaler(inputCol='features', outputCol='scaled_features')\n",
        "scaler_model = scaler.fit(dados_generos_vector)\n",
        "dados_generos_scaler = scaler_model.transform(dados_generos_vector)"
      ],
      "metadata": {
        "id": "HTZOrRfg8pDc"
      },
      "execution_count": 40,
      "outputs": []
    },
    {
      "cell_type": "code",
      "source": [
        "dados_generos_scaler.show()"
      ],
      "metadata": {
        "colab": {
          "base_uri": "https://localhost:8080/"
        },
        "id": "p12nCd_W9LMw",
        "outputId": "8db7898d-1caa-4e7c-e02c-3a1d26a6167d"
      },
      "execution_count": 41,
      "outputs": [
        {
          "output_type": "stream",
          "name": "stdout",
          "text": [
            "+--------------------+--------------------+--------------------+\n",
            "|            features|              genres|     scaled_features|\n",
            "+--------------------+--------------------+--------------------+\n",
            "|[1.0,0.9793333333...|21st century clas...|[2.68174831000279...|\n",
            "|[1.0,0.49478,0.29...|               432hz|[2.68174831000279...|\n",
            "|[1.0,0.762,0.7120...|               8-bit|[2.68174831000279...|\n",
            "|[1.0,0.6514170195...|                  []|[2.68174831000279...|\n",
            "|[1.0,0.6765573049...|          a cappella|[2.68174831000279...|\n",
            "|[1.0,0.45921,0.51...|            abstract|[2.68174831000279...|\n",
            "|[1.0,0.3421466666...|      abstract beats|[2.68174831000279...|\n",
            "|[1.0,0.2438540633...|    abstract hip hop|[2.68174831000279...|\n",
            "|[0.0,0.3229999999...|           accordeon|[0.0,1.0101313736...|\n",
            "|[1.0,0.446125,0.6...|           accordion|[2.68174831000279...|\n",
            "|[0.0,0.0679505384...|          acid house|[0.0,0.2125045534...|\n",
            "|[1.0,0.2569145079...|           acid rock|[2.68174831000279...|\n",
            "|[1.0,0.00683,0.66...|         acid trance|[2.68174831000279...|\n",
            "|[1.0,0.9170191062...|          acousmatic|[2.68174831000279...|\n",
            "|[1.0,0.7617235394...|      acoustic blues|[2.68174831000279...|\n",
            "|[1.0,0.4902350260...|        acoustic pop|[2.68174831000279...|\n",
            "|[1.0,0.4049000220...|       acoustic punk|[2.68174831000279...|\n",
            "|[1.0,0.6132007936...|       acoustic rock|[2.68174831000279...|\n",
            "|[0.0,0.229,0.412,...|         action rock|[0.0,0.7161612525...|\n",
            "|[1.0,0.4328571428...|           adoracion|[2.68174831000279...|\n",
            "+--------------------+--------------------+--------------------+\n",
            "only showing top 20 rows\n",
            "\n"
          ]
        }
      ]
    },
    {
      "cell_type": "code",
      "source": [
        "from pyspark.ml.feature import PCA"
      ],
      "metadata": {
        "id": "_Q1qpr2aNlXI"
      },
      "execution_count": 52,
      "outputs": []
    },
    {
      "cell_type": "code",
      "source": [
        "\n",
        "pca = PCA(k=2, inputCol='scaled_features', outputCol='pca_features')\n",
        "model_pca = pca.fit(dados_generos_scaler)\n",
        "dados_generos_pca = model_pca.transform(dados_generos_scaler)"
      ],
      "metadata": {
        "id": "t80i9rZLRS89"
      },
      "execution_count": 53,
      "outputs": []
    },
    {
      "cell_type": "code",
      "source": [
        "# o .select () seleciona apenas  coluna desejada\n",
        "dados_generos_pca.select('pca_features').show(truncate=False)"
      ],
      "metadata": {
        "colab": {
          "base_uri": "https://localhost:8080/"
        },
        "id": "YoVz7X_sRfgM",
        "outputId": "2920048b-9711-43ac-bca0-dcc0c08a11b6"
      },
      "execution_count": 56,
      "outputs": [
        {
          "output_type": "stream",
          "name": "stdout",
          "text": [
            "+------------------------------------------+\n",
            "|pca_features                              |\n",
            "+------------------------------------------+\n",
            "|[2.507095366888567,0.43816913737697955]   |\n",
            "|[-0.5969679056633486,4.981612052751347]   |\n",
            "|[-4.158460276223561,-0.8366525081079937]  |\n",
            "|[-2.387344878512217,-0.4877989015663406]  |\n",
            "|[-2.6501218371679083,-0.5756819768820469] |\n",
            "|[-1.4965091203367624,1.8644183183717793]  |\n",
            "|[-3.9235207721573238,0.2851835002352834]  |\n",
            "|[-4.611011109831115,-0.6783790472312372]  |\n",
            "|[-2.8376900630842297,-0.5712993716580518] |\n",
            "|[-2.706690139892783,-1.2593788079708297]  |\n",
            "|[-4.698331383924287,1.276556968061945]    |\n",
            "|[-3.3759874966798677,0.756074106430747]   |\n",
            "|[-5.608998877066021,1.0427311644393216]   |\n",
            "|[0.29549463521176883,-0.27638645862363015]|\n",
            "|[-2.5725591062870423,-1.3169815431109795] |\n",
            "|[-3.400822802049345,0.5073029625781902]   |\n",
            "|[-4.366720316263418,-0.33648270597710866] |\n",
            "|[-2.7254698167724003,0.5058604987046368]  |\n",
            "|[-4.958112358381606,1.2627579957290729]   |\n",
            "|[-3.693495184642272,1.382276206533545]    |\n",
            "+------------------------------------------+\n",
            "only showing top 20 rows\n",
            "\n"
          ]
        }
      ]
    },
    {
      "cell_type": "code",
      "source": [
        "from pyspark.ml import Pipeline"
      ],
      "metadata": {
        "id": "IP9g7kqORk0D"
      },
      "execution_count": 57,
      "outputs": []
    },
    {
      "cell_type": "code",
      "source": [
        "# aqui colocamos todos os imports que fizemos para serem as pilelines\n",
        "pca_pipeline = Pipeline(stages=[VectorAssembler(inputCols=X, outputCol='features'),\n",
        "                                StandardScaler(inputCol='features', outputCol='scaled_features'),\n",
        "                                PCA(k=2, inputCol='scaled_features', outputCol='pca_features')])"
      ],
      "metadata": {
        "id": "uEBbvOzHSD3h"
      },
      "execution_count": 58,
      "outputs": []
    },
    {
      "cell_type": "code",
      "source": [
        "#.fit seria pr ajustar os dados crus ja feitos acima\n",
        "pca_pipeline_model = pca_pipeline.fit(dados_generos)"
      ],
      "metadata": {
        "id": "jWJoDSa3Scak"
      },
      "execution_count": 59,
      "outputs": []
    },
    {
      "cell_type": "code",
      "source": [
        "#para a transformação dos dados, adicionaremos .transform()\n",
        "dados_generos_pca = pca_pipeline_model.transform(dados_generos)"
      ],
      "metadata": {
        "id": "DlhLDWljSr9F"
      },
      "execution_count": 61,
      "outputs": []
    },
    {
      "cell_type": "code",
      "source": [
        "dados_generos_pca.show()"
      ],
      "metadata": {
        "colab": {
          "base_uri": "https://localhost:8080/"
        },
        "id": "seuAUznxTDKM",
        "outputId": "fef675cb-4d63-48fa-b102-81f50ea6898a"
      },
      "execution_count": 62,
      "outputs": [
        {
          "output_type": "stream",
          "name": "stdout",
          "text": [
            "+----+--------------------+-------------------+-------------------+------------------+-------------------+--------------------+-------------------+-------------------+--------------------+------------------+-------------------+------------------+---+--------------------+--------------------+--------------------+\n",
            "|mode|              genres|       acousticness|       danceability|       duration_ms|             energy|    instrumentalness|           liveness|           loudness|         speechiness|             tempo|            valence|        popularity|key|            features|     scaled_features|        pca_features|\n",
            "+----+--------------------+-------------------+-------------------+------------------+-------------------+--------------------+-------------------+-------------------+--------------------+------------------+-------------------+------------------+---+--------------------+--------------------+--------------------+\n",
            "|   1|21st century clas...| 0.9793333333333332|0.16288333333333335|160297.66666666663|0.07131666666666665|          0.60683367|             0.3616|-31.514333333333337| 0.04056666666666667|           75.3365|0.10378333333333334| 27.83333333333333|  6|[1.0,0.9793333333...|[2.68174831000279...|[2.50709536688856...|\n",
            "|   1|               432hz|            0.49478| 0.2993333333333333| 1048887.333333333| 0.4506783333333333|  0.4777616666666668|              0.131|            -16.854| 0.07681666666666667|120.28566666666666|            0.22175|              52.5|  5|[1.0,0.49478,0.29...|[2.68174831000279...|[-0.5969679056633...|\n",
            "|   1|               8-bit|              0.762| 0.7120000000000001|          115177.0|              0.818|  0.8759999999999999|              0.126|              -9.18|               0.047|           133.444|              0.975|              48.0|  7|[1.0,0.762,0.7120...|[2.68174831000279...|[-4.1584602762235...|\n",
            "|   1|                  []| 0.6514170195595453| 0.5290925603549332| 232880.8902503945| 0.4191460727353524|  0.2053091895111363|0.21869585415040735|-12.288964675489455| 0.10787155868681396| 112.8573524318416| 0.5136042963588958|20.859882191849056|  7|[1.0,0.6514170195...|[2.68174831000279...|[-2.3873448785122...|\n",
            "|   1|          a cappella|  0.676557304985755| 0.5389612464387464| 190628.5408867521| 0.3164335701566952|0.003003441440420227| 0.1722541371082621|-12.479387421652426| 0.08285143981481483| 112.1103620014245|0.44824865455840457| 45.82007122507122|  7|[1.0,0.6765573049...|[2.68174831000279...|[-2.6501218371679...|\n",
            "|   1|            abstract|            0.45921| 0.5161666666666667|          343196.5| 0.4424166666666666|  0.8496666666666667| 0.1180666666666667|-15.472083333333332|0.046516666666666664|127.88575000000002|           0.307325|              43.5|  1|[1.0,0.45921,0.51...|[2.68174831000279...|[-1.4965091203367...|\n",
            "|   1|      abstract beats| 0.3421466666666667|              0.623|          229936.2| 0.5277999999999999|  0.3336026120000001|0.09965333333333334| -7.918000000000001| 0.11637333333333333|          112.4138| 0.4935066666666666| 58.93333333333332| 10|[1.0,0.3421466666...|[2.68174831000279...|[-3.9235207721573...|\n",
            "|   1|    abstract hip hop| 0.2438540633608816| 0.6945709366391184|231849.23415977962| 0.6462346418732783|  0.0242312629201102| 0.1685429201101929| -7.349327823691461| 0.21425769972451789|108.24498650137741| 0.5713909090909091| 39.79070247933884|  2|[1.0,0.2438540633...|[2.68174831000279...|[-4.6110111098311...|\n",
            "|   0|           accordeon|0.32299999999999995|              0.588|          164000.0|              0.392|               0.441|             0.0794|            -14.899|              0.0727|           109.131| 0.7090000000000001|              39.0|  2|[0.0,0.3229999999...|[0.0,1.0101313736...|[-2.8376900630842...|\n",
            "|   1|           accordion|           0.446125|          0.6248125|       167061.5625|          0.3734375|       0.19373839375|             0.1603|        -14.4870625| 0.07853750000000001|       112.8724375| 0.6586875000000001|           21.9375|  2|[1.0,0.446125,0.6...|[2.68174831000279...|[-2.7066901398927...|\n",
            "|   0|          acid house|0.06795053846153845|             0.6774|297188.05384615384| 0.7244030769230769|  0.3858910307692308| 0.2334884615384616| -9.381199999999998| 0.05585538461538461|126.49209230769232| 0.5676769230769231| 46.63846153846154|  7|[0.0,0.0679505384...|[0.0,0.2125045534...|[-4.6983313839242...|\n",
            "|   1|           acid rock| 0.2569145079725167| 0.4472389930828895| 259203.9143310266| 0.5806492948018793| 0.15092567737840148| 0.2304514628310576| -11.43307330938882| 0.06759985278233482|125.65952227133604| 0.5344474777454798| 32.67595532906288|  2|[1.0,0.2569145079...|[2.68174831000279...|[-3.3759874966798...|\n",
            "|   1|         acid trance|            0.00683| 0.6629999999999999|          221160.0|              0.925|               0.703|              0.185|             -6.775|              0.0449|           132.687|              0.843|              62.0|  9|[1.0,0.00683,0.66...|[2.68174831000279...|[-5.6089988770660...|\n",
            "|   1|          acousmatic| 0.9170191062801932| 0.4204582850241546| 185040.2595531401| 0.2385243417874396|  0.6162484134359903| 0.2610061823671498| -20.96456474637681| 0.08061773913043478|104.07463265700486| 0.3244473852657005| 9.342524154589373|  5|[1.0,0.9170191062...|[2.68174831000279...|[0.29549463521176...|\n",
            "|   1|      acoustic blues|  0.761723539455837| 0.6069147720232645|204321.25087923245| 0.3606592945953496| 0.09891813613614234|0.18309821355287112| -12.55490505937252| 0.06881536422902226|113.28452122830322|  0.633785722320662| 23.74606007693052|  7|[1.0,0.7617235394...|[2.68174831000279...|[-2.5725591062870...|\n",
            "|   1|        acoustic pop| 0.4902350260381985| 0.5351083171521532|235379.78355519095| 0.4764399220103099|0.033338280109024794| 0.1577504987283953| -9.297247893173367| 0.04177066481431856|117.88741975150835| 0.3794153530026807| 53.11550474564842|  7|[1.0,0.4902350260...|[2.68174831000279...|[-3.4008228020493...|\n",
            "|   1|       acoustic punk| 0.4049000220385675| 0.5391115702479339|192332.11845730024| 0.6158241505968779|0.061939951303948575|0.20948062442607893| -8.010774104683195| 0.06357052341597796|122.30848852157943| 0.7305188246097337| 40.37649219467401|  9|[1.0,0.4049000220...|[2.68174831000279...|[-4.3667203162634...|\n",
            "|   1|       acoustic rock| 0.6132007936507936| 0.5243968253968254|          195036.0| 0.4160026455026456| 0.32147492174603176|0.14051838624338622| -10.54062037037037| 0.03468108465608465| 122.6556626984127| 0.3802986772486773| 51.10978835978836|  7|[1.0,0.6132007936...|[2.68174831000279...|[-2.7254698167724...|\n",
            "|   0|         action rock|              0.229|              0.412|          198400.0|              0.938|             2.59E-4|              0.106|             -0.253|               0.182|            97.489|               0.32|              47.0|  4|[0.0,0.229,0.412,...|[0.0,0.7161612525...|[-4.9581123583816...|\n",
            "|   1|           adoracion| 0.4328571428571428| 0.5047142857142857| 302906.0714285714| 0.5207499999999999|                 0.0|0.31598571428571426| -8.010071428571429|0.038203571428571434| 130.7106785714286| 0.3115714285714285| 46.39285714285714|  9|[1.0,0.4328571428...|[2.68174831000279...|[-3.6934951846422...|\n",
            "+----+--------------------+-------------------+-------------------+------------------+-------------------+--------------------+-------------------+-------------------+--------------------+------------------+-------------------+------------------+---+--------------------+--------------------+--------------------+\n",
            "only showing top 20 rows\n",
            "\n"
          ]
        }
      ]
    },
    {
      "cell_type": "code",
      "source": [
        "dados_generos_pca.select('pca_features').show(truncate=False)"
      ],
      "metadata": {
        "colab": {
          "base_uri": "https://localhost:8080/"
        },
        "id": "b6vZ6LtnTIK4",
        "outputId": "a7994bf2-3395-4905-c79a-10bc28789fa0"
      },
      "execution_count": 64,
      "outputs": [
        {
          "output_type": "stream",
          "name": "stdout",
          "text": [
            "+------------------------------------------+\n",
            "|pca_features                              |\n",
            "+------------------------------------------+\n",
            "|[2.507095366888567,0.43816913737697955]   |\n",
            "|[-0.5969679056633486,4.981612052751347]   |\n",
            "|[-4.158460276223561,-0.8366525081079937]  |\n",
            "|[-2.387344878512217,-0.4877989015663406]  |\n",
            "|[-2.6501218371679083,-0.5756819768820469] |\n",
            "|[-1.4965091203367624,1.8644183183717793]  |\n",
            "|[-3.9235207721573238,0.2851835002352834]  |\n",
            "|[-4.611011109831115,-0.6783790472312372]  |\n",
            "|[-2.8376900630842297,-0.5712993716580518] |\n",
            "|[-2.706690139892783,-1.2593788079708297]  |\n",
            "|[-4.698331383924287,1.276556968061945]    |\n",
            "|[-3.3759874966798677,0.756074106430747]   |\n",
            "|[-5.608998877066021,1.0427311644393216]   |\n",
            "|[0.29549463521176883,-0.27638645862363015]|\n",
            "|[-2.5725591062870423,-1.3169815431109795] |\n",
            "|[-3.400822802049345,0.5073029625781902]   |\n",
            "|[-4.366720316263418,-0.33648270597710866] |\n",
            "|[-2.7254698167724003,0.5058604987046368]  |\n",
            "|[-4.958112358381606,1.2627579957290729]   |\n",
            "|[-3.693495184642272,1.382276206533545]    |\n",
            "+------------------------------------------+\n",
            "only showing top 20 rows\n",
            "\n"
          ]
        }
      ]
    },
    {
      "cell_type": "code",
      "source": [
        "# https://user.ceng.metu.edu.tr/~akifakkus/courses/ceng574/k-means/   < K-Means\n",
        "# Para compreender melhor seu funcionamento\n",
        "from pyspark.ml.clustering import KMeans"
      ],
      "metadata": {
        "id": "W0mQqqxVTRao"
      },
      "execution_count": 65,
      "outputs": []
    },
    {
      "cell_type": "code",
      "source": [
        "SEED = 1224"
      ],
      "metadata": {
        "id": "ARLvCD-RVuy9"
      },
      "execution_count": 66,
      "outputs": []
    },
    {
      "cell_type": "code",
      "source": [
        "# criamos a coluna cluster_pca para usar o algoritimo KMeans\n",
        "kmeans = KMeans(featuresCol='pca_features', predictionCol='cluster_pca').setK(5).setSeed(SEED)"
      ],
      "metadata": {
        "id": "XlmZt8_lU7ob"
      },
      "execution_count": 67,
      "outputs": []
    },
    {
      "cell_type": "code",
      "source": [
        "#.fit para ajustar\n",
        "model_kmeans = kmeans.fit(dados_generos_pca)"
      ],
      "metadata": {
        "id": "8Lf4-7GIWAqV"
      },
      "execution_count": 70,
      "outputs": []
    },
    {
      "cell_type": "code",
      "source": [
        "prections_kmeans = model_kmeans.transform(dados_generos_pca)"
      ],
      "metadata": {
        "id": "7b88hlNYW-eX"
      },
      "execution_count": 72,
      "outputs": []
    },
    {
      "cell_type": "code",
      "source": [
        "prections_kmeans.select('pca_features', 'cluster_pca').show(truncate=False)"
      ],
      "metadata": {
        "colab": {
          "base_uri": "https://localhost:8080/"
        },
        "id": "noh8CNi4WIcl",
        "outputId": "fbafa4d0-c074-4a20-913a-dcf6da50f93d"
      },
      "execution_count": 73,
      "outputs": [
        {
          "output_type": "stream",
          "name": "stdout",
          "text": [
            "+------------------------------------------+-----------+\n",
            "|pca_features                              |cluster_pca|\n",
            "+------------------------------------------+-----------+\n",
            "|[2.507095366888567,0.43816913737697955]   |2          |\n",
            "|[-0.5969679056633486,4.981612052751347]   |2          |\n",
            "|[-4.158460276223561,-0.8366525081079937]  |4          |\n",
            "|[-2.387344878512217,-0.4877989015663406]  |0          |\n",
            "|[-2.6501218371679083,-0.5756819768820469] |0          |\n",
            "|[-1.4965091203367624,1.8644183183717793]  |2          |\n",
            "|[-3.9235207721573238,0.2851835002352834]  |4          |\n",
            "|[-4.611011109831115,-0.6783790472312372]  |1          |\n",
            "|[-2.8376900630842297,-0.5712993716580518] |4          |\n",
            "|[-2.706690139892783,-1.2593788079708297]  |0          |\n",
            "|[-4.698331383924287,1.276556968061945]    |3          |\n",
            "|[-3.3759874966798677,0.756074106430747]   |4          |\n",
            "|[-5.608998877066021,1.0427311644393216]   |1          |\n",
            "|[0.29549463521176883,-0.27638645862363015]|2          |\n",
            "|[-2.5725591062870423,-1.3169815431109795] |0          |\n",
            "|[-3.400822802049345,0.5073029625781902]   |4          |\n",
            "|[-4.366720316263418,-0.33648270597710866] |4          |\n",
            "|[-2.7254698167724003,0.5058604987046368]  |4          |\n",
            "|[-4.958112358381606,1.2627579957290729]   |3          |\n",
            "|[-3.693495184642272,1.382276206533545]    |3          |\n",
            "+------------------------------------------+-----------+\n",
            "only showing top 20 rows\n",
            "\n"
          ]
        }
      ]
    },
    {
      "cell_type": "code",
      "source": [
        "#transformando vector em array\n",
        "from pyspark.ml.functions import vector_to_array\n"
      ],
      "metadata": {
        "id": "x9U31Yyor8xF"
      },
      "execution_count": 75,
      "outputs": []
    },
    {
      "cell_type": "code",
      "source": [
        "prections_kmeans.withColumn('x', vector_to_array('pca_features')[0])\\\n",
        "                .withColumn('y', vector_to_array('pca_features')[1])\\\n",
        "                .select(['x', 'y', 'cluster_pca', 'genres'])"
      ],
      "metadata": {
        "colab": {
          "base_uri": "https://localhost:8080/"
        },
        "id": "iK5RLAOkv5vh",
        "outputId": "ad989335-4cfc-4819-fffa-85489b5ee410"
      },
      "execution_count": 76,
      "outputs": [
        {
          "output_type": "execute_result",
          "data": {
            "text/plain": [
              "DataFrame[x: double, y: double, cluster_pca: int, genres: string]"
            ]
          },
          "metadata": {},
          "execution_count": 76
        }
      ]
    },
    {
      "cell_type": "code",
      "source": [
        "pca_features_xy = prections_kmeans.withColumn('x', vector_to_array('pca_features')[0])\\\n",
        "                .withColumn('y', vector_to_array('pca_features')[1])\\\n",
        "                .select(['x', 'y', 'cluster_pca', 'genres'])\n"
      ],
      "metadata": {
        "id": "I7ea-k-bwNwj"
      },
      "execution_count": 77,
      "outputs": []
    },
    {
      "cell_type": "code",
      "source": [
        "pca_features_xy.show()"
      ],
      "metadata": {
        "colab": {
          "base_uri": "https://localhost:8080/"
        },
        "id": "KyY0NVv-wQlG",
        "outputId": "44182a19-bb05-40b8-b0a4-2cd51faafeff"
      },
      "execution_count": 78,
      "outputs": [
        {
          "output_type": "stream",
          "name": "stdout",
          "text": [
            "+-------------------+--------------------+-----------+--------------------+\n",
            "|                  x|                   y|cluster_pca|              genres|\n",
            "+-------------------+--------------------+-----------+--------------------+\n",
            "|  2.507095366888567| 0.43816913737697955|          2|21st century clas...|\n",
            "|-0.5969679056633486|   4.981612052751347|          2|               432hz|\n",
            "| -4.158460276223561| -0.8366525081079937|          4|               8-bit|\n",
            "| -2.387344878512217| -0.4877989015663406|          0|                  []|\n",
            "|-2.6501218371679083| -0.5756819768820469|          0|          a cappella|\n",
            "|-1.4965091203367624|  1.8644183183717793|          2|            abstract|\n",
            "|-3.9235207721573238|  0.2851835002352834|          4|      abstract beats|\n",
            "| -4.611011109831115| -0.6783790472312372|          1|    abstract hip hop|\n",
            "|-2.8376900630842297| -0.5712993716580518|          4|           accordeon|\n",
            "| -2.706690139892783| -1.2593788079708297|          0|           accordion|\n",
            "| -4.698331383924287|   1.276556968061945|          3|          acid house|\n",
            "|-3.3759874966798677|   0.756074106430747|          4|           acid rock|\n",
            "| -5.608998877066021|  1.0427311644393216|          1|         acid trance|\n",
            "|0.29549463521176883|-0.27638645862363015|          2|          acousmatic|\n",
            "|-2.5725591062870423| -1.3169815431109795|          0|      acoustic blues|\n",
            "| -3.400822802049345|  0.5073029625781902|          4|        acoustic pop|\n",
            "| -4.366720316263418|-0.33648270597710866|          4|       acoustic punk|\n",
            "|-2.7254698167724003|  0.5058604987046368|          4|       acoustic rock|\n",
            "| -4.958112358381606|  1.2627579957290729|          3|         action rock|\n",
            "| -3.693495184642272|   1.382276206533545|          3|           adoracion|\n",
            "+-------------------+--------------------+-----------+--------------------+\n",
            "only showing top 20 rows\n",
            "\n"
          ]
        }
      ]
    },
    {
      "cell_type": "code",
      "source": [
        "fig = px.scatter(pca_features_xy.toPandas(), x='x', y='y', color='cluster_pca', hover_data=['x', 'y', 'genres'])\n",
        "fig.show()"
      ],
      "metadata": {
        "colab": {
          "base_uri": "https://localhost:8080/",
          "height": 542
        },
        "id": "t46xgxltwUYJ",
        "outputId": "e61f68e7-5edb-4aa5-8547-765aa44810bf"
      },
      "execution_count": 79,
      "outputs": [
        {
          "output_type": "display_data",
          "data": {
            "text/html": [
              "<html>\n",
              "<head><meta charset=\"utf-8\" /></head>\n",
              "<body>\n",
              "    <div>            <script src=\"https://cdnjs.cloudflare.com/ajax/libs/mathjax/2.7.5/MathJax.js?config=TeX-AMS-MML_SVG\"></script><script type=\"text/javascript\">if (window.MathJax && window.MathJax.Hub && window.MathJax.Hub.Config) {window.MathJax.Hub.Config({SVG: {font: \"STIX-Web\"}});}</script>                <script type=\"text/javascript\">window.PlotlyConfig = {MathJaxConfig: 'local'};</script>\n",
              "        <script src=\"https://cdn.plot.ly/plotly-2.18.2.min.js\"></script>                <div id=\"8cd5968d-367d-4404-a145-7045864643ec\" class=\"plotly-graph-div\" style=\"height:525px; width:100%;\"></div>            <script type=\"text/javascript\">                                    window.PLOTLYENV=window.PLOTLYENV || {};                                    if (document.getElementById(\"8cd5968d-367d-4404-a145-7045864643ec\")) {                    Plotly.newPlot(                        \"8cd5968d-367d-4404-a145-7045864643ec\",                        [{\"customdata\":[[\"21st century classical\"],[\"432hz\"],[\"8-bit\"],[\"[]\"],[\"a cappella\"],[\"abstract\"],[\"abstract beats\"],[\"abstract hip hop\"],[\"accordeon\"],[\"accordion\"],[\"acid house\"],[\"acid rock\"],[\"acid trance\"],[\"acousmatic\"],[\"acoustic blues\"],[\"acoustic pop\"],[\"acoustic punk\"],[\"acoustic rock\"],[\"action rock\"],[\"adoracion\"],[\"adult standards\"],[\"adventista\"],[\"afghan pop\"],[\"afghan traditional\"],[\"african percussion\"],[\"african reggae\"],[\"african rock\"],[\"african-american classical\"],[\"afro dancehall\"],[\"afro house\"],[\"afro psych\"],[\"afro soul\"],[\"afro-funk\"],[\"afrobeat\"],[\"afrofuturism\"],[\"afrofuturismo brasileiro\"],[\"afropop\"],[\"afroswing\"],[\"aggrotech\"],[\"alabama indie\"],[\"alabama metal\"],[\"alabama rap\"],[\"alaska indie\"],[\"albanian pop\"],[\"albany ny indie\"],[\"alberta country\"],[\"alberta hip hop\"],[\"album rock\"],[\"albuquerque indie\"],[\"alt-idol\"],[\"alte\"],[\"alternative americana\"],[\"alternative country\"],[\"alternative dance\"],[\"alternative emo\"],[\"alternative hip hop\"],[\"alternative metal\"],[\"alternative pop\"],[\"alternative pop rock\"],[\"alternative r&b\"],[\"alternative rock\"],[\"alternative roots rock\"],[\"ambeat\"],[\"ambient\"],[\"ambient black metal\"],[\"ambient folk\"],[\"ambient house\"],[\"ambient idm\"],[\"ambient industrial\"],[\"ambient pop\"],[\"ambient techno\"],[\"ambient worship\"],[\"american 21st century classical\"],[\"american choir\"],[\"american classical piano\"],[\"american contemporary classical\"],[\"american early music\"],[\"american folk revival\"],[\"american metalcore\"],[\"american modern classical\"],[\"american oi\"],[\"american orchestra\"],[\"american post-rock\"],[\"american primitive\"],[\"american romanticism\"],[\"american shoegaze\"],[\"anadolu rock\"],[\"anarcho-punk\"],[\"anglican liturgy\"],[\"animal singing\"],[\"anime\"],[\"anime latino\"],[\"anime rock\"],[\"anime score\"],[\"ann arbor indie\"],[\"anthem emo\"],[\"anthem worship\"],[\"anti-folk\"],[\"antilliaanse folklore\"],[\"antiviral pop\"],[\"appalachian folk\"],[\"arab folk\"],[\"arab groove\"],[\"arab pop\"],[\"arabesk\"],[\"arabic hip hop\"],[\"arabic jazz\"],[\"argentine ambient\"],[\"argentine hardcore\"],[\"argentine heavy metal\"],[\"argentine hip hop\"],[\"argentine indie\"],[\"argentine metal\"],[\"argentine punk\"],[\"argentine reggae\"],[\"argentine rock\"],[\"argentine telepop\"],[\"arizona punk\"],[\"arkansas country\"],[\"arkansas hip hop\"],[\"arkansas indie\"],[\"armenian folk\"],[\"art pop\"],[\"art punk\"],[\"art rock\"],[\"art song\"],[\"asbury park indie\"],[\"asheville indie\"],[\"asian american hip hop\"],[\"asmr\"],[\"athens indie\"],[\"atl hip hop\"],[\"atl trap\"],[\"atlanta indie\"],[\"atlanta metal\"],[\"atlanta punk\"],[\"atmosphere\"],[\"atmospheric black metal\"],[\"atmospheric dnb\"],[\"atmospheric post-metal\"],[\"atmospheric post-rock\"],[\"atmospheric sludge\"],[\"auckland indie\"],[\"audiophile vocal\"],[\"aussietronica\"],[\"austin americana\"],[\"austin singer-songwriter\"],[\"austindie\"],[\"australian alternative pop\"],[\"australian alternative rock\"],[\"australian ambient\"],[\"australian children's music\"],[\"australian choir\"],[\"australian classical\"],[\"australian classical piano\"],[\"australian country\"],[\"australian dance\"],[\"australian electropop\"],[\"australian garage punk\"],[\"australian hip hop\"],[\"australian house\"],[\"australian indie\"],[\"australian indie folk\"],[\"australian indie rock\"],[\"australian indigenous\"],[\"australian metal\"],[\"australian metalcore\"],[\"australian pop\"],[\"australian post-hardcore\"],[\"australian post-punk\"],[\"australian psych\"],[\"australian r&b\"],[\"australian reggae fusion\"],[\"australian rock\"],[\"australian singer-songwriter\"],[\"australian ska\"],[\"australian talent show\"],[\"australian trap\"],[\"australian underground hip hop\"],[\"austrian choir\"],[\"austrian classical piano\"],[\"austrian orchestra\"],[\"austrian pop\"],[\"austro-german modernism\"],[\"austropop\"],[\"autoharp\"],[\"autonomous black metal\"],[\"avant-garde\"],[\"avant-garde jazz\"],[\"avant-garde metal\"],[\"axe\"],[\"azeri traditional\"],[\"azonto\"],[\"azontobeats\"],[\"bachata\"],[\"bachata dominicana\"],[\"background music\"],[\"background piano\"],[\"baglama\"],[\"bahai\"],[\"bahamian folk\"],[\"bahamian pop\"],[\"baiao\"],[\"bajki\"],[\"bakersfield sound\"],[\"balearic\"],[\"balkan brass\"],[\"balkan classical piano\"],[\"ballet class\"],[\"ballroom\"],[\"baltic classical\"],[\"baltimore hip hop\"],[\"baltimore indie\"],[\"banda\"],[\"banda caliente\"],[\"banda carnavalera\"],[\"bandinhas\"],[\"bandolim\"],[\"bandoneon\"],[\"bangla\"],[\"banjo\"],[\"bansuri\"],[\"barbadian pop\"],[\"barbershop\"],[\"bard\"],[\"barnmusik\"],[\"barockinterpreten\"],[\"baroque\"],[\"baroque brass\"],[\"baroque ensemble\"],[\"baroque pop\"],[\"baroque singing\"],[\"baroque violin\"],[\"baroque woodwind\"],[\"bass house\"],[\"bass music\"],[\"bass trap\"],[\"basshall\"],[\"bassline\"],[\"bath indie\"],[\"baton rouge indie\"],[\"baton rouge rap\"],[\"battle rap\"],[\"bay area hip hop\"],[\"bay area indie\"],[\"bboy\"],[\"bc underground hip hop\"],[\"beach music\"],[\"beat italiano\"],[\"beat poetry\"],[\"beatboxing\"],[\"beatlesque\"],[\"bebop\"],[\"bedroom pop\"],[\"bedroom soul\"],[\"belarusian indie\"],[\"belarusian pop\"],[\"belarusian rock\"],[\"belgian classical piano\"],[\"belgian contemporary classical\"],[\"belgian dance\"],[\"belgian edm\"],[\"belgian hardcore\"],[\"belgian indie\"],[\"belgian indie rock\"],[\"belgian jazz\"],[\"belgian new wave\"],[\"belgian pop\"],[\"belgian rock\"],[\"belgian singer-songwriter\"],[\"belgian techno\"],[\"belly dance\"],[\"bengali folk\"],[\"beninese pop\"],[\"bergen indie\"],[\"berlin minimal techno\"],[\"berlin school\"],[\"bhajan\"],[\"bhangra\"],[\"bible\"],[\"big band\"],[\"big beat\"],[\"big room\"],[\"binaural\"],[\"birdsong\"],[\"birmingham grime\"],[\"birmingham hip hop\"],[\"birmingham metal\"],[\"bitpop\"],[\"black 'n' roll\"],[\"black comedy\"],[\"black metal\"],[\"black punk\"],[\"black thrash\"],[\"blackened crust\"],[\"blackgaze\"],[\"bleep techno\"],[\"bluegrass\"],[\"bluegrass fiddle\"],[\"bluegrass gospel\"],[\"blues\"],[\"blues latinoamericano\"],[\"blues mexicano\"],[\"blues rock\"],[\"bmore\"],[\"bolero\"],[\"bolero cubano\"],[\"boogaloo\"],[\"boogie\"],[\"boogie-woogie\"],[\"boom bap\"],[\"boom bap brasileiro\"],[\"bossa nova\"],[\"bossa nova jazz\"],[\"boston folk\"],[\"boston hardcore\"],[\"boston hip hop\"],[\"boston indie\"],[\"boston metal\"],[\"boston punk\"],[\"boston rock\"],[\"bounce\"],[\"bouncy house\"],[\"bouzouki\"],[\"bow pop\"],[\"boy band\"],[\"boy pop\"],[\"boy soprano\"],[\"brain waves\"],[\"braindance\"],[\"brass band\"],[\"brass ensemble\"],[\"brass quintet\"],[\"brazilian boogie\"],[\"brazilian classical\"],[\"brazilian classical piano\"],[\"brazilian contemporary classical\"],[\"brazilian edm\"],[\"brazilian groove metal\"],[\"brazilian hip hop\"],[\"brazilian indie\"],[\"brazilian jazz\"],[\"brazilian metal\"],[\"brazilian modern jazz\"],[\"brazilian percussion\"],[\"brazilian punk\"],[\"brazilian reggae\"],[\"brazilian rock\"],[\"brazilian ska\"],[\"brazilian soul\"],[\"brazilian thrash metal\"],[\"breakbeat\"],[\"breakcore\"],[\"brega\"],[\"breton folk\"],[\"brighton indie\"],[\"brill building pop\"],[\"brisbane indie\"],[\"bristol electronic\"],[\"bristol indie\"],[\"brit funk\"],[\"british alternative rock\"],[\"british black metal\"],[\"british blues\"],[\"british children's music\"],[\"british choir\"],[\"british classical piano\"],[\"british comedy\"],[\"british contemporary classical\"],[\"british dance band\"],[\"british death metal\"],[\"british experimental\"],[\"british folk\"],[\"british grindcore\"],[\"british indie rock\"],[\"british industrial\"],[\"british invasion\"],[\"british jazz\"],[\"british modern classical\"],[\"british orchestra\"],[\"british post-rock\"],[\"british power metal\"],[\"british singer-songwriter\"],[\"british soul\"],[\"british soundtrack\"],[\"britpop\"],[\"broadway\"],[\"broken beat\"],[\"bronx hip hop\"],[\"brooklyn drill\"],[\"brooklyn indie\"],[\"brostep\"],[\"brutal death metal\"],[\"brutal deathcore\"],[\"bubble trance\"],[\"bubblegrunge\"],[\"bubblegum dance\"],[\"bubblegum pop\"],[\"buffalo hip hop\"],[\"buffalo ny indie\"],[\"buffalo ny metal\"],[\"bulgarian experimental\"],[\"burmese traditional\"],[\"bush ballad\"],[\"c-pop\"],[\"c86\"],[\"cabaret\"],[\"cajun\"],[\"calgary indie\"],[\"cali rap\"],[\"calming instrumental\"],[\"calypso\"],[\"cambodian rock\"],[\"cambridge choir\"],[\"cambridgeshire indie\"],[\"cameroonian pop\"],[\"canadian americana\"],[\"canadian blues\"],[\"canadian ccm\"],[\"canadian celtic\"],[\"canadian children's music\"],[\"canadian choir\"],[\"canadian classical\"],[\"canadian classical piano\"],[\"canadian comedy\"],[\"canadian contemporary country\"],[\"canadian contemporary r&b\"],[\"canadian country\"],[\"canadian electronic\"],[\"canadian electropop\"],[\"canadian experimental\"],[\"canadian folk\"],[\"canadian hardcore\"],[\"canadian hip hop\"],[\"canadian house\"],[\"canadian indie\"],[\"canadian indie folk\"],[\"canadian indigenous\"],[\"canadian indigenous hip hop\"],[\"canadian latin\"],[\"canadian metal\"],[\"canadian metalcore\"],[\"canadian modern jazz\"],[\"canadian pop\"],[\"canadian pop punk\"],[\"canadian post-hardcore\"],[\"canadian post-rock\"],[\"canadian psychedelic\"],[\"canadian punk\"],[\"canadian rock\"],[\"canadian rockabilly\"],[\"canadian singer-songwriter\"],[\"canadian soundtrack\"],[\"cancion melodica\"],[\"candy pop\"],[\"cantautor\"],[\"cante flamenco\"],[\"canterbury scene\"],[\"canto popular uruguayo\"],[\"cantopop\"],[\"canzone d'autore\"],[\"canzone genovese\"],[\"canzone napoletana\"],[\"cape town indie\"],[\"cape verdean folk\"],[\"capoeira\"],[\"caracas indie\"],[\"carnatic\"],[\"carnatic instrumental\"],[\"carnatic vocal\"],[\"cartoon\"],[\"cathedral choir\"],[\"caucasian classical\"],[\"caucasian classical piano\"],[\"ccm\"],[\"cedm\"],[\"cello\"],[\"celtic\"],[\"celtic harp\"],[\"celtic metal\"],[\"celtic punk\"],[\"celtic rock\"],[\"cha-cha-cha\"],[\"chakra\"],[\"chamame\"],[\"chamber choir\"],[\"chamber ensemble\"],[\"chamber folk\"],[\"chamber orchestra\"],[\"chamber pop\"],[\"chamber psych\"],[\"champeta\"],[\"channel islands indie\"],[\"channel pop\"],[\"chanson\"],[\"chanson paillarde\"],[\"chaotic hardcore\"],[\"charanga\"],[\"charango\"],[\"charlotte nc indie\"],[\"charlottesville indie\"],[\"chattanooga indie\"],[\"chicago blues\"],[\"chicago drill\"],[\"chicago hardcore\"],[\"chicago house\"],[\"chicago indie\"],[\"chicago pop punk\"],[\"chicago punk\"],[\"chicago rap\"],[\"chicago soul\"],[\"chicano punk\"],[\"chicano rap\"],[\"chicha\"],[\"chihuahua indie\"],[\"children's choir\"],[\"children's folk\"],[\"children's music\"],[\"children's story\"],[\"chilean hardcore\"],[\"chilean indie\"],[\"chilean rock\"],[\"chilena\"],[\"chill beats\"],[\"chill guitar\"],[\"chill lounge\"],[\"chill out\"],[\"chill pop\"],[\"chill r&b\"],[\"chillhop\"],[\"chillstep\"],[\"chillwave\"],[\"chinese audiophile\"],[\"chinese classical\"],[\"chinese classical performance\"],[\"chinese classical piano\"],[\"chinese electropop\"],[\"chinese hip hop\"],[\"chinese idol pop\"],[\"chinese indie\"],[\"chinese indie rock\"],[\"chinese instrumental\"],[\"chinese jazz\"],[\"chinese r&b\"],[\"chinese soundtrack\"],[\"chinese traditional\"],[\"chiptune\"],[\"chopped and screwed\"],[\"choral\"],[\"choro\"],[\"christchurch indie\"],[\"christelijk\"],[\"christian a cappella\"],[\"christian alternative rock\"],[\"christian dance\"],[\"christian hard rock\"],[\"christian hardcore\"],[\"christian hip hop\"],[\"christian indie\"],[\"christian metal\"],[\"christian metalcore\"],[\"christian music\"],[\"christian pop\"],[\"christian power metal\"],[\"christian punk\"],[\"christian relaxative\"],[\"christian rock\"],[\"christian trap\"],[\"christian uplift\"],[\"christmas instrumental\"],[\"christmas product\"],[\"chunchaca\"],[\"chutney\"],[\"cincinnati rap\"],[\"cinematic post-rock\"],[\"circuit\"],[\"circus\"],[\"classic afrobeat\"],[\"classic arab pop\"],[\"classic australian country\"],[\"classic belgian pop\"],[\"classic bhangra\"],[\"classic bollywood\"],[\"classic canadian rock\"],[\"classic cantopop\"],[\"classic colombian pop\"],[\"classic country pop\"],[\"classic czech pop\"],[\"classic danish pop\"],[\"classic dubstep\"],[\"classic eurovision\"],[\"classic finnish pop\"],[\"classic french pop\"],[\"classic garage rock\"],[\"classic girl group\"],[\"classic greek pop\"],[\"classic hardstyle\"],[\"classic icelandic pop\"],[\"classic indo pop\"],[\"classic iskelma\"],[\"classic israeli pop\"],[\"classic italian folk pop\"],[\"classic italian pop\"],[\"classic j-rock\"],[\"classic japanese jazz\"],[\"classic korean pop\"],[\"classic latvian pop\"],[\"classic mandopop\"],[\"classic norwegian pop\"],[\"classic opm\"],[\"classic pakistani pop\"],[\"classic persian pop\"],[\"classic peruvian pop\"],[\"classic polish pop\"],[\"classic praise\"],[\"classic psychedelic rock\"],[\"classic punjabi pop\"],[\"classic rock\"],[\"classic russian pop\"],[\"classic russian rock\"],[\"classic schlager\"],[\"classic soul\"],[\"classic soundtrack\"],[\"classic swedish pop\"],[\"classic thai pop\"],[\"classic tunisian pop\"],[\"classic turkish pop\"],[\"classic uk pop\"],[\"classic venezuelan pop\"],[\"classical\"],[\"classical accordion\"],[\"classical baritone\"],[\"classical bass\"],[\"classical cello\"],[\"classical clarinet\"],[\"classical contralto\"],[\"classical countertenor\"],[\"classical era\"],[\"classical flute\"],[\"classical guitar\"],[\"classical harp\"],[\"classical horn\"],[\"classical mandolin\"],[\"classical mezzo-soprano\"],[\"classical oboe\"],[\"classical organ\"],[\"classical performance\"],[\"classical piano\"],[\"classical piano duo\"],[\"classical piano trio\"],[\"classical saxophone\"],[\"classical soprano\"],[\"classical tenor\"],[\"classical trumpet\"],[\"classify\"],[\"clawhammer banjo\"],[\"clean comedy\"],[\"cleveland metal\"],[\"coco\"],[\"collage pop\"],[\"college a cappella\"],[\"colombian hip hop\"],[\"colombian pop\"],[\"colombian rock\"],[\"columbus ohio indie\"],[\"comedy\"],[\"comedy rap\"],[\"comedy rock\"],[\"comic\"],[\"comic metal\"],[\"commons\"],[\"complextro\"],[\"compositional ambient\"],[\"concepcion indie\"],[\"concert band\"],[\"connecticut hardcore\"],[\"connecticut indie\"],[\"conscious hip hop\"],[\"contemporary choir\"],[\"contemporary classical\"],[\"contemporary classical piano\"],[\"contemporary country\"],[\"contemporary folk\"],[\"contemporary gospel\"],[\"contemporary jazz\"],[\"contemporary post-bop\"],[\"contemporary vocal jazz\"],[\"contrabass\"],[\"cool jazz\"],[\"copla\"],[\"cornish folk\"],[\"cornwall indie\"],[\"corrido\"],[\"corridos cristianos\"],[\"corridos tumbados\"],[\"corrosion\"],[\"cosmic american\"],[\"cosmic post-rock\"],[\"country\"],[\"country blues\"],[\"country boogie\"],[\"country dawn\"],[\"country gospel\"],[\"country pop\"],[\"country rap\"],[\"country road\"],[\"country rock\"],[\"coverchill\"],[\"cowboy western\"],[\"cowpunk\"],[\"crack rock steady\"],[\"croatian folk\"],[\"croatian pop\"],[\"croatian rock\"],[\"crossover thrash\"],[\"crunk\"],[\"crust punk\"],[\"cuarteto\"],[\"cuatro venezolano\"],[\"cuban alternative\"],[\"cuban rumba\"],[\"cubaton\"],[\"cumbia\"],[\"cumbia andina mexicana\"],[\"cumbia chilena\"],[\"cumbia colombiana regia\"],[\"cumbia ecuatoriana\"],[\"cumbia funk\"],[\"cumbia lagunera\"],[\"cumbia paraguaya\"],[\"cumbia peruana\"],[\"cumbia pop\"],[\"cumbia ranchera\"],[\"cumbia salvadorena\"],[\"cumbia santafesina\"],[\"cumbia sonidera\"],[\"cumbia villera\"],[\"cyberpunk\"],[\"cymraeg\"],[\"cypriot pop\"],[\"czech classical\"],[\"czech classical piano\"],[\"czech contemporary classical\"],[\"d-beat\"],[\"dabke\"],[\"dakke dak\"],[\"dallas indie\"],[\"dance pop\"],[\"dance rock\"],[\"dance-punk\"],[\"dancehall\"],[\"dangdut\"],[\"danish alternative rock\"],[\"danish classical\"],[\"danish electronic\"],[\"danish electropop\"],[\"danish hip hop\"],[\"danish jazz\"],[\"danish metal\"],[\"danish pop\"],[\"danish pop rock\"],[\"danish post-punk\"],[\"danish punk\"],[\"danish rock\"],[\"danish singer-songwriter\"],[\"dansband\"],[\"danseband\"],[\"dansktop\"],[\"danspunk\"],[\"dark cabaret\"],[\"dark clubbing\"],[\"dark disco\"],[\"dark hardcore\"],[\"dark jazz\"],[\"dark minimal techno\"],[\"dark post-punk\"],[\"dark techno\"],[\"dark trap\"],[\"dark wave\"],[\"darksynth\"],[\"dayton indie\"],[\"dc hardcore\"],[\"dc indie\"],[\"death 'n' roll\"],[\"death metal\"],[\"deathcore\"],[\"deathgrass\"],[\"deathgrind\"],[\"deathrash\"],[\"deathrock\"],[\"deathstep\"],[\"deep acoustic pop\"],[\"deep adult standards\"],[\"deep big room\"],[\"deep ccm\"],[\"deep christian rock\"],[\"deep classic garage rock\"],[\"deep comedy\"],[\"deep contemporary country\"],[\"deep dance pop\"],[\"deep delta blues\"],[\"deep disco\"],[\"deep disco house\"],[\"deep dnb\"],[\"deep east coast hip hop\"],[\"deep euro house\"],[\"deep flow\"],[\"deep free jazz\"],[\"deep freestyle\"],[\"deep full on\"],[\"deep funk\"],[\"deep g funk\"],[\"deep gothic post-punk\"],[\"deep groove house\"],[\"deep house\"],[\"deep idm\"],[\"deep indian pop\"],[\"deep indie singer-songwriter\"],[\"deep latin alternative\"],[\"deep latin christian\"],[\"deep melodic metalcore\"],[\"deep minimal techno\"],[\"deep motown\"],[\"deep new americana\"],[\"deep new wave\"],[\"deep norteno\"],[\"deep northern soul\"],[\"deep pop edm\"],[\"deep progressive house\"],[\"deep psychobilly\"],[\"deep punk rock\"],[\"deep r&b\"],[\"deep ragga\"],[\"deep regional mexican\"],[\"deep smooth jazz\"],[\"deep soft rock\"],[\"deep soul house\"],[\"deep soundtrack\"],[\"deep southern soul\"],[\"deep southern trap\"],[\"deep space rock\"],[\"deep talent show\"],[\"deep tech house\"],[\"deep techno\"],[\"deep tropical house\"],[\"deep underground hip hop\"],[\"deep uplifting trance\"],[\"delta blues\"],[\"dembow\"],[\"denpa-kei\"],[\"denton tx indie\"],[\"denver indie\"],[\"depressive black metal\"],[\"derby indie\"],[\"desert blues\"],[\"desi hip hop\"],[\"desi pop\"],[\"destroy techno\"],[\"detroit hip hop\"],[\"detroit house\"],[\"detroit techno\"],[\"detroit trap\"],[\"detske pisnicky\"],[\"detskie pesni\"],[\"devon indie\"],[\"dfw rap\"],[\"dhrupad\"],[\"digital hardcore\"],[\"dinner jazz\"],[\"dirty south rap\"],[\"dirty texas rap\"],[\"disco\"],[\"disco house\"],[\"disney\"],[\"diva house\"],[\"dixieland\"],[\"diy emo\"],[\"djent\"],[\"dmv rap\"],[\"dominican pop\"],[\"dong-yo\"],[\"doo-wop\"],[\"doom metal\"],[\"double drumming\"],[\"downtempo\"],[\"drama\"],[\"dream pop\"],[\"dream trance\"],[\"dreamgaze\"],[\"dreamo\"],[\"drift\"],[\"drill\"],[\"drill and bass\"],[\"drone\"],[\"drone folk\"],[\"drone metal\"],[\"drum and bass\"],[\"dub\"],[\"dub metal\"],[\"dub poetry\"],[\"dub techno\"],[\"dubstep\"],[\"dubsteppe\"],[\"duduk\"],[\"duluth indie\"],[\"dunedin indie\"],[\"dunedin sound\"],[\"dungeon synth\"],[\"duranguense\"],[\"dusseldorf electronic\"],[\"dutch blues\"],[\"dutch cabaret\"],[\"dutch classical piano\"],[\"dutch death metal\"],[\"dutch dnb\"],[\"dutch edm\"],[\"dutch folk\"],[\"dutch hip hop\"],[\"dutch house\"],[\"dutch indie\"],[\"dutch jazz\"],[\"dutch metal\"],[\"dutch pop\"],[\"dutch prog\"],[\"dutch rap pop\"],[\"dutch rock\"],[\"dutch trance\"],[\"e6fi\"],[\"early american folk\"],[\"early avant garde\"],[\"early modern classical\"],[\"early music\"],[\"early music choir\"],[\"early music ensemble\"],[\"early reggae\"],[\"early romantic era\"],[\"early synthpop\"],[\"early us punk\"],[\"east coast hip hop\"],[\"east coast reggae\"],[\"eastern bloc groove\"],[\"easy listening\"],[\"easycore\"],[\"eau claire indie\"],[\"ebm\"],[\"ecm-style jazz\"],[\"ectofolk\"],[\"ecuadorian pop\"],[\"edm\"],[\"edmonton indie\"],[\"egyptian pop\"],[\"egyptian traditional\"],[\"el paso indie\"],[\"electra\"],[\"electric bass\"],[\"electric blues\"],[\"electro\"],[\"electro house\"],[\"electro jazz\"],[\"electro latino\"],[\"electro swing\"],[\"electro-industrial\"],[\"electro-pop francais\"],[\"electroclash\"],[\"electrofox\"],[\"electronic djent\"],[\"electronic rock\"],[\"electronic trap\"],[\"electronica\"],[\"electronica argentina\"],[\"electropop\"],[\"electropowerpop\"],[\"emo\"],[\"emo mexicano\"],[\"emo punk\"],[\"emo rap\"],[\"emocore\"],[\"english baroque\"],[\"english indie rock\"],[\"english renaissance\"],[\"enka\"],[\"entehno\"],[\"environmental\"],[\"epic doom\"],[\"epicore\"],[\"erhu\"],[\"escape room\"],[\"esperanto\"],[\"essex indie\"],[\"estonian hip hop\"],[\"estonian pop\"],[\"ethereal wave\"],[\"etherpop\"],[\"ethio-jazz\"],[\"ethiopian pop\"],[\"ethnomusicology\"],[\"ethnotronica\"],[\"eugene indie\"],[\"euphoric hardstyle\"],[\"eurobeat\"],[\"eurodance\"],[\"europop\"],[\"euroska\"],[\"eurovision\"],[\"exotica\"],[\"experimental\"],[\"experimental ambient\"],[\"experimental big band\"],[\"experimental dub\"],[\"experimental folk\"],[\"experimental guitar\"],[\"experimental hip hop\"],[\"experimental house\"],[\"experimental indie\"],[\"experimental jazz\"],[\"experimental pop\"],[\"experimental rock\"],[\"experimental vocal\"],[\"fado\"],[\"family gospel\"],[\"faroese pop\"],[\"fast melodic punk\"],[\"fidget house\"],[\"filmi\"],[\"filter house\"],[\"filthstep\"],[\"final fantasy\"],[\"fingerstyle\"],[\"finnish alternative rock\"],[\"finnish classical\"],[\"finnish contemporary classical\"],[\"finnish death metal\"],[\"finnish edm\"],[\"finnish hard rock\"],[\"finnish heavy metal\"],[\"finnish metal\"],[\"finnish power metal\"],[\"finnish soul\"],[\"flamenco\"],[\"flamenco guitar\"],[\"flick hop\"],[\"flint hip hop\"],[\"float house\"],[\"florida death metal\"],[\"florida rap\"],[\"fluxwork\"],[\"fo jing\"],[\"focus\"],[\"focus beats\"],[\"focus trance\"],[\"folclor afrocolombiano\"],[\"folclor colombiano\"],[\"folclore extremeno\"],[\"folclore jujeno\"],[\"folclore navarra\"],[\"folclore salteno\"],[\"folclore tucumano\"],[\"folk\"],[\"folk metal\"],[\"folk punk\"],[\"folk rock\"],[\"folk rock italiano\"],[\"folk-pop\"],[\"folklore argentino\"],[\"folklore boliviano\"],[\"folklore chileno\"],[\"folklore ecuatoriano\"],[\"folklore peruano\"],[\"folklore venezolano\"],[\"folklore veracruzano\"],[\"folkmusik\"],[\"folktronica\"],[\"footwork\"],[\"forro\"],[\"forro tradicional\"],[\"fort worth indie\"],[\"fourth world\"],[\"francoton\"],[\"freak folk\"],[\"freakbeat\"],[\"free folk\"],[\"free improvisation\"],[\"free jazz\"],[\"freestyle\"],[\"french baroque\"],[\"french classical piano\"],[\"french contemporary classical\"],[\"french death metal\"],[\"french dnb\"],[\"french hip hop\"],[\"french indie folk\"],[\"french indie pop\"],[\"french indietronica\"],[\"french jazz\"],[\"french metal\"],[\"french movie tunes\"],[\"french opera\"],[\"french orchestra\"],[\"french pop\"],[\"french post-punk\"],[\"french psychedelic\"],[\"french reggae\"],[\"french rock\"],[\"french romanticism\"],[\"french shoegaze\"],[\"french soundtrack\"],[\"french synthpop\"],[\"french techno\"],[\"frenchcore\"],[\"full on\"],[\"funana\"],[\"funeral doom\"],[\"funk\"],[\"funk 150 bpm\"],[\"funk carioca\"],[\"funk das antigas\"],[\"funk metal\"],[\"funk mexicano\"],[\"funk ostentacao\"],[\"funk paulista\"],[\"funk pop\"],[\"funk rock\"],[\"funky breaks\"],[\"funky tech house\"],[\"future bass\"],[\"future funk\"],[\"future garage\"],[\"future house\"],[\"future rock\"],[\"futurepop\"],[\"g funk\"],[\"gabba\"],[\"gabonese pop\"],[\"gaian doom\"],[\"gainesville indie\"],[\"gaita zuliana\"],[\"galante era\"],[\"gamelan\"],[\"gaming dubstep\"],[\"gaming edm\"],[\"gangster rap\"],[\"garage house\"],[\"garage pop\"],[\"garage psych\"],[\"garage punk\"],[\"garage punk blues\"],[\"garage rock\"],[\"garage rock revival\"],[\"gauze pop\"],[\"gbvfi\"],[\"geek folk\"],[\"geek rock\"],[\"georgian folk\"],[\"german alternative rock\"],[\"german baroque\"],[\"german choir\"],[\"german classical piano\"],[\"german country\"],[\"german dance\"],[\"german hard rock\"],[\"german heavy metal\"],[\"german house\"],[\"german indie\"],[\"german jazz\"],[\"german literature\"],[\"german metal\"],[\"german oi\"],[\"german opera\"],[\"german orchestra\"],[\"german pop\"],[\"german pop rock\"],[\"german post-hardcore\"],[\"german power metal\"],[\"german punk\"],[\"german renaissance\"],[\"german rock\"],[\"german romanticism\"],[\"german show tunes\"],[\"german soundtrack\"],[\"german techno\"],[\"german thrash metal\"],[\"german trance\"],[\"german underground rap\"],[\"ghanaian hip hop\"],[\"ghanaian traditional\"],[\"ghazal\"],[\"ghent indie\"],[\"girl group\"],[\"glam metal\"],[\"glam punk\"],[\"glam rock\"],[\"glee club\"],[\"glitch\"],[\"glitch hop\"],[\"glitch pop\"],[\"glitchcore\"],[\"go-go\"],[\"goregrind\"],[\"gospel\"],[\"gospel antigas\"],[\"gospel blues\"],[\"gospel italiano\"],[\"gospel r&b\"],[\"gospel rap\"],[\"gospel singers\"],[\"gospel soul\"],[\"gothabilly\"],[\"gothenburg indie\"],[\"gothenburg metal\"],[\"gothic alternative\"],[\"gothic americana\"],[\"gothic black metal\"],[\"gothic metal\"],[\"gothic post-punk\"],[\"gothic rock\"],[\"gothic symphonic metal\"],[\"gqom\"],[\"grand rapids indie\"],[\"grave wave\"],[\"greek clarinet\"],[\"greek contemporary classical\"],[\"greek folk\"],[\"greek guitar\"],[\"greek house\"],[\"greek jazz\"],[\"greek pop\"],[\"greek swing\"],[\"gregorian chant\"],[\"grime\"],[\"grindcore\"],[\"griot\"],[\"groove metal\"],[\"groove room\"],[\"grunge\"],[\"grunge pop\"],[\"grupera\"],[\"gruperas inmortales\"],[\"guadalajara indie\"],[\"guam indie\"],[\"guaracha\"],[\"guatemalan pop\"],[\"guidance\"],[\"guinean pop\"],[\"guitarra argentina\"],[\"guitarra clasica\"],[\"guitarra portuguesa\"],[\"gujarati garba\"],[\"gujarati pop\"],[\"guzheng\"],[\"gymcore\"],[\"gypsy\"],[\"gypsy jazz\"],[\"gypsy punk\"],[\"haitian traditional\"],[\"halifax indie\"],[\"halloween\"],[\"hamburg electronic\"],[\"hammered dulcimer\"],[\"hammond organ\"],[\"hands up\"],[\"hangpan\"],[\"happy hardcore\"],[\"hard alternative\"],[\"hard bop\"],[\"hard minimal techno\"],[\"hard rock\"],[\"hard rock brasileiro\"],[\"hardcore\"],[\"hardcore hip hop\"],[\"hardcore punk\"],[\"hardcore techno\"],[\"hardstyle\"],[\"harlem hip hop\"],[\"harlem renaissance\"],[\"harmonica blues\"],[\"harmonica jazz\"],[\"harp\"],[\"harpsichord\"],[\"haryanvi pop\"],[\"hauntology\"],[\"hawaiian\"],[\"hawaiian hip hop\"],[\"hawaiian indie\"],[\"healing\"],[\"heartland rock\"],[\"hi-nrg\"],[\"highlife\"],[\"hindi hip hop\"],[\"hindi indie\"],[\"hindustani classical\"],[\"hindustani instrumental\"],[\"hindustani vocal\"],[\"hip hop\"],[\"hip hop cubano\"],[\"hip house\"],[\"hip pop\"],[\"hiplife\"],[\"histoire pour enfants\"],[\"historic classical performance\"],[\"historic orchestral performance\"],[\"historic piano performance\"],[\"historic string quartet\"],[\"historical keyboard\"],[\"historically informed performance\"],[\"hoerspiel\"],[\"hokkien pop\"],[\"hollywood\"],[\"hong kong hip hop\"],[\"hong kong indie\"],[\"hong kong rock\"],[\"honky tonk\"],[\"honky-tonk piano\"],[\"hopebeat\"],[\"horror punk\"],[\"horror synth\"],[\"horrorcore\"],[\"house\"],[\"houston rap\"],[\"huapango\"],[\"huayno\"],[\"hula\"],[\"humppa\"],[\"hungarian choir\"],[\"hungarian classical performance\"],[\"hungarian classical piano\"],[\"hungarian contemporary classical\"],[\"hungarian edm\"],[\"hungarian folk\"],[\"hungarian pop\"],[\"hungarian rock\"],[\"hungarian techno\"],[\"hurdy-gurdy\"],[\"hyperpop\"],[\"hyphy\"],[\"icelandic classical\"],[\"icelandic electronic\"],[\"icelandic experimental\"],[\"icelandic folk\"],[\"icelandic indie\"],[\"icelandic jazz\"],[\"icelandic pop\"],[\"icelandic rock\"],[\"idaho indie\"],[\"idol\"],[\"idol rock\"],[\"ilahiler\"],[\"ilocano pop\"],[\"impressionism\"],[\"indian classical\"],[\"indian edm\"],[\"indian folk\"],[\"indian fusion\"],[\"indian indie\"],[\"indian instrumental\"],[\"indian jazz\"],[\"indiana hip hop\"],[\"indie anthem-folk\"],[\"indie cafe pop\"],[\"indie deutschrap\"],[\"indie dream pop\"],[\"indie electronica\"],[\"indie electropop\"],[\"indie folk\"],[\"indie game soundtrack\"],[\"indie garage rock\"],[\"indie hip hop\"],[\"indie jazz\"],[\"indie pop\"],[\"indie pop rap\"],[\"indie poptimism\"],[\"indie psych-pop\"],[\"indie punk\"],[\"indie quebecois\"],[\"indie r&b\"],[\"indie rock\"],[\"indie rock mexicano\"],[\"indie rockism\"],[\"indie shoegaze\"],[\"indie singer-songwriter\"],[\"indie soul\"],[\"indie surf\"],[\"indie triste\"],[\"indiecoustica\"],[\"indietronica\"],[\"indonesian hip hop\"],[\"indonesian indie\"],[\"indonesian pop\"],[\"indonesian r&b\"],[\"indonesian worship\"],[\"industrial\"],[\"industrial hardcore\"],[\"industrial hip hop\"],[\"industrial metal\"],[\"industrial rock\"],[\"indy indie\"],[\"instrumental acoustic guitar\"],[\"instrumental bluegrass\"],[\"instrumental funk\"],[\"instrumental grime\"],[\"instrumental math rock\"],[\"instrumental post-rock\"],[\"instrumental progressive metal\"],[\"instrumental rock\"],[\"instrumental soul\"],[\"instrumental stoner rock\"],[\"instrumental surf\"],[\"intelligent dance music\"],[\"iowa hip hop\"],[\"irish accordion\"],[\"irish ballad\"],[\"irish banjo\"],[\"irish classical\"],[\"irish country\"],[\"irish dance\"],[\"irish fiddle\"],[\"irish folk\"],[\"irish hip hop\"],[\"irish indie\"],[\"irish metal\"],[\"irish pop\"],[\"irish pub song\"],[\"irish rock\"],[\"irish singer-songwriter\"],[\"iskelma\"],[\"islamic recitation\"],[\"isle of wight indie\"],[\"israeli classical\"],[\"israeli classical piano\"],[\"israeli folk\"],[\"israeli hip hop\"],[\"israeli mediterranean\"],[\"israeli pop\"],[\"israeli rock\"],[\"israeli singer-songwriter\"],[\"israeli techno\"],[\"italian adult pop\"],[\"italian baritone\"],[\"italian baroque\"],[\"italian baroque ensemble\"],[\"italian bass\"],[\"italian blues\"],[\"italian classical guitar\"],[\"italian classical piano\"],[\"italian contemporary jazz\"],[\"italian disco\"],[\"italian gothic\"],[\"italian gothic metal\"],[\"italian indie pop\"],[\"italian jazz\"],[\"italian library music\"],[\"italian mandolin\"],[\"italian metal\"],[\"italian mezzo-soprano\"],[\"italian modern prog\"],[\"italian opera\"],[\"italian orchestra\"],[\"italian pop rock\"],[\"italian power metal\"],[\"italian progressive metal\"],[\"italian progressive rock\"],[\"italian renaissance\"],[\"italian romanticism\"],[\"italian soprano\"],[\"italian soundtrack\"],[\"italian techno\"],[\"italian tenor\"],[\"italian violin\"],[\"italo dance\"],[\"italo house\"],[\"j-acoustic\"],[\"j-ambient\"],[\"j-dance\"],[\"j-division\"],[\"j-idol\"],[\"j-metal\"],[\"j-pixie\"],[\"j-pop\"],[\"j-pop girl group\"],[\"j-poprock\"],[\"j-punk\"],[\"j-reggae\"],[\"j-rock\"],[\"jacksonville indie\"],[\"jam band\"],[\"jamgrass\"],[\"jamtronica\"],[\"jangle pop\"],[\"japanese alternative rock\"],[\"japanese chillhop\"],[\"japanese city pop\"],[\"japanese classical\"],[\"japanese classical performance\"],[\"japanese classical piano\"],[\"japanese concert band\"],[\"japanese dream pop\"],[\"japanese electronic\"],[\"japanese electropop\"],[\"japanese emo\"],[\"japanese experimental\"],[\"japanese folk\"],[\"japanese garage rock\"],[\"japanese girl punk\"],[\"japanese heavy metal\"],[\"japanese idm\"],[\"japanese indie folk\"],[\"japanese indie rock\"],[\"japanese instrumental\"],[\"japanese jazz\"],[\"japanese jazz fusion\"],[\"japanese jazztronica\"],[\"japanese metalcore\"],[\"japanese new wave\"],[\"japanese piano\"],[\"japanese pop punk\"],[\"japanese post-hardcore\"],[\"japanese power metal\"],[\"japanese prog\"],[\"japanese psychedelic\"],[\"japanese punk rock\"],[\"japanese r&b\"],[\"japanese rockabilly\"],[\"japanese singer-songwriter\"],[\"japanese soundtrack\"],[\"japanese traditional\"],[\"japanese vgm\"],[\"japanese vocal jazz\"],[\"jawaiian\"],[\"jazz\"],[\"jazz accordion\"],[\"jazz blues\"],[\"jazz boom bap\"],[\"jazz brass\"],[\"jazz chileno\"],[\"jazz clarinet\"],[\"jazz colombiano\"],[\"jazz cubano\"],[\"jazz double bass\"],[\"jazz drums\"],[\"jazz flute\"],[\"jazz funk\"],[\"jazz fusion\"],[\"jazz guitar\"],[\"jazz harp\"],[\"jazz metal\"],[\"jazz mexicano\"],[\"jazz orchestra\"],[\"jazz organ\"],[\"jazz piano\"],[\"jazz pop\"],[\"jazz quartet\"],[\"jazz rap\"],[\"jazz rock\"],[\"jazz saxophone\"],[\"jazz trio\"],[\"jazz trombone\"],[\"jazz trumpet\"],[\"jazz tuba\"],[\"jazz venezolano\"],[\"jazz vibraphone\"],[\"jazz violin\"],[\"jazztronica\"],[\"jewish cantorial\"],[\"jewish hip hop\"],[\"jig and reel\"],[\"jordanian pop\"],[\"joropo\"],[\"jovem guarda\"],[\"jug band\"],[\"juju\"],[\"jump blues\"],[\"jump up\"],[\"k-indie\"],[\"k-pop\"],[\"k-pop boy group\"],[\"k-pop girl group\"],[\"k-rap\"],[\"kabarett\"],[\"kabyle\"],[\"kaneka\"],[\"kannada bhava geethe\"],[\"kansas city hip hop\"],[\"kashmiri pop\"],[\"kawaii future bass\"],[\"kawaii metal\"],[\"kayokyoku\"],[\"kc indie\"],[\"kent indie\"],[\"kentucky hip hop\"],[\"kentucky indie\"],[\"kentucky metal\"],[\"kentucky mountain folk\"],[\"kentucky punk\"],[\"kentucky roots\"],[\"keroncong\"],[\"khaleeji iraqi\"],[\"khmer\"],[\"kids dance party\"],[\"kindie rock\"],[\"kingston on indie\"],[\"kirtan\"],[\"kiwi rock\"],[\"kizomba antigas\"],[\"kleine hoerspiel\"],[\"klezmer\"],[\"knoxville indie\"],[\"kodomo no ongaku\"],[\"kolsche karneval\"],[\"komedi\"],[\"kompa\"],[\"kora\"],[\"korean classical performance\"],[\"korean classical piano\"],[\"korean indie rock\"],[\"korean mask singer\"],[\"korean pop\"],[\"korean r&b\"],[\"korean trap\"],[\"koto\"],[\"krautrock\"],[\"kundiman\"],[\"la indie\"],[\"la pop\"],[\"laboratorio\"],[\"lafayette indie\"],[\"laiko\"],[\"lancashire indie\"],[\"lancaster pa indie\"],[\"late romantic era\"],[\"latin\"],[\"latin afrobeat\"],[\"latin alternative\"],[\"latin american classical piano\"],[\"latin arena pop\"],[\"latin christian\"],[\"latin classical\"],[\"latin funk\"],[\"latin hip hop\"],[\"latin house\"],[\"latin jazz\"],[\"latin metal\"],[\"latin pop\"],[\"latin rock\"],[\"latin ska\"],[\"latin soundtrack\"],[\"latin talent show\"],[\"latin tech house\"],[\"latin viral pop\"],[\"latin worship\"],[\"latincore\"],[\"latino comedy\"],[\"latintronica\"],[\"latinx alternative\"],[\"latvian pop\"],[\"lds\"],[\"lds youth\"],[\"lebanese pop\"],[\"leicester indie\"],[\"lexington ky indie\"],[\"lgbtq+ hip hop\"],[\"library music\"],[\"liedermacher\"],[\"light music\"],[\"lilith\"],[\"liquid funk\"],[\"lithuanian electronic\"],[\"liverpool indie\"],[\"livetronica\"],[\"lldm\"],[\"lo star\"],[\"lo-fi\"],[\"lo-fi beats\"],[\"lo-fi brasileiro\"],[\"lo-fi chill\"],[\"lo-fi cover\"],[\"lo-fi emo\"],[\"lo-fi house\"],[\"lo-fi indie\"],[\"lo-fi vgm\"],[\"london rap\"],[\"louisiana blues\"],[\"louisiana metal\"],[\"louisville indie\"],[\"louisville underground\"],[\"lounge\"],[\"louvor\"],[\"lovers rock\"],[\"lullaby\"],[\"lund indie\"],[\"lute\"],[\"macedonian folk\"],[\"madchester\"],[\"madrigal\"],[\"magyar alternative\"],[\"maine hip hop\"],[\"maine indie\"],[\"mainland chinese pop\"],[\"makossa\"],[\"malaysian mandopop\"],[\"malaysian pop\"],[\"malian blues\"],[\"mallet\"],[\"malmo indie\"],[\"mambo\"],[\"manchester hip hop\"],[\"manchester indie\"],[\"mande pop\"],[\"mandolin\"],[\"mandopop\"],[\"manguebeat\"],[\"manila sound\"],[\"manitoba indie\"],[\"mantra\"],[\"marathi pop\"],[\"marathi traditional\"],[\"marching band\"],[\"mariachi\"],[\"mariachi cristiano\"],[\"marimba orquesta\"],[\"martial industrial\"],[\"mashup\"],[\"math rock\"],[\"mathcore\"],[\"mbalax\"],[\"medieval\"],[\"medieval folk\"],[\"medieval rock\"],[\"meditation\"],[\"melancholia\"],[\"melbourne bounce\"],[\"melbourne bounce international\"],[\"melbourne indie\"],[\"mellow gold\"],[\"melodic death metal\"],[\"melodic deathcore\"],[\"melodic dubstep\"],[\"melodic groove metal\"],[\"melodic hard rock\"],[\"melodic hardcore\"],[\"melodic metal\"],[\"melodic metalcore\"],[\"melodic power metal\"],[\"melodic rap\"],[\"melodic thrash\"],[\"meme rap\"],[\"memphis americana\"],[\"memphis blues\"],[\"memphis hip hop\"],[\"memphis indie\"],[\"memphis soul\"],[\"mento\"],[\"merengue\"],[\"merengue tipico\"],[\"merseybeat\"],[\"messianic praise\"],[\"metal\"],[\"metal guitar\"],[\"metal mineiro\"],[\"metalcore\"],[\"metropopolis\"],[\"mexican classic rock\"],[\"mexican classical\"],[\"mexican hip hop\"],[\"mexican indie\"],[\"mexican pop\"],[\"mexican pop punk\"],[\"mexican rock\"],[\"mexican rock-and-roll\"],[\"mexican son\"],[\"mexican traditional\"],[\"miami bass\"],[\"miami hip hop\"],[\"miami indie\"],[\"miami metal\"],[\"michigan indie\"],[\"microhouse\"],[\"microtonal\"],[\"middle earth\"],[\"middle east hip hop\"],[\"middle eastern traditional\"],[\"midwest americana\"],[\"midwest emo\"],[\"military cadence\"],[\"military rap\"],[\"milwaukee indie\"],[\"mindfulness\"],[\"minecraft\"],[\"minimal melodic techno\"],[\"minimal tech house\"],[\"minimal techno\"],[\"minimal wave\"],[\"minimalism\"],[\"minneapolis indie\"],[\"minneapolis metal\"],[\"minneapolis punk\"],[\"minneapolis sound\"],[\"minnesota hip hop\"],[\"mississippi hip hop\"],[\"mississippi indie\"],[\"mizrahi\"],[\"mod revival\"],[\"modern alternative pop\"],[\"modern alternative rock\"],[\"modern big band\"],[\"modern blues\"],[\"modern blues rock\"],[\"modern bollywood\"],[\"modern country rock\"],[\"modern dream pop\"],[\"modern folk rock\"],[\"modern funk\"],[\"modern hard rock\"],[\"modern indie pop\"],[\"modern jazz piano\"],[\"modern jazz trio\"],[\"modern old-time\"],[\"modern performance\"],[\"modern power pop\"],[\"modern psychedelic folk\"],[\"modern reggae\"],[\"modern rock\"],[\"modern salsa\"],[\"modern ska punk\"],[\"modern southern rock\"],[\"modern string quartet\"],[\"modern swing\"],[\"modern uplift\"],[\"modular synth\"],[\"moldovan pop\"],[\"mollywood\"],[\"mongolian hip hop\"],[\"mongolian pop\"],[\"monterrey indie\"],[\"montreal indie\"],[\"moog\"],[\"moombahton\"],[\"morna\"],[\"motivation\"],[\"motown\"],[\"mountain dulcimer\"],[\"movie tunes\"],[\"mpb\"],[\"music box\"],[\"music hall\"],[\"musica afroperuana\"],[\"musica alagoana\"],[\"musica andina\"],[\"musica andina colombiana\"],[\"musica antigua\"],[\"musica aragonesa\"],[\"musica ayacuchana\"],[\"musica canaria\"],[\"musica costarricense\"],[\"musica costena\"],[\"musica cristiana guatemalteca\"],[\"musica de fondo\"],[\"musica gaucha tradicionalista\"],[\"musica hondurena\"],[\"musica infantil\"],[\"musica jibara\"],[\"musica juiz-forana\"],[\"musica llanera\"],[\"musica nicaraguense\"],[\"musica para criancas\"],[\"musica para ninos\"],[\"musica paraibana\"],[\"musica piemonteisa\"],[\"musica popular colombiana\"],[\"musica popular mineira\"],[\"musica popular paraense\"],[\"musica potosina\"],[\"musica prehispanica\"],[\"musica sarda\"],[\"musica tradicional cubana\"],[\"musica tropical guatemalteca\"],[\"musical advocacy\"],[\"musikkorps\"],[\"musique concrete\"],[\"musique peule\"],[\"musique pour enfant quebecois\"],[\"musique pour enfants\"],[\"musique touareg\"],[\"muzica populara\"],[\"muzika l'yeladim\"],[\"naija worship\"],[\"nantes indie\"],[\"narodna muzika\"],[\"nashville americana\"],[\"nashville hip hop\"],[\"nashville indie\"],[\"nashville singer-songwriter\"],[\"nashville sound\"],[\"native american\"],[\"native american contemporary\"],[\"native american flute\"],[\"native american hip hop\"],[\"native american spiritual\"],[\"navajo\"],[\"nederlandse hardstyle\"],[\"nederpop\"],[\"neo classical metal\"],[\"neo kyma\"],[\"neo mellow\"],[\"neo r&b\"],[\"neo soul\"],[\"neo-classical\"],[\"neo-kraut\"],[\"neo-pagan\"],[\"neo-progressive\"],[\"neo-psychedelic\"],[\"neo-rockabilly\"],[\"neo-singer-songwriter\"],[\"neo-synthpop\"],[\"neo-trad metal\"],[\"neo-traditional bluegrass\"],[\"neo-traditional country\"],[\"neoclassical darkwave\"],[\"neoclassicism\"],[\"neofolk\"],[\"neon pop punk\"],[\"neotango\"],[\"nepali indie\"],[\"nepali pop\"],[\"nerdcore\"],[\"neue deutsche harte\"],[\"neue deutsche todeskunst\"],[\"neue deutsche welle\"],[\"neurofunk\"],[\"new age\"],[\"new age piano\"],[\"new americana\"],[\"new beat\"],[\"new comedy\"],[\"new england americana\"],[\"new england emo\"],[\"new french touch\"],[\"new isolationism\"],[\"new jack swing\"],[\"new jersey hardcore\"],[\"new jersey indie\"],[\"new jersey punk\"],[\"new jersey rap\"],[\"new mexico music\"],[\"new orleans blues\"],[\"new orleans funk\"],[\"new orleans indie\"],[\"new orleans jazz\"],[\"new orleans rap\"],[\"new rave\"],[\"new romantic\"],[\"new tribe\"],[\"new wave\"],[\"new wave of thrash metal\"],[\"new wave pop\"],[\"new weird america\"],[\"new york death metal\"],[\"new york drill\"],[\"new zealand classical\"],[\"newcastle indie\"],[\"newcastle nsw indie\"],[\"nigerian hip hop\"],[\"nigerian pop\"],[\"nightcore\"],[\"nightrun\"],[\"ninja\"],[\"nintendocore\"],[\"nisiotika\"],[\"nl folk\"],[\"no wave\"],[\"noise pop\"],[\"noise punk\"],[\"noise rock\"],[\"nordic classical piano\"],[\"nordic contemporary classical\"],[\"nordic folk\"],[\"nordic house\"],[\"nordic orchestra\"],[\"nordic post-rock\"],[\"nordic soundtrack\"],[\"norman ok indie\"],[\"norsk lovsang\"],[\"norteno\"],[\"norteno-sax\"],[\"north carolina emo\"],[\"north carolina hip hop\"],[\"north carolina indie\"],[\"north carolina metal\"],[\"north carolina roots\"],[\"north east england indie\"],[\"northern irish indie\"],[\"northern irish punk\"],[\"northern soul\"],[\"norwegian black metal\"],[\"norwegian choir\"],[\"norwegian classical\"],[\"norwegian contemporary jazz\"],[\"norwegian death metal\"],[\"norwegian experimental\"],[\"norwegian hip hop\"],[\"norwegian indie\"],[\"norwegian jazz\"],[\"norwegian metal\"],[\"norwegian pop\"],[\"norwegian pop rap\"],[\"norwegian punk rock\"],[\"norwegian rock\"],[\"norwegian singer-songwriter\"],[\"norwegian space disco\"],[\"nottingham indie\"],[\"nouvelle chanson francaise\"],[\"nova canco\"],[\"nova mpb\"],[\"nova musica pernambucana\"],[\"novelty\"],[\"nu age\"],[\"nu disco\"],[\"nu gaze\"],[\"nu jazz\"],[\"nu metal\"],[\"nu skool breaks\"],[\"nu-cumbia\"],[\"nu-metalcore\"],[\"nubian traditional\"],[\"nueva cancion\"],[\"nueva ola chilena\"],[\"nueva ola peruana\"],[\"nuevo flamenco\"],[\"nuevo folklore mexicano\"],[\"nuevo regional mexicano\"],[\"nuevo tango\"],[\"nursery\"],[\"nwobhm\"],[\"nwothm\"],[\"ny roots\"],[\"nyc pop\"],[\"nyc rap\"],[\"nyhc\"],[\"nz christian\"],[\"nz folk\"],[\"nz hardcore\"],[\"nz indie\"],[\"nz pop\"],[\"nz punk\"],[\"nz reggae\"],[\"nz singer-songwriter\"],[\"oakland hip hop\"],[\"oakland indie\"],[\"oc indie\"],[\"oc rap\"],[\"oceania soundtrack\"],[\"ohio hip hop\"],[\"ohio indie\"],[\"oi\"],[\"ok indie\"],[\"okc indie\"],[\"okinawan pop\"],[\"oklahoma country\"],[\"old school dancehall\"],[\"old school hip hop\"],[\"old school rap francais\"],[\"old school thrash\"],[\"old school uk hip hop\"],[\"old west\"],[\"old-time\"],[\"old-time fiddle\"],[\"olympia wa indie\"],[\"omaha indie\"],[\"one-person band\"],[\"ontario indie\"],[\"opera\"],[\"opera chorus\"],[\"opera metal\"],[\"operatic pop\"],[\"operetta\"],[\"opm\"],[\"oratory\"],[\"orchestra\"],[\"orchestral performance\"],[\"orebro indie\"],[\"organic ambient\"],[\"organic electronic\"],[\"organic house\"],[\"orgcore\"],[\"oriental classical\"],[\"orkney and shetland folk\"],[\"orlando indie\"],[\"orquesta tipica\"],[\"orthodox chant\"],[\"oshare kei\"],[\"otacore\"],[\"oth indie\"],[\"ottawa indie\"],[\"ottawa rap\"],[\"oud\"],[\"outer hip hop\"],[\"outlaw country\"],[\"outsider\"],[\"outsider house\"],[\"oxford choir\"],[\"oxford indie\"],[\"p funk\"],[\"pagan black metal\"],[\"pagode\"],[\"pagode baiano\"],[\"paisley underground\"],[\"pakistani folk\"],[\"pakistani hip hop\"],[\"pakistani pop\"],[\"palestinian pop\"],[\"palm desert scene\"],[\"panamanian pop\"],[\"panamanian rock\"],[\"panpipe\"],[\"papuri\"],[\"parody\"],[\"partido alto\"],[\"partyschlager\"],[\"pei indie\"],[\"permanent wave\"],[\"perreo\"],[\"persian pop\"],[\"persian traditional\"],[\"perth indie\"],[\"peruvian hip hop\"],[\"peruvian rock\"],[\"pet calming\"],[\"philly indie\"],[\"philly rap\"],[\"philly soul\"],[\"phoenix indie\"],[\"phonk\"],[\"pianissimo\"],[\"piano blues\"],[\"piano cover\"],[\"piano mpb\"],[\"piano rock\"],[\"pibroch\"],[\"piedmont blues\"],[\"pinoy hip hop\"],[\"pinoy indie\"],[\"pinoy pop punk\"],[\"pinoy praise\"],[\"pinoy r&b\"],[\"pinoy reggae\"],[\"pinoy rock\"],[\"pinoy traditional\"],[\"pinoy trap\"],[\"pirate\"],[\"pittsburgh indie\"],[\"pittsburgh rap\"],[\"pittsburgh rock\"],[\"pixie\"],[\"plunderphonics\"],[\"poetry\"],[\"polca paraguaya\"],[\"polish blues\"],[\"polish classical\"],[\"polish classical piano\"],[\"polish contemporary classical\"],[\"polish jazz\"],[\"polish modern jazz\"],[\"polish pop\"],[\"polish post-rock\"],[\"polish reggae\"],[\"polish rock\"],[\"political hip hop\"],[\"polka\"],[\"polynesian hip hop\"],[\"polynesian pop\"],[\"polyphony\"],[\"pony\"],[\"pop\"],[\"pop argentino\"],[\"pop chileno\"],[\"pop dance\"],[\"pop edm\"],[\"pop electronico\"],[\"pop emo\"],[\"pop flamenco\"],[\"pop folk\"],[\"pop house\"],[\"pop nacional\"],[\"pop nacional antigas\"],[\"pop peruano\"],[\"pop punk\"],[\"pop quebecois\"],[\"pop r&b\"],[\"pop rap\"],[\"pop reggaeton\"],[\"pop rock\"],[\"pop rock brasileiro\"],[\"pop romantico\"],[\"pop soul\"],[\"pop venezolano\"],[\"pop violin\"],[\"popgaze\"],[\"popping\"],[\"pops orchestra\"],[\"popwave\"],[\"pornogrind\"],[\"porro\"],[\"portland hip hop\"],[\"portland indie\"],[\"portland metal\"],[\"portland punk\"],[\"portuguese early music\"],[\"post-disco\"],[\"post-disco soul\"],[\"post-doom metal\"],[\"post-grunge\"],[\"post-hardcore\"],[\"post-metal\"],[\"post-minimalism\"],[\"post-post-hardcore\"],[\"post-punk\"],[\"post-punk argentina\"],[\"post-rock\"],[\"post-romantic era\"],[\"post-screamo\"],[\"post-teen pop\"],[\"power metal\"],[\"power pop\"],[\"power thrash\"],[\"power-pop punk\"],[\"praise\"],[\"prepared piano\"],[\"preschool children's music\"],[\"prog quebec\"],[\"progressive alternative\"],[\"progressive bluegrass\"],[\"progressive deathcore\"],[\"progressive electro house\"],[\"progressive groove metal\"],[\"progressive house\"],[\"progressive jazz fusion\"],[\"progressive metal\"],[\"progressive metalcore\"],[\"progressive post-hardcore\"],[\"progressive power metal\"],[\"progressive psytrance\"],[\"progressive rock\"],[\"progressive sludge\"],[\"progressive trance\"],[\"progressive trance house\"],[\"progressive uplifting trance\"],[\"proto-rap\"],[\"proto-techno\"],[\"protopunk\"],[\"psalmen\"],[\"psicodelia brasileira\"],[\"psybass\"],[\"psychedelic blues-rock\"],[\"psychedelic doom\"],[\"psychedelic folk\"],[\"psychedelic folk rock\"],[\"psychedelic hip hop\"],[\"psychedelic pop\"],[\"psychedelic punk\"],[\"psychedelic rock\"],[\"psychedelic soul\"],[\"psychedelic trance\"],[\"psychill\"],[\"psychobilly\"],[\"pub rock\"],[\"puerto rican folk\"],[\"puerto rican pop\"],[\"puerto rican rock\"],[\"punjabi folk\"],[\"punjabi hip hop\"],[\"punjabi pop\"],[\"punk\"],[\"punk 'n' roll\"],[\"punk blues\"],[\"punk rock italiano\"],[\"punk rock mexicano\"],[\"punta\"],[\"purple sound\"],[\"qawwali\"],[\"quartetto d'archi\"],[\"quatuor a cordes\"],[\"quebec death metal\"],[\"quebec indie\"],[\"queens hip hop\"],[\"queer country\"],[\"queercore\"],[\"quiet storm\"],[\"quran\"],[\"r&b\"],[\"r&b en espanol\"],[\"rabindra sangeet\"],[\"radio symphony\"],[\"ragtime\"],[\"rai\"],[\"ranchera\"],[\"rap\"],[\"rap chileno\"],[\"rap conciencia\"],[\"rap conscient\"],[\"rap cristiano\"],[\"rap dominicano\"],[\"rap kreyol\"],[\"rap latina\"],[\"rap metal\"],[\"rap nacional antigo\"],[\"rap napoletano\"],[\"rap rock\"],[\"rap underground mexicano\"],[\"rare groove\"],[\"rave\"],[\"rawstyle\"],[\"reading\"],[\"reading indie\"],[\"rebel blues\"],[\"rebetiko\"],[\"recorder\"],[\"red dirt\"],[\"redneck\"],[\"reggae\"],[\"reggae en espanol\"],[\"reggae fusion\"],[\"reggae rock\"],[\"reggaeton\"],[\"reggaeton colombiano\"],[\"reggaeton cristiano\"],[\"reggaeton flow\"],[\"reggaeton mexicano\"],[\"regional mexican\"],[\"relaxative\"],[\"renaissance\"],[\"rennes indie\"],[\"retro metal\"],[\"retro soul\"],[\"rhode island indie\"],[\"rhode island rap\"],[\"rhythm and blues\"],[\"riddim\"],[\"rif\"],[\"riot grrrl\"],[\"ritmo kombina\"],[\"rochester mn indie\"],[\"rochester ny indie\"],[\"rock\"],[\"rock alternatif francais\"],[\"rock alternativo brasileiro\"],[\"rock andaluz\"],[\"rock baiano\"],[\"rock brasiliense\"],[\"rock chapin\"],[\"rock cristiano\"],[\"rock drums\"],[\"rock en espanol\"],[\"rock gaucho\"],[\"rock independant francais\"],[\"rock kapak\"],[\"rock keyboard\"],[\"rock nacional\"],[\"rock nacional brasileiro\"],[\"rock pernambucano\"],[\"rock progressif francais\"],[\"rock steady\"],[\"rock urbano mexicano\"],[\"rock-and-roll\"],[\"rockabilly\"],[\"rockabilly en espanol\"],[\"roda de samba\"],[\"romanian classical piano\"],[\"romanian electronic\"],[\"romanian folk\"],[\"romanian pop\"],[\"romanian rock\"],[\"romantico\"],[\"roots americana\"],[\"roots reggae\"],[\"roots rock\"],[\"roots worship\"],[\"rosary\"],[\"rumba\"],[\"rumba congolaise\"],[\"rune folk\"],[\"russian alternative rock\"],[\"russian ccm\"],[\"russian chanson\"],[\"russian choir\"],[\"russian classical piano\"],[\"russian dance\"],[\"russian edm\"],[\"russian folk\"],[\"russian folk rock\"],[\"russian jazz\"],[\"russian metal\"],[\"russian metalcore\"],[\"russian modern classical\"],[\"russian orchestra\"],[\"russian pop\"],[\"russian post-punk\"],[\"russian punk\"],[\"russian rock\"],[\"russian romanticism\"],[\"russian shoegaze\"],[\"russian trance\"],[\"rva indie\"],[\"rwandan traditional\"],[\"ryukyu ongaku\"],[\"sacramento hip hop\"],[\"sacramento indie\"],[\"sacred steel\"],[\"sad rap\"],[\"salsa\"],[\"salsa choke\"],[\"salsa colombiana\"],[\"salsa cubana\"],[\"salsa international\"],[\"salsa peruana\"],[\"salsa puertorriquena\"],[\"salsa venezolana\"],[\"samba\"],[\"samba de roda\"],[\"samba moderno\"],[\"samba-enredo\"],[\"samba-jazz\"],[\"samba-rock\"],[\"san antonio rap\"],[\"san diego indie\"],[\"san diego rap\"],[\"san marcos tx indie\"],[\"sandalwood\"],[\"sarod\"],[\"saskatchewan indie\"],[\"scam rap\"],[\"scandinavian r&b\"],[\"scandipop\"],[\"schlager\"],[\"scorecore\"],[\"scottish electronic\"],[\"scottish fiddle\"],[\"scottish folk\"],[\"scottish hip hop\"],[\"scottish indie\"],[\"scottish jazz\"],[\"scottish metal\"],[\"scottish new wave\"],[\"scottish rock\"],[\"scottish singer-songwriter\"],[\"scratch\"],[\"scream rap\"],[\"screamo\"],[\"seattle hip hop\"],[\"seattle indie\"],[\"second line\"],[\"sefardi\"],[\"serbian electronic\"],[\"serialism\"],[\"sertanejo\"],[\"sertanejo pop\"],[\"sertanejo tradicional\"],[\"sertanejo universitario\"],[\"sevdah\"],[\"sevillanas\"],[\"shaabi\"],[\"shabad\"],[\"shakuhachi\"],[\"shamanic\"],[\"shanty\"],[\"sheffield indie\"],[\"shibuya-kei\"],[\"shimmer pop\"],[\"shimmer psych\"],[\"shiver pop\"],[\"shoegaze\"],[\"show tunes\"],[\"shred\"],[\"shush\"],[\"sierreno\"],[\"singaporean mandopop\"],[\"singaporean pop\"],[\"singaporean singer-songwriter\"],[\"singer-songwriter\"],[\"singing bowl\"],[\"sitar\"],[\"ska\"],[\"ska argentino\"],[\"ska chileno\"],[\"ska jazz\"],[\"ska mexicano\"],[\"ska punk\"],[\"ska revival\"],[\"skate punk\"],[\"skiffle\"],[\"skramz\"],[\"sky room\"],[\"slack-key guitar\"],[\"slam poetry\"],[\"slamming deathcore\"],[\"slavic folk metal\"],[\"slayer\"],[\"slc indie\"],[\"sleaze rock\"],[\"sleep\"],[\"slovak electronic\"],[\"slovenian electronic\"],[\"slovenian metal\"],[\"slow game\"],[\"slowcore\"],[\"sludge metal\"],[\"small room\"],[\"smooth jazz\"],[\"smooth saxophone\"],[\"smooth soul\"],[\"soca\"],[\"socal pop punk\"],[\"social media pop\"],[\"soda pop\"],[\"soft rock\"],[\"solipsynthm\"],[\"son cubano\"],[\"son cubano clasico\"],[\"son jarocho\"],[\"sophisti-pop\"],[\"sotalaulut\"],[\"soukous\"],[\"soul\"],[\"soul blues\"],[\"soul flow\"],[\"soul jazz\"],[\"souldies\"],[\"sound\"],[\"sound art\"],[\"sound effects\"],[\"sound team\"],[\"soundtrack\"],[\"south african alternative\"],[\"south african choral\"],[\"south african country\"],[\"south african hip hop\"],[\"south african house\"],[\"south african jazz\"],[\"south african pop\"],[\"south african pop dance\"],[\"south african rock\"],[\"south carolina hip hop\"],[\"south carolina indie\"],[\"south carolina metal\"],[\"south dakota indie\"],[\"southampton indie\"],[\"southern americana\"],[\"southern gospel\"],[\"southern hip hop\"],[\"southern metal\"],[\"southern rock\"],[\"southern soul\"],[\"southern soul blues\"],[\"soviet synthpop\"],[\"sovietwave\"],[\"spa\"],[\"space age pop\"],[\"space ambient\"],[\"space rock\"],[\"spanish baroque\"],[\"spanish classical\"],[\"spanish classical piano\"],[\"spanish folk metal\"],[\"spanish hip hop\"],[\"spanish indie pop\"],[\"spanish invasion\"],[\"spanish metal\"],[\"spanish modern rock\"],[\"spanish new wave\"],[\"spanish noise pop\"],[\"spanish pop\"],[\"spanish pop rock\"],[\"spanish renaissance\"],[\"spanish rock\"],[\"spanish synthpop\"],[\"spanish techno\"],[\"speed garage\"],[\"speed metal\"],[\"speedcore\"],[\"spiritual hip hop\"],[\"spiritual jazz\"],[\"spirituals\"],[\"springfield mo indie\"],[\"spytrack\"],[\"st louis rap\"],[\"steampunk\"],[\"steel guitar\"],[\"steelpan\"],[\"stl indie\"],[\"stomp and flutter\"],[\"stomp and holler\"],[\"stomp and whittle\"],[\"stomp pop\"],[\"stoner metal\"],[\"stoner rock\"],[\"straight edge\"],[\"straight-ahead jazz\"],[\"street band\"],[\"street punk\"],[\"streichquartett\"],[\"stride\"],[\"string band\"],[\"string folk\"],[\"string orchestra\"],[\"string quartet\"],[\"strut\"],[\"substep\"],[\"sudanese pop\"],[\"sufi\"],[\"sufi chant\"],[\"sunshine pop\"],[\"supergroup\"],[\"surf music\"],[\"surf punk\"],[\"svensk progg\"],[\"swamp blues\"],[\"swamp pop\"],[\"swamp rock\"],[\"swancore\"],[\"swedish alternative rock\"],[\"swedish americana\"],[\"swedish black metal\"],[\"swedish choir\"],[\"swedish country\"],[\"swedish dancehall\"],[\"swedish death metal\"],[\"swedish doom metal\"],[\"swedish electronic\"],[\"swedish electropop\"],[\"swedish eurodance\"],[\"swedish garage rock\"],[\"swedish hard rock\"],[\"swedish hardcore\"],[\"swedish heavy metal\"],[\"swedish house\"],[\"swedish idol pop\"],[\"swedish indie folk\"],[\"swedish indie pop\"],[\"swedish indie rock\"],[\"swedish jazz\"],[\"swedish jazz orkester\"],[\"swedish melodic rock\"],[\"swedish metal\"],[\"swedish metalcore\"],[\"swedish pop\"],[\"swedish post-hardcore\"],[\"swedish power metal\"],[\"swedish prog\"],[\"swedish progressive metal\"],[\"swedish rock-and-roll\"],[\"swedish singer-songwriter\"],[\"swedish soul\"],[\"swedish stoner rock\"],[\"swedish synth\"],[\"swedish synthpop\"],[\"swedish tropical house\"],[\"swedish underground rap\"],[\"swing\"],[\"swing italiano\"],[\"swing revival\"],[\"swiss black metal\"],[\"swiss classical piano\"],[\"swiss country\"],[\"swiss metal\"],[\"swiss pop\"],[\"swiss rock\"],[\"swiss worship\"],[\"sydney indie\"],[\"symphonic black metal\"],[\"symphonic metal\"],[\"symphonic rock\"],[\"synth funk\"],[\"synthpop\"],[\"synthwave\"],[\"syrian pop\"],[\"tabla\"],[\"tagalog rap\"],[\"tagalog worship\"],[\"taiwan campus folk\"],[\"taiwan classical performance\"],[\"taiwan hip hop\"],[\"taiwan indie\"],[\"taiwan pop\"],[\"taiwan singer-songwriter\"],[\"tajik pop\"],[\"talent show\"],[\"tamaulipas indie\"],[\"tamaulipas rap\"],[\"tamborazo\"],[\"tamil hip hop\"],[\"tamil pop\"],[\"tamil worship\"],[\"tampa indie\"],[\"tango\"],[\"tango cancion\"],[\"tape club\"],[\"tech house\"],[\"technical death metal\"],[\"technical deathcore\"],[\"technical groove metal\"],[\"technical melodic death metal\"],[\"technical thrash\"],[\"techno\"],[\"techno kayo\"],[\"tecnobanda\"],[\"teen pop\"],[\"tejano\"],[\"tempe indie\"],[\"tennessee hip hop\"],[\"tennessee metal\"],[\"tex-mex\"],[\"texas blues\"],[\"texas country\"],[\"texas latin rap\"],[\"texas pop punk\"],[\"texas punk\"],[\"thai folk\"],[\"thai folk rock\"],[\"thai idol\"],[\"thai indie rock\"],[\"thai pop\"],[\"thall\"],[\"theme\"],[\"theremin\"],[\"thrash core\"],[\"thrash metal\"],[\"timba\"],[\"tin pan alley\"],[\"tipico\"],[\"tolkien metal\"],[\"tollywood\"],[\"tone\"],[\"torch song\"],[\"toronto indie\"],[\"toronto rap\"],[\"trad jazz catala\"],[\"traditional bluegrass\"],[\"traditional blues\"],[\"traditional british folk\"],[\"traditional country\"],[\"traditional folk\"],[\"traditional funk\"],[\"traditional rockabilly\"],[\"traditional ska\"],[\"traditional soul\"],[\"trance\"],[\"trance mexicano\"],[\"trancecore\"],[\"transpop\"],[\"trap\"],[\"trap argentino\"],[\"trap chileno\"],[\"trap dominicano\"],[\"trap latino\"],[\"trap mexicano\"],[\"trap queen\"],[\"trap soul\"],[\"trap triste\"],[\"trap venezolano\"],[\"traprun\"],[\"trash rock\"],[\"triangle indie\"],[\"tribal house\"],[\"trinidadian reggae\"],[\"trio cubano\"],[\"trip hop\"],[\"trival\"],[\"tropical\"],[\"tropical house\"],[\"tropicalia\"],[\"trova\"],[\"trova mexicana\"],[\"truck-driving country\"],[\"tuareg guitar\"],[\"tucson indie\"],[\"tulsa indie\"],[\"tuna estudiantil\"],[\"tunisian pop\"],[\"turbo folk\"],[\"turkish classical\"],[\"turkish classical performance\"],[\"turkish edm\"],[\"turkish experimental\"],[\"turkish folk\"],[\"turkish jazz\"],[\"turkish modern jazz\"],[\"turkish pop\"],[\"turkish psych\"],[\"turkish trap\"],[\"turkish trap pop\"],[\"turntablism\"],[\"twee pop\"],[\"twoubadou\"],[\"tzadik\"],[\"ugandan pop\"],[\"uilleann pipes\"],[\"uk alternative hip hop\"],[\"uk alternative pop\"],[\"uk americana\"],[\"uk contemporary jazz\"],[\"uk contemporary r&b\"],[\"uk dance\"],[\"uk dancehall\"],[\"uk diy punk\"],[\"uk dnb\"],[\"uk doom metal\"],[\"uk dub\"],[\"uk experimental electronic\"],[\"uk funky\"],[\"uk garage\"],[\"uk hip hop\"],[\"uk house\"],[\"uk metalcore\"],[\"uk noise rock\"],[\"uk pop\"],[\"uk pop punk\"],[\"uk post-hardcore\"],[\"uk post-punk\"],[\"uk reggae\"],[\"uk rockabilly\"],[\"uk stoner rock\"],[\"uk worship\"],[\"uk82\"],[\"ukrainian choir\"],[\"ukrainian classical\"],[\"ukrainian classical piano\"],[\"ukrainian electronic\"],[\"ukrainian pop\"],[\"ukulele\"],[\"umbanda\"],[\"underground hip hop\"],[\"underground power pop\"],[\"underground rap\"],[\"university choir\"],[\"uplifting trance\"],[\"uptempo hardcore\"],[\"urban contemporary\"],[\"urbano espanol\"],[\"us power metal\"],[\"utah indie\"],[\"uzbek pop\"],[\"uzbek traditional\"],[\"v-pop\"],[\"vallenato\"],[\"vallenato moderno\"],[\"vancouver indie\"],[\"vancouver metal\"],[\"vancouver punk\"],[\"vapor pop\"],[\"vapor soul\"],[\"vapor trap\"],[\"vapor twitch\"],[\"vaporwave\"],[\"variete francaise\"],[\"vaudeville\"],[\"vbs\"],[\"veena\"],[\"vegan straight edge\"],[\"vegas indie\"],[\"velha guarda\"],[\"venezuelan hip hop\"],[\"venezuelan indie\"],[\"venezuelan rock\"],[\"veracruz indie\"],[\"vermont indie\"],[\"vgm instrumental\"],[\"vgm remix\"],[\"victoria bc indie\"],[\"victorian britain\"],[\"video game music\"],[\"vienna indie\"],[\"vietnamese bolero\"],[\"vietnamese pop\"],[\"viking black metal\"],[\"viking folk\"],[\"viking metal\"],[\"villancicos\"],[\"vintage chanson\"],[\"vintage chinese pop\"],[\"vintage classical singing\"],[\"vintage country folk\"],[\"vintage dutch pop\"],[\"vintage french electronic\"],[\"vintage gospel\"],[\"vintage hollywood\"],[\"vintage italian pop\"],[\"vintage italian soundtrack\"],[\"vintage jazz\"],[\"vintage old-time\"],[\"vintage rockabilly\"],[\"vintage schlager\"],[\"vintage spanish pop\"],[\"vintage swedish pop\"],[\"vintage swing\"],[\"vintage tango\"],[\"viola\"],[\"violao\"],[\"violao classico\"],[\"violin\"],[\"viral pop\"],[\"viral rap\"],[\"viral trap\"],[\"virgin islands reggae\"],[\"virginia hip hop\"],[\"virginia metal\"],[\"virginia punk\"],[\"visor\"],[\"visual kei\"],[\"vocal ensemble\"],[\"vocal harmony group\"],[\"vocal house\"],[\"vocal jazz\"],[\"vocal trance\"],[\"vocaloid\"],[\"vogue\"],[\"volksmusik\"],[\"warm drone\"],[\"washboard\"],[\"washington indie\"],[\"wassoulou\"],[\"water\"],[\"wave\"],[\"welsh folk\"],[\"welsh indie\"],[\"welsh metal\"],[\"welsh rock\"],[\"west african jazz\"],[\"west australian hip hop\"],[\"west coast rap\"],[\"west coast reggae\"],[\"west coast trap\"],[\"west end\"],[\"west virginia indie\"],[\"western americana\"],[\"western mass indie\"],[\"western saharan folk\"],[\"western swing\"],[\"white noise\"],[\"wind ensemble\"],[\"wind quintet\"],[\"wisconsin indie\"],[\"witch house\"],[\"women's choir\"],[\"women's music\"],[\"wonky\"],[\"worcester ma indie\"],[\"world\"],[\"world fusion\"],[\"world meditation\"],[\"world worship\"],[\"worship\"],[\"wrestling\"],[\"wu fam\"],[\"wyoming indie\"],[\"wyoming roots\"],[\"xhosa\"],[\"xtra raw\"],[\"yacht rock\"],[\"ye ye\"],[\"yiddish folk\"],[\"yodeling\"],[\"yoga\"],[\"yoik\"],[\"york indie\"],[\"yorkshire folk\"],[\"yugoslav new wave\"],[\"yugoslav rock\"],[\"zambian pop\"],[\"zeuhl\"],[\"zhongguo feng\"],[\"zimdancehall\"],[\"zolo\"],[\"zouglou\"],[\"zouk\"],[\"zurich indie\"],[\"zydeco\"]],\"hovertemplate\":\"x=%{x}<br>y=%{y}<br>genres=%{customdata[0]}<br>cluster_pca=%{marker.color}<extra></extra>\",\"legendgroup\":\"\",\"marker\":{\"color\":[2,2,4,0,0,2,4,1,4,0,3,4,1,2,0,4,4,4,3,3,0,0,4,0,3,1,1,2,1,1,4,1,1,4,4,3,4,1,3,4,3,1,1,1,4,1,1,4,1,3,1,4,4,3,3,1,3,3,1,1,3,3,4,2,3,0,3,3,4,2,4,3,2,2,2,2,2,0,3,0,4,2,3,2,2,3,4,3,2,4,3,1,1,3,4,3,3,4,0,1,0,2,4,4,4,4,2,0,1,3,1,4,1,1,1,1,1,1,4,1,3,2,4,1,4,2,1,4,1,2,3,1,1,1,3,1,2,3,1,3,1,3,3,0,3,4,4,1,3,1,2,4,2,2,2,4,3,3,1,1,3,3,4,3,1,3,3,1,1,4,3,4,3,1,4,3,1,1,1,2,2,2,3,2,1,4,3,2,0,3,1,0,1,1,1,1,2,0,0,4,4,1,0,4,4,3,4,2,2,0,2,1,3,1,1,1,0,4,0,0,4,2,1,0,0,0,2,2,2,2,4,2,0,0,1,3,1,1,1,3,1,1,1,1,3,1,1,0,4,0,1,1,0,4,4,3,3,3,2,2,1,1,1,3,3,0,3,1,3,4,3,4,0,1,1,3,2,0,1,2,0,3,3,2,2,1,1,3,3,3,4,3,1,3,3,2,3,4,0,4,4,3,3,4,1,4,0,4,1,0,1,1,4,4,4,1,1,1,3,1,4,1,1,0,0,1,1,2,2,2,4,2,2,4,2,2,2,1,3,1,4,0,3,0,4,1,1,1,1,4,3,3,1,4,2,4,4,3,3,3,4,3,3,4,1,2,2,4,2,0,3,4,0,3,1,4,4,3,2,2,3,3,0,1,2,3,4,4,1,1,1,3,3,1,3,4,1,4,4,4,3,2,0,0,4,3,0,4,1,1,2,0,1,2,3,1,0,4,1,1,0,2,2,2,0,1,4,4,3,1,2,0,3,1,3,4,0,4,1,1,3,3,4,4,1,3,2,4,1,3,4,4,2,4,1,4,4,3,0,4,4,0,0,3,4,4,1,0,0,0,1,2,2,2,3,1,0,0,2,3,1,1,0,2,0,2,2,4,2,4,3,1,1,4,4,1,3,4,1,1,3,0,4,1,3,1,1,3,1,1,4,3,1,4,1,0,4,4,0,1,4,3,1,3,2,4,3,4,4,4,3,3,0,2,2,2,3,3,1,4,3,2,4,4,2,2,2,1,2,0,3,0,4,3,1,3,1,1,4,3,3,3,3,3,1,2,1,1,3,0,0,1,1,1,3,1,3,1,0,4,1,1,0,1,4,4,4,0,4,3,0,4,1,4,4,0,3,3,3,4,4,0,4,3,0,0,0,4,1,4,0,4,4,4,0,3,4,4,0,3,4,4,2,4,1,4,4,4,4,2,3,2,2,2,2,2,2,2,2,2,2,2,0,2,2,2,2,2,2,2,3,2,2,2,0,0,4,3,1,1,1,1,1,1,1,4,1,4,1,3,4,3,2,1,2,3,1,1,2,2,2,1,4,4,2,0,0,2,0,0,0,3,1,1,1,3,4,2,4,0,4,4,0,1,1,1,4,0,4,1,1,0,1,1,3,1,3,1,4,1,4,1,1,1,1,1,1,1,1,1,0,1,4,1,1,1,1,3,1,0,2,2,0,3,0,1,1,1,1,1,1,3,1,2,3,2,1,2,3,1,3,3,1,3,3,4,1,0,1,1,3,1,3,2,3,3,3,1,3,3,3,3,4,3,3,3,4,3,3,3,3,1,0,3,3,4,4,4,4,1,0,1,4,3,1,1,1,0,1,3,1,1,3,1,1,2,4,3,0,4,3,3,0,4,1,1,2,3,3,3,1,1,4,1,4,4,3,2,4,1,0,1,3,3,1,1,3,0,1,1,1,1,3,1,3,1,4,3,1,4,3,1,0,0,4,1,0,3,2,1,1,4,1,0,1,0,3,3,1,1,1,4,3,3,3,0,3,3,3,3,2,1,3,2,2,3,3,4,3,1,2,3,3,2,4,0,4,3,1,3,3,0,2,3,3,1,0,1,1,0,2,3,1,3,1,4,3,4,0,0,2,2,2,2,4,2,4,1,1,1,4,0,1,4,3,2,4,1,1,1,1,0,3,3,0,4,1,1,4,1,1,3,4,1,1,3,1,1,3,1,1,1,3,3,3,1,3,2,3,2,4,0,2,3,3,0,1,2,3,0,1,3,3,4,2,0,3,1,3,1,1,1,1,1,0,4,2,2,1,4,2,4,1,3,2,4,4,0,0,4,0,3,1,4,1,3,3,2,3,2,2,3,3,3,1,3,3,1,4,4,2,4,3,3,1,3,0,2,4,3,1,1,0,4,0,0,4,4,3,1,4,4,4,4,1,0,0,1,4,4,0,4,4,4,4,3,2,1,4,4,4,2,0,1,0,2,0,3,3,1,3,4,3,0,3,0,2,2,4,1,3,1,4,2,3,0,1,3,3,3,1,3,4,0,1,1,1,3,0,1,1,1,1,3,3,1,3,1,3,1,1,3,4,3,3,1,0,2,3,3,1,1,1,3,3,3,1,1,3,3,4,1,3,3,2,2,2,4,1,3,3,1,1,2,0,3,3,2,2,4,4,1,3,1,2,3,2,2,2,1,3,1,1,1,0,0,3,1,3,3,1,1,3,3,3,1,1,3,3,0,0,0,4,1,4,4,3,3,3,1,1,3,3,3,3,3,1,1,3,0,0,0,0,3,0,4,0,0,1,3,3,3,1,3,1,4,1,1,1,1,3,4,3,0,2,0,4,4,2,3,0,0,4,0,1,4,1,2,4,1,2,1,3,0,3,3,4,3,1,3,3,3,1,0,0,0,2,2,0,2,0,1,1,2,1,1,4,3,1,0,2,0,1,1,1,1,1,2,2,2,2,2,2,2,0,4,4,1,4,4,4,0,1,3,2,1,1,1,1,1,0,4,2,2,2,2,3,0,0,0,3,3,1,1,2,3,2,4,0,4,3,3,3,3,3,4,0,2,0,1,1,2,1,0,0,1,4,4,0,4,0,1,4,3,4,4,4,4,1,1,0,3,4,1,3,3,1,3,4,4,1,0,4,1,4,3,3,1,2,3,4,1,3,3,3,0,0,4,1,3,3,3,3,4,3,1,3,4,1,0,4,0,4,3,0,4,1,2,3,1,4,3,0,4,0,0,0,2,0,1,3,4,4,4,4,4,0,2,0,2,3,2,2,3,1,3,3,4,2,0,2,3,2,3,2,2,4,3,0,3,2,2,2,2,3,0,0,1,1,3,2,4,3,1,3,3,1,1,3,1,1,1,3,4,4,1,1,3,4,1,2,2,2,2,3,2,1,3,0,4,1,1,3,2,0,1,0,0,3,3,3,3,3,3,3,3,1,3,1,1,1,1,3,2,3,4,4,0,0,0,1,0,4,0,4,4,2,0,0,4,0,0,0,3,2,0,4,0,0,0,1,3,0,2,0,0,0,4,0,0,3,2,1,4,1,4,4,0,1,0,3,4,1,1,1,1,0,0,1,0,1,0,1,3,4,3,3,1,4,1,0,1,1,0,0,4,1,4,1,2,4,4,0,0,1,0,0,2,4,0,2,2,3,1,4,4,1,2,2,4,1,1,0,1,4,3,3,2,1,1,1,2,1,3,0,1,1,1,4,3,1,1,1,0,1,1,1,3,1,1,1,1,0,2,4,4,3,1,1,0,4,2,4,3,3,4,3,0,1,4,0,4,4,0,3,0,0,0,1,4,3,3,3,0,4,1,2,4,0,4,1,0,0,1,4,3,4,4,3,4,2,3,4,1,3,4,4,4,4,4,4,0,1,0,0,4,4,1,3,1,4,3,4,2,0,3,2,4,1,1,1,4,3,3,3,3,3,3,3,3,3,1,3,1,4,4,1,3,4,0,1,1,4,0,3,3,3,3,1,4,2,1,1,1,1,1,4,1,4,1,1,4,1,1,3,2,2,4,0,3,3,0,1,4,2,4,3,1,4,3,2,1,3,3,1,1,1,4,2,3,1,1,3,4,3,4,1,3,4,4,1,4,2,2,1,2,3,1,1,1,1,1,1,2,3,1,2,1,0,4,4,4,1,2,1,4,4,4,0,0,4,0,0,1,4,4,1,2,3,1,1,4,1,4,2,0,1,4,4,4,4,4,4,0,0,0,1,4,4,1,0,4,4,1,3,4,3,3,4,2,0,0,0,3,1,4,4,1,1,4,4,2,4,2,1,2,0,3,4,3,0,4,4,4,2,0,0,3,3,1,4,1,3,4,4,0,2,3,1,3,0,0,3,3,3,1,3,2,2,4,1,4,4,3,1,2,1,3,3,3,1,4,0,4,1,0,1,1,1,3,1,3,1,4,3,1,2,3,1,1,1,1,3,3,3,4,4,3,3,3,3,2,2,3,1,2,3,2,0,3,1,1,3,1,4,3,4,3,1,3,4,3,0,2,2,3,2,1,1,2,3,3,3,3,3,3,3,3,4,4,4,1,4,2,1,3,4,3,3,1,3,0,4,4,4,4,4,1,0,0,3,3,1,1,1,3,2,4,1,4,1,1,3,4,1,4,3,4,2,1,4,3,1,3,1,4,1,1,1,3,1,3,4,0,4,3,4,4,2,2,3,2,0,4,3,2,2,3,2,3,3,3,0,0,4,0,2,1,1,1,1,1,0,1,4,4,2,2,3,1,3,4,1,1,0,1,0,4,3,1,1,2,4,1,1,1,0,1,1,4,0,3,1,1,0,3,1,4,1,1,4,0,2,4,4,2,0,1,3,3,3,0,4,3,4,4,1,1,4,1,1,3,0,2,4,2,2,2,2,2,4,3,4,4,1,0,1,1,2,1,1,1,3,1,1,1,1,4,0,1,1,4,1,1,4,1,1,1,1,1,4,4,1,4,1,1,2,3,0,1,4,4,3,4,2,4,1,3,3,3,3,2,3,4,4,2,2,3,1,3,1,3,1,3,2,4,0,4,4,3,3,3,3,3,3,3,3,3,3,3,3,3,3,3,4,3,1,0,4,3,3,3,0,4,4,4,3,4,4,3,3,1,1,4,4,1,0,1,1,1,3,1,1,3,1,1,0,2,2,3,4,1,4,1,4,0,1,1,0,2,0,3,4,1,1,1,1,4,1,1,1,3,1,2,1,1,4,3,3,0,3,1,0,0,1,1,1,1,1,1,1,1,3,1,1,1,4,2,1,3,1,4,1,4,1,3,1,1,1,1,3,4,4,1,1,4,3,3,3,1,1,3,4,3,4,1,4,3,4,3,4,4,4,4,2,1,2,1,0,0,4,1,4,4,0,4,4,0,3,3,0,2,2,3,3,0,4,4,3,3,2,2,1,3,4,4,2,3,3,1,2,0,1,3,4,4,4,1,1,1,4,4,4,4,4,0,4,4,0,4,4,3,1,4,0,2,0,1,4,1,4,2,4,2,0,1,3,0,1,1,1,1,4,1,3,1,3,4,1,4,2,4,4,0,4,4,4,1,0,2,2,4,3,4,1,4,3,3,4,3,2,1,4,4,3,4,2,2,1,1,1,1,1,1,1,1,4,0,3,0,1,3,3,3,3,3,2,4,1,3,1,4,3,4,4,4,4,1,1,1,0,4,1,4,0,4,4,4,4,4,4,1,0,4,2,2,2,1,2,4,0,1,1,1,4,1,1,3,1,4,3,3,3,1,4,1,3,1,4,4,1,3,2,0,2,3,2,0,2,3,1,4,4,3,3,1,3,1,1,2,1,1,3,1,3,4,1,0,0,4,0,1,1,0,4,1,0,4,4,1,3,3,3,2,1,3,2,0,0,2,2,2,1,3,3,4,4,4,3,4,3,3,4,4,4,3,1,4,3,2,1,1,3,3,4,1,3,1,3,3,4,4,3,4,3,1,2,0,1,3,3,1,3,3,3,3,1,4,4,0,2,3,3,1,0,0,3,3,2,2,3,1,3,2,0,3,3,3,1,1,3,0,0,4,4,4,2,0,4,4,4,0,1,1,1,1,0,4,0,1,0,0,3,4,3,4,3,3,3,3,4,1,1,1,1,1,3,1,4,1,1,1,1,4,1,4,4,1,3,0,2,3,3,4,0,4,3,0,2,0,4,1,4,4,0,4,0,0,4,4,1,1,3,3,3,1,1,1,1,3,1,1,1,4,1,1,3,1,3,1,0,0,4,1,1,1,4,4,0,4,0,1,1,4,4,4,0,2,1,3,0,0,0,4,0,3,4,1,4,4,2,4,0,1,1,4,4,1,1,1,3,3,3,1,3,1,1,1,1,3,1,1,1,3,3,1,1,3,3,3,2,2,2,3,1,0,4,1,1,1,2,3,3,4,1,3,4,0,0,1,1,1,4,3,3,4,4,1,3,3,4,4,1,0,3,3,0,1,1,1,1,4,2,3,4,2,0,3,1,1,3,3,3,4,0,0,2,0,0,3,0,0,0,2,0,0,1,0,4,0,0,0,2,0,0,2,4,1,1,1,1,3,3,0,3,2,0,1,0,3,3,1,0,2,0,1,4,2,1,2,1,3,3,4,1,1,1,1,0,1,4,1,0,4,2,2,2,2,3,3,4,4,1,4,0,2,3,3,1,1,1,4,4,3,4,4,0,0,2,0,4,4,1,1,4,3,1,1,4,1,4,0,4],\"coloraxis\":\"coloraxis\",\"symbol\":\"circle\"},\"mode\":\"markers\",\"name\":\"\",\"showlegend\":false,\"x\":[2.507095366888567,-0.5969679056633486,-4.158460276223561,-2.387344878512217,-2.6501218371679083,-1.4965091203367624,-3.9235207721573238,-4.611011109831115,-2.8376900630842297,-2.706690139892783,-4.698331383924287,-3.3759874966798677,-5.608998877066021,0.29549463521176883,-2.5725591062870423,-3.400822802049345,-4.366720316263418,-2.7254698167724003,-4.958112358381606,-3.693495184642272,-2.3116694418123536,-2.495395657404454,-4.335204546066737,-0.858126195241263,-3.9760289242382965,-5.083763521257526,-4.485954030673711,0.3649863117450714,-5.762650418249873,-4.461581953701337,-4.355809968981686,-6.838183840880274,-4.969952623213382,-3.6966381473909795,-4.008367421260787,-4.4774522853432925,-3.6220271054307753,-5.166996866893573,-4.62450853756,-4.094376775037353,-4.996851545459158,-4.831127188307811,-5.07437357476468,-5.357393360658257,-2.429946001962236,-4.887231662299937,-6.216153756078059,-4.163869190777451,-4.375036628841874,-5.599767532123392,-5.461981186365572,-3.5199573229098666,-3.6204113100304607,-4.676610464893098,-4.637370719586301,-4.947145009921959,-4.733113028608392,-4.32334176269361,-5.389012884269636,-4.390929602508023,-4.257141936578432,-3.8920417103992206,-4.474045603322584,-0.03564668626936118,-2.6509692493824097,-2.4216622331311264,-4.3668672123134575,-2.779708277978587,-3.741975321917549,0.3381454914428943,-3.9825187460797524,-2.1602634615920744,3.0029150110808396,-0.0009516320766093704,1.466998300441068,1.0609572922651893,0.03978019223036814,-1.6016331166980315,-5.567553123646133,-0.5331485662766947,-3.5448030234143606,0.9711272284928159,-1.770376907094442,-0.7395042605426247,0.5209250413365906,-2.8661560462533027,-2.8719682239102338,-5.279645004711658,1.0291789116112415,-4.377158579368759,-5.031744778414797,-5.511231694364841,-5.766675169822016,-3.6435406232886614,-3.1590493254132945,-4.868831761471574,-4.10116409594273,-3.477195156012232,-1.5990958889805784,-5.239411621447389,-2.4314667400074312,-0.6953023105880035,-2.6923311718757086,-3.6126852664722944,-3.685806120963241,-2.424119614455952,-0.7136369992880736,-2.0189217112022986,-4.96090228239341,-5.365459829043066,-5.669147898712025,-3.3910329224898,-6.356489884022958,-5.0208023653812415,-5.474149167955978,-4.39593727367997,-5.416156485201284,-5.4510940000802135,-3.655292989739507,-5.848503594454405,-2.696375201390061,1.8389479816672218,-3.5248694980711366,-4.453460637157531,-3.4095237174078923,0.016530789525486093,-4.53266022633462,-2.9354656588906525,-4.970602062123954,0.12044630634047979,-4.093198004385115,-5.1805735654511755,-5.1848379400111195,-4.936559229000648,-4.967088763105221,-5.636330198004945,1.3584586934390834,-2.6509692493824097,-5.106582918541899,-2.9375606283649685,-6.286669742229688,-2.9375606283649685,-4.809947216418682,-1.4286529503452645,-4.544608053998073,-4.170522899634582,-3.964554434745603,-4.365917517240916,-2.7711854679591195,-4.68312734939045,1.966284234283824,-4.36252654437158,0.2773104041300488,-0.4613458672145883,0.884956253675683,-3.6900082085670642,-5.172272706957577,-4.659823012157897,-5.135314495049288,-5.3342801875903625,-4.9344102338899365,-4.587087603302852,-3.7164788636762873,-5.232941861870434,-4.731894014724026,-5.300488664539027,-5.067803166998767,-4.519917869892383,-4.6782932787412035,-3.2174138757686603,-4.502265335132614,-3.224442360833283,-3.8286939252236163,-4.7116311154809205,-4.425356430088934,-5.434488870130996,-4.319352209262777,-5.876405281719774,-4.915924675571274,0.7552729690724667,1.50933744880908,0.677259763210725,-3.072445143524459,-0.12381872765175427,-5.5816721043152375,-3.286877034146396,-2.9508344190331197,1.0268855352482111,-1.0143491733515166,-4.420534856060791,-4.874750389574627,-1.7470956688023873,-5.589266236619818,-5.072186632913587,-5.296075026246495,-5.04046936130986,1.3247478469734575,-1.2258733070031846,-1.5615222080638944,-3.1168580775687826,-3.2014724225829165,-6.709173792299384,-2.3596862394630373,-2.7475318323657865,-3.3879555204519756,-4.290745205699505,-3.4121818567614075,1.9047522511957309,-0.38314160117598856,-1.2903305172216464,1.9936982177279898,-5.226399747343381,-4.208080874908135,-5.260693077645068,-4.993674381634953,-4.70745790401461,-1.0499997192695056,-3.079569838734042,-2.2226183013420355,-1.2203146342931457,-3.2211884216477515,1.4379764850645296,-5.268243552446845,-2.318062461075654,-2.0879310710183105,-1.0776978254838006,-0.737601585933127,0.44103347150320515,0.2290812259742563,-0.2646965644286258,-3.7399871144587147,0.7815949189192125,-0.7085965402183597,-2.619643894064793,-4.998642597822329,-3.4930248142852713,-5.142156944896055,-5.589370432328704,-5.679213360730011,-4.8748143646239965,-4.746220620329249,-5.303656805669688,-5.397706155769295,-5.540413038613183,-4.323928693083358,-4.611826604475927,-5.298959958840356,-2.6232887842338446,-3.8252063543871433,-1.9463773522784669,-4.878376252693533,-4.301388295273469,-1.3059593961903273,-3.871102213551252,-4.3009222975768795,-5.003620123683098,-5.982616860454033,-5.982616860454033,1.5479874885491285,-1.24398942101353,-5.636155381081918,-5.336876109351062,-5.0219877728286155,-3.7935979776030986,-4.313004672085262,-1.0119859039440264,-3.776410252302926,-5.480102211955438,-2.9433561651313025,-3.1607040892209843,-3.0819565682828034,-3.554855074185964,-1.1479852284255316,-4.7319936873602035,-4.84663471237035,-3.679405165953634,-0.390110573775052,-1.8472403308838503,-5.081373388023605,0.811165438010862,-1.7032308919698478,-4.3257548672885955,-5.433275344863523,2.8603911303144947,-0.8493508806653164,-5.4476596730889595,-7.258821944217092,-3.769242773511947,-5.096045147230372,-4.205265850416263,-4.414457971186545,-3.7593017533596043,-5.4236833937439535,-3.4580955228897103,-4.205265850416263,-1.607333808110783,-4.5779976861136555,-3.3510383947869364,-1.9749914191270936,-3.5168252176041968,-2.9479966210869595,-5.277892329505017,-4.7827763982525395,-3.9728294765367873,-5.305879583452744,-2.9250122502399294,-2.9022539865487307,-3.8782330082094303,-4.671223879279336,-2.155754745466543,-5.216368108986172,-5.5732430063226275,-2.7809316351081894,-2.9612499857941885,-2.652040912022222,-4.60731047382165,-5.35688781057248,-5.049992322047183,-5.115399605075391,-4.598872518209745,-4.209407083974348,-5.803977257683215,-6.029259199808786,-1.8434805942046444,-2.0480569768526937,-4.531233318424353,-5.309331648059134,2.6324439383058573,2.8603911303144947,-1.544093151836679,-2.8807879750866054,0.3471841680891872,1.5164415974555527,-4.091065378163482,-0.4831050487747721,1.7346181179693387,0.37610254345864863,-5.358885409827924,-4.49979198330814,-5.776816937942183,-3.542775847250604,-2.2429087124006317,-4.49979198330814,-1.8166813089926364,-3.579328818480787,-5.311333348587723,-4.939953572730317,-4.689726107532756,-5.008431077966906,-4.362026179533311,-4.49979198330814,-4.93819268732955,-6.104547771849927,-3.5718776123150318,0.1160271756059886,-4.141270716101551,-3.490820786227076,-4.638263426182965,-2.6067958552392687,-4.088334243063863,-4.1930703052245715,-4.237877656565584,-3.985440313317706,-3.646245710264779,-5.367270476876652,0.8000023440276721,2.4087870996662906,-4.12034158243512,0.9243825157830227,-1.0443624743901412,-3.3695406218337443,-2.965802325678387,-2.301463708947319,-3.464749867798587,-4.558722382095478,-2.9256692844524532,-3.978979888035598,-2.4660411835955207,0.685667300972365,0.5890842810718216,-2.027300654578943,-5.356453832314641,-1.9969673721481425,-4.623022539796001,-0.014704796368304051,-4.590718340151951,-2.8693997584287003,-3.6518336379956424,-5.222039622474023,-5.488965981982545,-4.568722940006777,-5.109077878903731,-3.442712938470485,-4.395222772571127,-4.760209365185643,-3.9516863623338065,-5.944115097565751,-4.007030775796919,-4.141346740083334,-4.235040577070814,-4.1423893475062465,3.5202900071408356,-0.20847281151330685,-1.7973432489977654,-2.9002342993795476,-4.165296690640272,-1.3597591089839507,-4.1402495857993715,-4.721382856095986,-4.893320685847,-0.4985242644110149,-2.578800570945362,-4.730274716410626,0.3447890996386128,-2.5778103943278303,-4.9366776615835954,-1.906096222487774,-4.306741492000386,-4.5755229589624475,-4.5211411025498505,-3.0485584859468724,0.8003691815266412,0.7286450158475103,2.5295820405351224,-2.633291643393298,-4.636458308457667,-3.22917852476484,-3.631948329178455,-4.66524959945803,-4.571542112053316,-0.6007925132264493,-2.468984370664333,-4.381758856949218,-5.093168316038869,-3.6697252251196324,-4.063426182281965,-2.4552097181689643,-3.3539218517277845,-5.343777967524715,-5.541091738343573,-4.335873626038245,-5.010343311437334,-3.6896877421835206,-4.222179718247738,-5.431617706907924,-4.689391098619316,-0.5411064925841841,-3.068893349766219,-5.112262836439745,-4.871939884951021,-4.422108286109046,-3.072477000751603,-0.7759249774788672,-3.490285398107409,-5.085511385078381,-4.00846937056542,-3.380205588103116,-2.50487959197724,-2.2471518866454034,-3.0820396167414517,-3.0443768610094657,-1.9603050579640657,-1.0318430229710447,-3.6517750916958027,-3.0885782702886293,-3.699026595688223,-5.717824790756596,-2.1018119725960998,-1.7015146220905508,-2.085410207969448,-4.651707641315453,1.6939194491283105,0.10723865587762357,2.910073553207363,-4.097694126450038,-5.671069135062736,-1.15959068397335,-2.5888877559186274,0.16288970979966408,-5.41425187902357,-5.259642562888531,-4.324450886690381,-2.6978394576529268,1.446700021992907,-2.2597517447722697,1.4747100152422903,-0.8715622148008771,-3.4964739334061408,0.8278449894773958,-3.1948919810687184,-3.5143900668732693,-5.2458209318173905,-4.92444302609093,-3.467686898066688,-3.0665099341798063,-4.596767791276207,-4.481039761543774,-3.4868780914586197,-4.804537034307058,-4.787846835690024,-4.7163747262292,-2.5000595107119383,-2.957631946656918,-5.116408928813566,-4.822831802007799,-4.856270742441844,-4.474225505228202,-4.272086153850531,-5.198069170900639,-5.040568172803403,-3.627856866199046,-4.700122327507659,-4.7154530905915975,-4.459891228537545,-4.631579739874836,-1.9123093475484068,-3.618155617631954,-4.106258371307422,-2.859821339179236,-5.494732724948323,-3.727760462087803,-4.192597025394803,-5.074680544250715,-3.7021480788572796,1.2101458762435873,-3.0934283196353594,-2.5201920104186297,-3.632560800537991,-4.153277336389334,-3.3033693656697602,-4.629426921159562,-4.121959854008619,-2.5301398370655246,0.2872158357371562,1.5819667819421055,2.48228627229359,-5.890281119389612,-3.5089370286808927,-5.325227338416165,-3.647067683979801,-4.423621871271554,0.37842671462430794,-3.415885777555099,-3.773500533943223,0.2872158357371562,-0.35286940798317185,-1.4783923804812245,-5.348505149495168,0.5696208110952876,-2.554832484324245,-3.17393157011539,-1.7609805114929824,-2.5893021896448682,-4.329991151760641,-6.193498403665639,-5.300161104398192,-5.19699567838375,-5.603871295004517,-3.7902697006002133,-4.665414042206029,-4.869171480300018,-3.721973786539572,-4.478666313635377,-4.154497469317395,-5.330193589863844,-0.7541191507312455,-5.220236312649483,-5.2535246444755925,-2.9078974835206655,-0.46953600832437414,-2.4374474977768377,-5.057689462518137,-4.518860794243656,-5.5867065860287415,-4.0803470825041375,-6.279395007687546,-3.4809022501658275,-4.504513318903443,-1.7894639436343103,-2.915829783171578,-4.780599055416052,-5.902966725775286,-2.298388264010188,-4.425777106667889,-2.783845541560215,-3.6666117411792336,-3.3989140554706694,-1.2604043445656623,-3.037877977375541,-4.414390450282923,-1.118104937068118,-4.488909192879654,-5.801862068626825,-4.144080052449221,-3.7338319088685563,-2.5098647652729396,-4.739900908056621,-2.91579765430503,-3.85151312722362,-4.286367421673874,-3.1042652476901287,-0.7888462993849775,-2.8466059184174544,-4.035854854183508,-1.9395529797502686,-1.6963378999408472,-0.9267441278960802,-2.8968839739983037,-4.7543391327506965,-2.7494855207706266,-2.3865400095562235,-3.0444694820911358,-4.097268659955897,-3.5355476836694173,-1.7864036160869945,-3.020259405258462,-4.223428699242665,-3.984179230059826,-2.4999880926043665,-4.411701358732395,-2.9756539325598204,-3.682713421339936,-0.22843299225337488,-3.845804381939452,-5.03497132475887,-4.43908853211066,-3.0521904811890344,-3.867410610122529,-4.046500838965876,0.8248058624948272,-3.451658557238681,0.16370099872341887,0.46257972164728306,1.5411798079640036,1.0866256748296825,0.718240118462044,0.5394359984857351,0.4570953621750117,0.8062778060401217,1.455535661211978,1.538633498299533,2.1477374134183598,-1.8760680425303389,0.46772953120038085,0.8049479570560892,0.3947723352899138,0.9487355300885292,2.0119781136278974,2.213276714380289,1.5773978571030807,-1.7940798303370653,0.31143870814433605,0.05874278495664804,-0.198906760556548,-1.9024539982658586,-1.6782365330449946,-4.002170954068779,-4.828528204518566,-4.84557739029975,-5.248420341715813,-4.53124201311413,-5.677570681866043,-5.356641584400979,-4.7934576603527015,-5.383189545201895,-4.0581631482185045,-5.401442359913558,-2.9379756970317263,-4.553942654467481,-4.754952145222011,-3.125069049701706,-5.385986778002177,0.20590915466027623,-5.614863181498975,0.16255517615431597,-5.216596184845042,-4.837497338351348,-4.8503821958005995,3.0029150110808396,1.584556961373927,1.9071597880601059,-4.882836520138859,-2.9326452141332098,-3.7478684810896756,-0.5815551177178863,-1.1439716441818535,-2.0368829651429454,0.9496615102823442,-1.225152059857376,-2.5629779399923063,-2.775969917333917,-4.566074715471028,-5.215559526971925,-5.646097399384991,-5.199103034467055,-4.00793886125039,-2.9928494811961217,-1.3946775984731687,-4.269798305657646,-2.231966338902742,-3.6301228690985274,-4.252731532645001,-2.872488148838626,-4.95635189639061,-5.265382620034632,-4.682811332369899,-3.7309945147346997,-2.2149192340204924,-2.8898191849271515,-4.509753669139389,-5.4257598163695455,-1.9563517697793888,-4.507667155328207,-4.507667155328207,-4.13020496024651,-5.463521192611305,-4.240167801189526,-5.277832502665982,-4.179588937784977,-6.087390122720602,-3.205439947496625,-4.75128741401476,-5.014234048638947,-5.2619135944969315,-5.697078755875921,-5.199994392898521,-4.866042929142367,-4.435992445699318,-5.176514458670336,-6.048521196660773,-2.297391089392956,-6.566279086742132,-3.050525931446196,-5.206233183904521,-6.083294097221034,-5.283098451508422,-6.035102758105042,-3.6623204424887383,-5.883626363510584,-1.9893805840003314,1.1020860666639345,1.2934925127099361,-0.8983178904420193,-4.619601171729456,-1.2849261527331555,-6.035447790142313,-4.614726617999254,-5.047674147000941,-4.432268477927295,-4.861104602765763,-5.385857673258033,-3.85151312722362,-5.462657541670717,1.0026296128392609,-4.570947640753807,-0.17044337500554643,-6.020805834332481,0.2147232514112749,-3.9015197767576772,-6.0081807230469835,-2.269089912841962,-3.464714709888725,-5.93158383419309,-4.722169060873634,-3.464714709888725,-3.582824894589332,-4.31513257985099,-1.3167835112225488,-5.997505648928256,-4.638822889828936,-3.612300060091386,-5.10503428362798,-5.507077358588354,0.4856610103145273,-3.4798861417652325,-4.0868574064361844,-2.954588047311575,-4.986366356937069,-3.5812329212608325,-4.118197661121331,-4.756704965000342,-3.935403013128535,-3.2005908624580415,-3.7899737638937685,-3.992621879386126,-4.607691558097392,-4.2603486342547585,-3.122070627503431,-3.645988399696514,-4.316888610750552,-5.228677733606068,-4.914352931631224,-2.4185710439950707,-5.286824427246124,-3.8732549617329437,-2.4755380530983744,-4.162603146392043,-4.099430462263742,-3.8818563476252566,-6.144095585194448,-0.581921496699923,-4.763773237180515,-4.125391173135178,-5.328598894410507,-5.771651924376855,-4.830071144967743,-5.9400928977975385,-2.479938579342516,-5.145284841566116,-3.4385742592986794,-5.234326054350179,-6.137820112532424,-3.8107978719451805,-4.833520503096878,-4.4298855824723535,-1.2638326913404578,-2.8613252476843805,-5.481277177541535,-2.1742028638623543,-2.694102746370725,-5.122281798412754,-3.9004538753460656,-2.8735453023044295,-3.730777170883552,-4.9762413466160655,-4.854153974935825,-0.8689608513893703,-4.589141724216087,-2.748614695539069,-3.378886537510748,-4.864490298921745,-6.344080683499397,-4.555263514057513,-5.367075239901784,-2.6230832121971828,-3.8218692952891615,-2.5142568398314964,1.3604074848475967,-3.871495459804985,-5.403594061974566,-1.9542558893063091,-4.3456266816691285,-1.9758746900908053,-3.0819565682828034,-4.843844100473679,-5.120730511775768,-4.23306202028025,-2.575699265140565,-6.068863494408951,-4.703216856439864,-4.831512841577892,-4.2684921299649226,-2.1266511794793366,-4.588504990405025,-2.905216143606632,-5.010731012483104,-3.944819916828052,-4.690261281349023,-5.438843235957076,-4.157586330768915,-3.520232864350197,-5.603379602981404,-1.5361017025274681,-2.7495991879726027,-3.0604613880451734,-5.4472997933686065,-0.7753333732683019,-5.224864881530178,-0.478509085630997,-5.3430937849260856,-4.8221355512514155,-4.326036371876758,-5.602521689095736,-2.5127119139025162,-5.114809519284199,-2.109290820641772,-3.6845748062444565,-4.34325446526491,-4.9883932979899805,-5.089356402436012,-6.422527823047501,-3.43913797093143,-3.571269683371384,-4.149729757421123,-3.569064181698557,-2.0696849216571374,-2.9393201153276833,-4.778824354378836,-3.4059960878905864,-4.857486047098761,1.626570151294342,-5.155593902349451,-2.889192307395963,0.2058850028983944,-1.145850832936652,-2.3820604318720044,-4.329227741165605,-4.468602659609295,-2.795117986084774,-5.614295592139431,-1.2987786025205204,-5.398808585238454,-2.660981895635546,1.8389479816672218,-4.137267018330001,-2.5232668488880257,-3.4726912184024448,-2.6509692493824097,-5.417431611611537,-2.8373273722285473,-4.793753860618808,-1.5874633124803952,2.6943475416443,-4.154003117738107,-5.482938814682312,-5.700374408271562,-1.9261155607635616,-6.193032503101146,-4.907105180380474,-1.8475229392411014,-0.12563572393275801,-4.356264487813293,-4.6557459022088725,-4.339617656297807,-6.545025178300856,-3.422689422176008,-4.780452710579942,-3.9555456823037596,-2.7512566814760193,-1.2839739296143315,0.7372064402967312,0.5772465663948537,0.32730436734549906,0.020120675132522556,-4.069831573840387,0.34204152804712257,-4.023897392410776,-4.984123563810715,-5.098869436357782,-4.787493323403343,-3.884211116999925,-1.493243277539585,-5.72980783530754,-2.736945042858814,-4.185257665035357,0.11738641243122735,-2.58198679404491,-5.0129636033138025,-5.106927380213162,-5.058155577083769,-5.920888510276412,-1.3697439954984862,-3.9330339795005127,-4.274424727107668,-2.263372702976598,-3.639523239729762,-4.728101279253778,-5.348122202476684,-4.134461089197963,-5.806149671563957,-4.422730417469832,-4.285287186295224,-3.92806068017192,-5.1695803149497825,-5.4566440341924904,-3.186884145545724,-5.118027966066807,-5.1889817169027594,-3.6743707297350277,-5.261045168403487,-4.933707262323287,-5.632436210483634,-4.9353419563238194,-5.966576688209623,-4.540019050545231,-4.51771082814244,-4.26037836498455,0.3837628583832433,-6.148575996349202,0.9462157315438933,-3.1200000016932625,-2.219449194230528,-0.5426544746061287,-3.6372797132666848,-2.9245474831961005,-1.428888076414329,-4.923424244512808,0.7458479492063291,-3.8107978719451805,-2.2601260787890425,-5.2899593420729145,-2.5988330978744885,-3.8653186929233496,-3.0505988180231767,0.14546933819420937,-1.0244326726960777,-3.592266868389149,-4.548445383517873,-4.936802809963493,-5.786785554006779,-5.696362746223876,-5.2024990794702495,-6.793089563951314,-5.126729143982088,-1.848822448014898,-2.5435426421945344,1.097732485881461,-1.1210456910306246,-5.825429421963322,-4.161629185694354,-0.02701671479868302,-3.9704977155386105,-5.587428786414589,-3.262209344553231,-1.4963613854954751,-3.5203608326870923,-2.9565660337992314,-1.2952874523471787,-2.4492475126446847,-2.7586313738774018,-1.1938183336222898,-6.474588738644974,-5.937494710336558,-2.950779457025824,-4.908855366015953,-4.675501553325569,-3.0418097249603204,-0.1453928407355754,-4.420185900347078,1.8249084564044713,1.7208591715644763,-4.636641599483374,-4.254886294546545,-4.982451002542508,-5.208049340547015,-4.853474278683276,-4.667816532848699,-4.5306027549946055,-3.299145791731494,-2.975905805089746,1.1536474135470227,-4.488248247776679,-3.024846096596968,-4.262570133899524,-4.972449989725707,-1.7653172066627927,-2.133841178806529,0.9386810855591465,-4.309184365608219,-3.110122819459645,-5.321801057756419,-4.950374669078643,-2.9281846847141035,-3.028707682087715,-0.6860995979162758,-1.3941306458966667,-3.4600669882758806,-3.021500231410681,-5.012790730329964,-4.302083977373832,-3.5228576299969356,-3.553061079572456,-3.604733535493753,-2.6772914451578935,-4.804537034307058,-0.8989333477017438,-2.374707194862712,-5.152342486534294,-4.078213690732249,-4.495956761093868,-0.9989670053064547,-3.5801221506505514,-4.137394036090074,-4.2682453659703565,-4.3215168887188495,-4.7550417724572895,0.07825954320112473,-5.124862706431653,-3.151458319385953,-4.004089818380504,-3.34647570918457,-0.38086982350614396,-1.0519420943851832,-4.89536489757728,-0.04175086650694138,1.9127508519448038,-2.2271220269484964,-4.235922681560476,-4.343130480483141,-5.301306808918394,-2.2625988856220243,-3.7867701120171007,-3.987290579627767,-1.8614779604678544,-4.235922681560476,-2.4157647395040107,0.3630919034467594,0.4389848480639194,-3.3897598798176016,-6.637582724411297,-4.370743938458483,-4.897427465222973,-4.358902494160158,0.4898235895352589,-4.5930893993357245,-1.1841952547732562,-4.892972389663184,-4.985362598447731,-4.707391362887386,-3.727114230803121,-5.473712743810089,-4.785334341733039,-3.9715882212897244,-0.36406523271941565,-5.3085190337979125,-7.228250857391675,-4.907729250311827,-4.399798049257387,-2.5921144021458793,-6.092015874212501,-7.01730297053188,-4.551953759397357,-6.377573545540187,-4.141393135878721,-4.591009113275873,-4.7680904901348455,-3.84014890144993,-5.469400769788461,-4.210106426967506,-4.341790856689342,-5.109636700399982,-4.884818667988679,-3.5247110848431924,-2.663951886366571,-4.227186632132374,-5.225194811675762,-0.5174574639879652,0.81091528179252,-6.053554653881899,-5.077052431560325,-5.1702913747831385,-5.104919320169029,-5.156402389543296,-3.8600133645179966,-4.6959783276053,-3.8048809394768996,-4.940104962055662,-4.9381666119177305,-4.336466298342861,-4.100524710067896,-3.117233417416843,-4.677918206987256,-3.6354092575017343,-4.653545722835439,0.6785104992383704,-0.13574527166672257,2.079749082499418,-3.204655521037828,-5.791377988341958,-4.077462853547392,-4.488881208015359,-5.6146087601182835,-5.692720527277565,-0.7051172918374082,-1.7507527560980527,-4.41894180873093,-4.443780937950839,0.27885657588462603,0.4339303454858537,-4.324455832214127,-4.2603582438553085,-5.694321063432106,-4.870609615829718,-5.122215161451377,2.576845389354284,-4.232460168049193,0.413026235196771,-0.7399558389346477,-1.012081188922969,-5.226459570463905,-3.5800478313800217,-5.325007034261341,-6.29186166610669,-5.615265795674222,-2.253530762338407,-1.9737086436979416,-4.313004672085262,-5.220344337920116,-4.53511080079634,-4.858072771206413,-4.364012441384492,-4.4830557345409625,-3.3389988622251376,-4.212667089846834,-3.3353568342063085,-5.227396989107788,-5.350666846401099,-3.575903965793243,-3.539345633633999,-1.5891877040009157,-2.494360082537378,-3.4583058906224102,-3.8853647228980055,-6.346058529873464,-3.205239510566666,-3.831781116405795,-4.2775748134845335,-3.9221219239847183,-4.846624917864416,-5.8424476087956485,-4.899674600608699,-4.65648804780118,-4.703564449095254,-3.794758948524115,-4.179681038056434,-4.860182191878128,-5.7989859476964885,-4.958105244813524,-4.138111740379876,-1.7070947900265587,-0.6323162787977237,-0.9870799948471697,-1.2567130007230314,-3.786404853424034,-0.5483311192090004,-2.926563043506125,-2.2221554236063894,-0.7055074528190609,-5.647667798558569,-2.606238780448864,-3.618609352021566,-4.883667507433114,-4.59052299106314,-4.139786394071556,-5.4344700988692125,-4.5038231076686035,-4.723831950661722,-5.2720845904203895,-4.749406861067513,-6.279395007687546,-4.600285823431294,-3.759190778407302,-2.8326805840425036,-0.19137434800106018,1.452664303158062,-2.229584728046952,-2.7983167545507195,-3.2233620897611575,0.591714167891006,-5.371813078041048,-1.53585278188921,-2.1058321772291384,-4.068317881190739,-0.7137640619676405,-6.234068938598194,-3.892277412088823,-5.861195596036839,0.07284517403271516,-3.1472290381715213,-5.560317624331781,-0.03431837298571015,-5.430682806113564,-5.328398147264678,-1.4097980970328583,-3.524726811082821,-4.339856238645671,-3.9576441138484153,-4.620167718205896,-5.138359499639749,-4.4670895223889655,-4.75046875350458,-5.238289818198247,-5.271938190108606,-1.5573278549293856,-2.718173186088278,-1.0119859039440264,0.031021198277267337,0.10396484179041889,-0.3053083090749654,0.8491175332863997,-2.56054265332856,-4.563165260511398,-5.6888741754557515,0.9739984094662117,-4.434732889716113,-5.0224014779347845,-4.015758322967013,-4.106421507153365,-5.223973148850005,-0.7148948460803654,-0.24422408037908822,-0.7502225467391039,-5.001298067899452,-6.279660904309779,-5.2788655513657226,-4.914763291252145,-5.5038316013941335,1.3238622302459842,0.6304275922228108,1.030005269082534,1.6777892468174096,0.4246416016274789,0.568614800249563,-0.567657008063317,-2.415112212979913,-2.8043987407198725,-3.388619220377105,-6.657422152278721,-3.3397250564195673,-3.3397250564195673,-3.240103653848453,-1.4450889048551203,-5.0330997524525,-4.801263062342857,-1.5319015877051914,-5.473088176397871,-5.076005699895536,-5.367018244669418,-5.156589689720529,-4.690055553030445,-1.7957814019982679,-4.488909192879654,1.182387178416965,1.0307390995211023,1.8661900107890683,2.4358752451550707,-3.4216721719897203,-1.2915186406250363,-1.5258883378070605,-1.5258883378070605,-3.4216721719897203,-3.060188468982633,-4.892400541684087,-4.970103813278423,0.8923656943521612,-3.0700006963512037,-1.0873548061116138,-2.4670201871666793,-2.2209903401175186,-3.6788613478292196,-2.394566974507024,-2.318519230094155,-2.6200291563833136,-3.9471553586136436,-6.120261052035171,-2.8738974160728614,-2.4015434515479854,1.5559871817918731,-1.0841487556800147,-4.871555260202179,-4.619126794253312,0.714376291259924,-4.383933266256466,-2.0020774083043262,-1.7215431414422362,-5.3234303126546365,-2.9758304279265,-3.4398177271304022,-3.007553250898184,-3.040973154816765,-1.5437600888046847,-4.699899733332013,-3.2535707574673194,-3.641122201380098,-4.103178797141607,-4.338107541306485,-3.125550705031423,-4.158982960825912,-5.429426152547154,-4.933217915416116,-2.454799591103901,-4.282851489602714,-3.4023836204629716,-4.457594375340027,-4.154060771107801,-5.954656129394102,-5.71366783642485,-3.7225983215725638,-3.5241806979266816,-4.0812264863015395,-4.641563913819932,-2.3484614964230244,-3.732428486265814,-4.805278856053793,-4.296117990903339,-3.85151312722362,-3.381278692916367,-4.655342746651351,1.8986220803863185,-3.5617648061095406,-3.8203397627760154,-5.501620450480899,-4.724533291656038,-4.237820872808138,-3.428453331615742,-1.8767122627665112,-2.587381473145469,-3.1867813163785264,-6.028464717725963,-4.627188529112983,-1.95355806471236,-4.148022235765708,-3.85107635865038,-2.856739782399886,-3.168899711498074,-4.450694105911223,-2.067183092256287,-4.572832792690344,-4.703738075212049,-0.8370947811031594,-3.502483642381283,-0.5592419765276525,-3.3280195457197226,-1.9025509124639846,-2.5985491231802413,-2.9576906100839486,-4.67735541357781,-0.5246486569484538,-3.8666100423499987,-4.363120501129794,-3.6322819450822017,-3.8395187099031167,-1.8786285609206612,-4.488909192879654,-2.5859140430483913,-1.8694180853855193,-0.6397023394802666,2.3313835251877015,0.0042503373199958535,-4.966204270941069,-4.717248099102232,-4.072703316426139,-3.2174275563909704,-3.0432482659135056,-4.199096186017302,-3.7204930152773477,-0.1862518067692973,0.7246102854911212,-0.9910781906660344,-0.09785095522450038,-3.8685162783587805,2.081836142453124,2.049902312633101,-3.451658557238681,-5.052712662274202,-4.912325367267261,-4.912325367267261,-4.338872923540231,0.49864007102129543,-2.287439748302232,-0.35831012082788777,-4.912325367267261,-0.139124763294239,-3.2365962003336577,0.40651939271055176,-0.1022270079815519,-2.726344044011171,-4.757479083526582,-1.7956434645098494,-2.8017821379334067,0.6065798395246842,0.08112045757820191,0.027087705225933335,-0.5828817689133128,-2.8626658579423787,-0.6599946107497734,-1.3198917983668659,-5.839778715036815,-5.551060302176079,-6.164405608460044,1.6273409616664252,-4.0873174494174105,-4.948735409981665,-6.047630231801458,-5.547745240130609,-5.671625569681361,-5.466935106600765,-5.585665194745309,-5.520461793566562,-5.789679809449207,-4.541420758735627,-5.51315166498042,-4.387555029210544,-3.9656344420905203,-3.946824201196646,-5.855303319261676,-4.682089309671343,-4.730285318770528,-3.288367180263732,-4.596746820384191,-0.5310347770616922,1.4538317744755826,1.884469991834316,1.5183609042073778,-3.310089871752065,-0.3467629409825892,-6.065427696330097,-4.913336654531929,-2.058534815037104,-3.930195414295733,-5.301631660733681,-6.018730658263754,-4.421081017444009,-0.3467629409825892,-2.0857973642885206,-6.911896328552972,-2.010211837716277,-1.672784923076204,-3.6318398846932047,-5.751870960939505,-6.119005287529267,-4.159281940378027,-4.130384845256027,-5.158757675103213,-6.236016207881776,-5.5584515337192,-4.316457392593108,-3.7132803084441126,-5.719332367919125,-4.541420758735627,-4.495921169058191,-4.874627640032356,-2.465193191573716,0.5078346124273555,-2.0593205129233376,-2.8656367699204117,-4.228393018910922,-1.3442350811413721,-1.3696728798048696,-2.508199946924139,-4.827661807808561,-1.2163681274229565,-3.747724524929056,-1.2059218271232843,-3.641617301680746,-2.851133790276807,-0.8215520219501607,-1.3093370694658752,-1.518335337629816,-2.784454701284199,-1.9426495651009106,-1.185043578119655,-1.357361775554406,-5.216894008198902,-0.2684706332487159,-1.4838277247336702,-2.8206034294687634,-1.016904200950887,-2.50539338259386,-1.7947515921512955,-4.8241871864431385,-3.3136386088394842,-1.7121949391614593,-0.6411022430176199,-1.976961745284653,-1.8395129550038063,-1.6473964004879262,-3.3340837589267593,-1.5661730069846733,-2.0345238900218887,-3.548509828149488,0.6011208352518291,-5.715449150205428,-2.918676045132001,-6.474373435223655,-4.30680899917644,-3.8037718562368044,-2.2081275461714838,-4.960420506700614,-2.9419049084361313,-4.343130480483141,-3.973495756504942,-5.63783005236545,-5.66219406493151,-6.32825141619696,-4.843196799746318,-1.092066896044447,-1.7710809924209332,-5.164749722148636,-1.2566214459968688,-5.835592376370998,-1.4953207889616036,-4.666171505708634,-5.599767532123392,-3.4330558457178664,-3.6138472315550705,-3.325363795063827,-5.168987785170436,-3.154190591926866,-6.841202700325393,-1.5981080280013022,-6.425049522427923,-4.41279618111073,-1.7631817717765617,-1.2945020548966883,-4.239226986479768,-5.204867542908237,-3.458203310408881,-5.133746978585393,0.2651537400525694,-4.165581818977734,-3.5247110848431924,-1.892164080721244,-2.6723912297767654,-5.087502115870062,-0.21320054236104505,0.08402206789316673,0.21376112969140337,-3.6704415851593013,-0.8310603402148966,0.9267764347513446,2.649633076175814,-4.859672870928417,-4.933545692923558,-4.324417551613171,-4.400142852402639,-5.488977547238913,0.3518987561710021,-0.9587992611489237,-3.2222754479055564,-4.499365488187728,-4.747930847049147,-0.9545568990049371,-5.455402033971019,-2.917105711847792,-2.738565080348483,-3.5654905586242123,0.6494352183703144,-5.128179013376772,-5.044723337053468,-5.063952477349315,1.6060832061681367,-4.459689425955628,-3.64457220658519,-1.1992228250841617,-5.8583879219368455,-5.201494525751792,-5.78232444241822,-3.799891311858131,-4.629208650928014,-4.4952488161502355,-4.860764301652536,-6.1167710693668855,-1.4479145751112046,-5.494601706650541,-4.591367911345676,-5.139174062441337,-3.657669861048366,-5.263493288608375,-4.591966875110218,-4.867544799592754,-4.636031753921779,-0.9267441278960803,-0.5677647737962542,-2.899729115839088,-2.6832350356847026,-4.959335749105736,-4.787218665227902,-4.996554317172324,-1.425037548540667,-3.449987261052189,0.14083326750961125,-3.564300354213088,-4.267058465520456,-3.6291340492696555,-3.19622182528188,-4.084893102747818,-0.8001887605310049,-4.888543654903367,-3.445480014347694,-2.594687151951221,-4.309184365608219,-2.868478402504213,-1.9067734953524298,-3.116185103775498,-2.212195873300677,-2.1914256499048776,-2.1831774326652584,-5.121028045037081,-3.3325673890404857,-4.101428005271174,-4.105345404606243,-2.3018790261446775,-1.8184023018654973,-2.712012183374881,-4.75751395671734,-0.25484885561678816,-2.3765092957277236,-0.152801397036589,-3.4571761570680324,-4.778082329785335,-0.1756733676251378,-1.2915186406250363,-5.6004673944172545,-2.939141636046242,-3.9542418222601925,-4.285436000397967,-3.0775136951189896,-4.731725216622051,-2.690553077638704,-0.11833412695864805,-3.611110557385153,-3.265345387804615,-5.181285951332986,-5.06885772200541,-2.6752047856017427,-3.0669848817232124,-3.3130758631096744,-4.292475260577797,-3.148895078446647,-3.2532305127926975,-1.4222197489475679,-5.594757102547199,-0.8895264977993598,-1.313802536569193,-3.2234954356500483,-4.014645123104063,-5.983535708427799,-2.6660403516814957,-4.956761872154239,-3.1916750630953454,-5.407885458134807,-2.6572038731506717,2.2129573413274115,-2.1323527575298926,-3.992816876471307,0.8979780360841753,-2.7468044444414037,-5.738548988494766,-5.257154259000379,-5.037303774749053,-3.818573541404076,-4.571111921896918,-4.71930912698241,-4.782096465886385,-5.305313632243641,-4.3417240165687945,-5.019617698526433,-4.583669326366283,-4.812755884189229,-5.259908413271489,-4.958591911495176,-4.838324859995055,-5.286886619924484,-3.252261042403062,-2.899327908383265,-5.807050383817499,-4.958112358381606,-3.173360914685265,-3.093355913472717,-4.885439883130394,-5.326527225982563,-3.831864834373569,-1.4961144420873025,-4.377395792037949,-3.479686431827462,-4.49979198330814,-4.734267373334021,-4.510871044008871,-3.752787029985838,1.4301179464791578,-5.717060871055582,-4.523900998655222,-4.816933275864698,-5.635039223563761,-5.142719263742252,-3.3146440793701157,-4.808238507559606,-4.608816992154589,-5.4065116642814965,-5.248692564912086,-4.137278570798783,-5.2960376199476915,-4.711631361466993,-2.316035278014808,1.2723793604036449,0.6512688053057923,-2.424119614455952,-1.2945020548966883,-3.9736167140667593,-4.483039399296539,-2.4685325285349977,-5.127179659524264,-3.4875739021272314,-0.29636546680958065,-3.496883176437091,-2.6341180803081197,-4.4887015444666805,-2.366338434238436,-4.106051563833911,0.8968039957997764,-4.26069100262556,-4.368071312577981,-5.314639723608732,-4.395769757691452,-5.378689108494596,-4.936831257873033,-3.87960243105736,-0.31831868393910695,-4.761861218759197,-4.2842302481360655,-4.889380568367958,-3.696249902278698,-3.763625844480297,-4.375221596690009,-4.0352814217946475,-4.882932393672132,-3.9508650265161065,-4.088020429073148,-3.785820649371272,-4.7783822436341215,-3.673426582095349,0.15599148794521797,-0.6976078083030259,-4.654084469294908,0.3721729193339969,-4.775642722773962,-5.207548757079982,-5.277837663910854,-4.776185637512531,-4.857968212386135,-5.559805480777848,-4.674824633766074,-0.0747045415061641,-5.4025987399370585,-6.101479802763026,-1.1012759530726766,-5.601520792329054,-1.971877404607954,-3.1578929227942676,-3.1578929227942676,-3.447734135134862,-4.479658775405931,-0.327485136817416,-5.374156729459362,-3.0885782702886293,-3.759190778407302,-3.673655757765198,-0.5180823927675693,-2.272631726064983,-3.4458386648227672,-1.5740950260756537,-2.3276213172663045,-5.646043336821305,-3.8427709988833545,-2.991456989923679,-4.950374669078643,1.0929626382055095,-5.3798262148275775,-4.690055553030445,-5.21877024947116,-3.210284667339022,-5.149411496213942,-3.704837419877838,2.4165258402301957,-1.0499997192695056,-4.878234973700091,-3.6222574296311927,-3.9938335485252336,-4.144939198697289,-3.7301624626762058,-2.8301580791435694,-4.0973738490117375,-2.568931011056043,-2.0677653337758883,-2.850547484451739,-4.696590874770056,-3.661051524139079,-4.183469771000894,-5.0424292573845095,-1.8695656624910075,-3.3159263514840402,-3.1151876247687817,-4.893916535558754,-3.55267004781148,-3.4970501839523114,-4.384534274900203,-4.668337584384996,-4.541522288993519,1.3238622302459842,-2.052920457844385,-1.4755379697126745,-2.95937964181981,-4.05151588126728,-5.348437876033692,-4.115450089131543,-2.9696642977313767,-5.393486100713123,-4.637649360440064,-3.5380473183288337,-2.846085072573791,-0.5223429516450045,-4.05562288165787,0.6318303257213641,-5.415018145606926,0.13607999524063388,-1.3983912449955767,-5.4770907213069036,-4.165474315199333,-4.325764937292899,-1.3423929904619947,-3.7942132230090415,-4.204278085364417,-4.348473644876557,-0.1678951886716999,-1.9542558893063091,-1.5642369417198678,-2.3999958805694144,-4.279504344988901,-4.966028392153609,-3.5211954575028415,-4.847804269087813,-4.841664572747762,-3.7355173112509217,-3.650410230230967,-1.4732845646489454,0.9360050911408397,-2.6660403516814957,-5.303463598128452,-4.461167220003683,-2.2069806306422355,-2.2069806306422355,-3.5284792099831597,-4.860504137865918,-4.5584509004007225,-4.450234038776062,-5.328598894410507,-0.15416665993968567,-0.12079709830296978,-3.486072058365414,-5.4251202619535315,-4.501167902841115,-2.5828131815253705,-4.288541139257676,-4.326766728604648,0.8297778625701886,-4.375302082910935,-5.054809751907,-4.074889022218935,-4.9691235426774405,-5.060741159014034,-3.560408924127184,-2.640784317892404,-4.272298445418016,-5.756262654081312,-2.53282928724275,-5.805062505301479,-4.901986967932918,-4.543750649493101,-1.7689201905837444,-4.5300496198014955,-4.51133375890755,-4.434547702014638,-2.709926584648201,-3.231724608506113,-5.801179772954835,1.3044832363739316,-6.240158276881773,-5.646890037924498,-5.506180413989245,-5.568145244531773,-5.864620327928572,-4.584631870241915,-3.0561400164679946,-5.257814690275363,-2.8550733449489223,-4.3622940608739595,-3.9243366498846877,-4.148016285678167,-4.385672153490235,-4.198087452420795,2.0590650367200496,0.9319573440337631,-2.4895745748204985,-5.180840514909322,0.815458082210431,-3.601026502496186,0.6361486384603254,-1.2143161884959377,-4.1377753366595265,-5.22351705559974,-5.101382668039376,-4.809120410095905,-5.201889722274046,-3.4810459509769385,-4.721297180707784,-2.9552387228837413,-5.13100641178525,-5.556929620666097,-5.043976653607384,-3.8523248727170603,-3.183292722065626,-0.5804869632352403,1.8378649176516184,-0.38914119901732286,-4.205265850416263,1.0537731700150132,-5.792171663940544,-4.254110134883787,0.05770949682994121,-3.725820114393005,-4.874503196296033,-5.1159612217931025,-5.71464156089964,-4.580974423852903,-3.8389481117317996,-3.5723090234745563,-3.1286451632491192,-4.114324056063091,-3.612769678091364,-3.371179568226815,-4.685152051685585,-4.065364499238478,1.9919444061295317,-4.874984931284492,-3.8480813253132355,-3.727606736217078,-4.9159308379223905,-4.564194726251123,-4.506007872987894,-5.523055618880567,-1.3697439954984862,-3.0138639954816906,-2.6798992331007647,-3.84507241471725,-3.379875927990068,-3.3641248015798713,-5.21881249807307,-1.2935779879394107,-2.5386204882413956,-4.287503166051624,-4.586499964824836,-4.607758211564225,-4.604346014635682,-5.426459154626773,-4.617671617610769,0.18737886180694804,-2.928609302010611,-6.4944335350824725,-3.097404548241891,-4.392535228623087,-6.4944335350824725,-4.02975497668974,-2.9601998474427327,-5.025260817415706,-4.227458343900164,-4.899534092452957,-4.3563849696372765,0.12669611359027835,-5.503458553673312,-3.643107278907489,-5.107982333087549,-4.555168273511975,-3.6531490259425814,-5.857118323672935,-3.5304326121235463,-4.980171640258701,-5.0376551732929356,-5.301306808918394,-4.184445368729248,-5.353893384963444,-3.0836835884596816,-2.833493689676752,-0.3101157335278802,-3.8205085930025957,-4.494304397290522,-4.190401608943219,-4.127482355229305,0.04754914549028361,-0.4992982936578927,-4.185439105890704,-1.1016837716519656,-0.5491287130932141,-3.1055170216666323,-1.7566760647861959,0.7199005573310548,0.8127767141150731,-2.7630295466709573,-0.8112392167581,-3.786404853424034,-3.5670700112768343,-5.416859625439794,-0.5402003127558352,0.2535694333394447,-3.4848725595871257,-2.398452913646092,1.435410435500316,-5.777485933698285,-4.822515525010454,-4.809241466511936,-5.340299326726859,-4.902908664265329,-0.9258083430700651,-4.920200708246561,-3.6686117306063992,-2.903247793433583,-1.1924204815510624,1.5987477094619786,-4.3869107792650865,-4.710682164629274,-2.9508344190331197,-4.346191736951269,-6.535394491347998,-4.593555379011054,-2.3739576316828743,-5.641283079361658,-2.467755092793775,-2.424119614455952,-3.567943162408707,-5.284988328724023,-6.595588647093733,0.00660794004238458,-2.5532527190972436,-4.4933209237025515,-4.919035913688875,-4.754834355823146,-1.7323537341069497,-4.271005062954765,-5.463501735105245,-3.5920059642310393,-2.290929160013177,-5.61325233548012,-5.890808776830594,-4.72904530713439,-2.228291317240112,-4.819801043914088,-5.391734035558967,-3.8029527789502016,-5.050697766339885,-4.709786713005688,-4.302188140997594,-2.242698979510879,-0.41526447542570827,-3.36564762968197,-4.003467643705093,-0.2286513949102642,-2.4926908937475685,-5.257441528470775,-4.820444752093999,-4.897187090469807,-3.4964176600884227,-2.7383063843913478,-3.830381356929609,-3.890627736014193,-3.3529200201489395,-3.936696669877041,-4.444586297396764,-4.8882464604591815,-4.225889269877968,-4.816112191276833,-5.408990681985685,-4.944911713410691,-1.4627343533227333,-0.629551079049574,-4.621084340765138,-0.08302353837167309,2.01566133965861,0.6316874773890576,-1.3345606001660764,1.525912133262262,-3.022195092657703,-5.61871523645407,-3.0122225403677803,-4.621084340765138,-4.884252379752352,-2.574621812565337,-5.273473289735201,-4.637136649577937,0.7646652072163742,-4.69596247522725,-4.569611297340666,-5.167208490630902,-3.2818017006481957,-5.22990404079303,-5.157672087213784,-5.336019576844298,-5.423245185923841,-4.354086728911423,-2.148749961522012,-5.266782782939085,-5.930125533135819,-3.5034284543142973,-4.962717247738687,-5.142395654556732,-3.563972700949921,-4.603540510112323,-5.095214588392646,-4.919507591522254,-4.494092330399144,-5.300099582047379,-3.2387632308366143,-4.09593602724896,-4.647601414027637,-2.9301146248029455,-4.612275933257997,-4.610788318685437,-0.2713043058063237,-4.027641044925245,-1.6969607601210528,-5.258846682000592,-3.6584482409907606,-3.595336143101496,-4.6056967515308305,-3.75774002478981,0.8066649719453807,-4.330839871518846,-4.8784523571016845,-3.286312415138595,-5.105153001003631,-4.514960160261208,-2.611410686450834,0.5885714409935412,-5.2192795666528005,-4.057975269877071,-3.9331585103678632,-1.1189777428589833,0.7906802231204859,-5.472891206944348,-5.109187220966227,-4.71926453756386,-4.579990917564694,-4.120825087265576,-5.266960736227222,-3.4726544607692236,1.2807143040120303,-4.115982758298911,-1.9971918346026256,-3.3135209392769167,-3.281191640415889,-4.313452917756148,-5.162983548544524,-4.303546628055893,-4.606847988299449,-3.8499512148817034,-4.2391296259025495,-4.698996137695234,-4.947695873175395,-3.6997682312504327,-3.326624262031307,-2.859633332189894,-4.035187611379312,-4.062667502314933,-3.6141343899460807,-3.8781520214980736,-3.9167485070926156,-3.7087733939463816,-4.291380008940275,-1.7609805114929824,-2.923405349901075,-3.962887973878944,-3.509723059883787,-2.863263919898246,-1.691369096225208,-3.572040333938899,-4.141729749378447,-3.6941712500612844,-4.61211923581777,-3.5479588534539657,-3.4147684632172988,-2.999379018890265,-3.8511008676617067,-5.320512598339675,-4.462437135543582,-3.7979416225000757,-4.124301015368486,-5.047889812881259,-1.346838105616184,-5.993874873604131,-4.474572249413118,-4.990151311471307,-5.017707133794441,-4.814757120916385,-4.60173322861697,-5.966576688209623,-4.878234973700091,-5.269808997095861,-1.8304095731051704,-0.6856949720490029,0.013165227698132944,-3.717023425548663,-3.8972282300013674,-5.216109865156278,-4.2714466699973945,-4.388853496398819,-4.05105378566016,-2.5859140430483913,-4.423755124757349,-5.442477753677248,-0.6529337294718542,0.7092329104075702,-1.6333966907910231,-1.8477447218173502,-3.1844628526663095,-5.104881663830583,-5.367731221097757,-5.031855001490778,-5.307053562862951,-3.8454728792334674,-5.400778288514713,-5.041027573355729,-5.147805777960235,-5.242519826806679,-5.5732430063226275,-0.4968021615244474,-5.201153422477372,-5.144763666569143,-3.743226662338223,-4.963042436626533,-4.648859647620697,-1.8787192612819137,-2.6354268836690644,-4.8266160899661,-1.819353283741193,-2.2857912621655303,-4.456063809704651,-5.14902269511341,-4.6409765872783995,-5.189352784788355,-5.0375872948277705,-4.853188480094055,-5.383811512009595,-5.5360689825513525,-4.809997243091967,-5.480878998469788,-7.263895756721579,-5.17601325482223,-3.0240207124605623,0.7964728736701541,-5.130587391588748,-4.154080501178211,-4.630065919342947,-3.481847393327365,-5.82784597855746,-3.4782680092995157,-5.408340951703358,-3.780172292918373,-5.216283461676101,-5.717371198643293,-4.6059882065299735,-5.9311013640133226,-4.460628942634607,-4.1096567007085225,-3.9576441138484153,-4.988129996198527,-4.522646116708501,-4.178190100229549,-4.600285823431294,-3.901435743576132,-3.9919786859191424,-4.823337555050786,-5.300099582047379,-4.312671837473818,-4.2798024567348785,-3.89867563033751,-3.901555599215145,-4.7419692014304085,-3.935784371978275,-2.6830741550995816,-4.274994932972512,-4.408704706274676,-3.7802338216127542,-3.966210061228667,-3.89004911018729,-3.5592530072831514,1.410346139094567,-4.488109590709271,0.00660794004238458,-5.913135595822321,-1.8498079170286401,-2.4780195890863297,-3.917846084014538,-4.716072761422491,-3.898011718060021,-3.147078669404414,-1.2606384439505294,-3.0171705833782405,-3.283127345041955,-1.946444279564033,-5.30260970041669,-3.475989672815583,-2.62563899694595,1.4419756980173037,2.360920644466579,-5.300472372346335,-5.362977543166316,-2.397458332552142,-3.3021029787150797,-3.1482460537305363,-4.8246110206727515,-4.8246110206727515,0.9627409034476926,1.711496968749385,-4.44995038842573,-4.348901442401262,-2.9878465227351847,-3.4823785472460895,1.1600569649156687,-2.9330069694213488,-3.543728248755069,-5.0328939912994555,2.025092392897041,-1.0288149327296718,-4.989630723929108,-4.501465180312044,-4.373993000183317,-4.32161556474164,-4.359892007280338,-5.468681189034479,-4.966690583398921,-4.692002492894004,-4.117205679669225,-4.316334928469006,-4.341032118580394,-3.81485586646421,-3.2343225738053696,-1.9148532527809878,-4.180424244809613,-4.3892911373058645,-2.712566690395117,-4.223588459942337,-4.115593901278134,-4.582397736125236,-4.966898347617791,-3.796464965801095,-1.600880553759819,0.3794823067151501,-2.6765052192501444,-5.354252127662631,-3.930020288632712,-4.650568822338789,-3.2181055616996916,-1.3157112824042894,-4.258753230325087,-0.7440687390986105,-2.3587965428331477,-5.269808997095861,-3.8255984475013354,-1.2778106064203016,-5.827082832855055,-4.484466170955735,-4.67071335592562,-4.574701509711327,-4.3150093700101335,-5.998635356265795,-5.130017494674957,-5.36920048551627,-3.883806449600995,-4.427410613714116,-4.779886462178348,-3.458141588818553,1.2309495597177553,-3.804917473250132,-3.0409510954161854,-2.617997123824186,-4.040389905174054,-3.6003998060929905,-3.9421796852376967,-4.321331245339837,-0.320233453834383,0.4411610365363559,-0.8119344198893795,-3.245892147778643,-4.2526305137398674,-3.802265992757575,-4.692467500640179,-3.8694340543737105,-4.309397167695139,-3.1737570564442112,-3.4914481645154773,-4.054070410895644,0.5835215164119296,-5.043305241597618,-3.3616097088591994,-3.281265681850151,-4.144894251221378,-3.063495104704451,3.8745296695296587,0.006703187403925262,-4.814631547444273,-5.348090154886586,-5.494732724948323,-4.431501142124396,-5.868291560926899,-5.378398422403892,-4.85170556029756,-5.327829204480053,-2.7472717669795212,-2.1193713811166472,-4.084847337640417,-1.9210775142563328,-4.724025069055243,-4.537064426614093,-5.989955734859335,-5.177030222964468,-2.518090535315384,-4.731575606893341,0.3773089790230306,-3.263593189475697,-5.195612271420261,-4.313452917756148,-4.467196292156045,-2.366062441271472,-3.870757847343632,-3.003634061655019,-2.99617739555214,-3.737338648101708,-3.7158453448596678,-5.47892875964447,-5.0311834644715185,-5.014032506079351,-3.0632019605317287,-3.8848195995292762,-5.203794294460021,-3.564381231042755,-2.8594342824240595,-4.152093302816785,-4.334987389771086,-4.488909192879654,-2.9373533248270904,-3.5892354795965065,-3.5162350232984894,-4.500490095696897,-2.0385453058425735,-3.2540619213710986,-0.700730868793745,1.8571200730795507,-0.7624467101409187,-4.542055580690268,-0.5311153500451421,-4.244673130145551,-1.2628076528892351,-4.58211053625666,-5.80935572129271,-5.66045777545826,-2.934147224709132,-5.185587126012533,-6.2095990517296356,-4.943445437326891,-5.3392185540708565,-3.324909463128705,-3.7578946121023833,-5.022329088836698,-3.6280757508838706,-4.530475776671799,-2.9319222508086082,-5.238522792228165,-4.641038518329892,-4.323039634084595,-3.695117389898893,-4.188294213440637,-5.4290842465622875,-5.003620123683097,0.469132102301704,-1.7750173562367504,-0.08865903316413924,-2.5134718109457475,0.11626259502896419,-0.7258611358601724,1.9262554124634141,-5.318233772764062,-5.676924315055844,-3.466297015559997,-4.136640879663509,-4.259031135212663,-3.7426185421447316,-5.106359120832588,-3.7426185421447316,-4.657446534232026,-4.529344477802738,0.8707108328480637,-4.767242582309562,-5.328832510765669,-3.2003097170937638,-5.089030845371474,-4.444226273162593,-3.8203397627760154,-5.931211044131854,-2.0746945639280456,-1.0322938395811834,-3.4761251220073572,-1.4430175420137412,-5.208004781382456,-4.715781462110457,-1.6584570955524751,-3.365000272523279,-4.864972045959778,-2.511539388044661,-3.736587241249212,-3.7586645917772223,-5.309666834181996,-3.810327013609923,-3.754963349343197,-4.437678094544846,-0.5118393591428314,-4.368150407236782,-5.108667050273026,1.7133981828147349,-1.065921993535604,-2.4247245884108795,-0.2915508597949337,0.6981381731433983,0.6318388275616544,-5.162923069195002,-3.346041942762263,-2.4899420275553212,-3.4010533807215646,-2.8738974160728614,-3.5217041475136055,-3.9891558150651703,-3.3837673070127847,-4.591236055470411,-4.464238713243591,-3.924633626629511,-3.7862462272710204,-4.097755653913326,-4.373297595751233,-5.009894056361605,-2.682244330035619,-3.1106699426004876,0.8020260631677424,-5.127011553516668,-5.9791881732166114,-4.178153277530034,-3.6372797132666848,-3.3412438590946874,-4.898958031613183,-4.890875613383142,-5.955504052034499,-4.077937997480083,-4.667304402112023,-2.9845171991320867,-3.3412438590946874,-4.931912421835935,-3.035589211250797,-4.372382723258509,-5.326014507364642,-0.2883701829810079,-0.23786517857249492,-4.247481414362498,-4.502678382834681,-4.6903806503706065,-4.726817898651006,-4.667304402112023,-4.427101701270479,-4.464238713243591,-3.117173080114903,-4.658535739463694,-2.889176822930965,-3.7091990867522515,-2.0590458734880555,-1.555772114290472,-4.228221796104126,-4.497021184939949,-4.824812889423896,-1.958241742063481,-2.35358985528857,-4.53561371710896,-3.8484191686245453,1.3379080802473289,-0.46883553897350516,-4.3270388483608,-4.798225290811354,-4.0807397671772465,-0.7036637653320057,-2.113770162482853,-4.287762209721454,-4.728053992322128,-2.998139362404572,-4.897435848357614,-4.54922757172237,-4.247811020069852,-1.3484537999842168,-1.6911384910816285,-3.936696669877041,-2.2326466412215886,-2.7162649781191086,-0.38579077917009075,-1.2375857970385753,-3.31282248721126,-3.2284756765971503,-2.9843671748582183,-2.835960656624527,-4.9658050514900065,-5.263493288608375,-6.41669428124082,-4.884928922736755,-2.1367487545406734,-2.9243980147691517,-2.2607926761916226,-4.631096228741023,-1.8162046739554216,-2.3765980259913855,-4.031264275713811,-4.009646405124167,-3.6531189031228934,-3.8897968611060563,-4.359483547398726,-3.498870788488215,-3.617566812890185,-3.5569446109827885,-3.965560765834816,-5.564640456692124,-5.1547474718004125,-4.8459528943703125,-5.043237966992677,-5.358430910778996,-4.891536596163587,-5.27252745365262,-3.6735656975092024,-4.26603778940566,-4.981585502794222,-5.897458228814136,-4.442557769291291,-4.208056199402644,-4.612323972102058,-2.6100968808932334,-3.6233840119570404,-4.5408546805521794,-4.148022235765708,-1.369176281104546,1.4815813924992534,-4.311319138966825,-3.980738480851277,-4.232596238664906,-1.1254608942061937,-3.971498299389877,-2.708422165332435,-2.1438458051995757,1.892318082910544,-1.6107861813854907,-2.6451946064972063,-5.219161621766979,-3.4558899345553042,-3.032141070995153,-2.5040230814027917,-2.5427971979867166,-2.9087772583377056,-2.7052556245752037,-2.875164792413476,-4.630376926687642,-5.275578050191928,-4.495970524084014,-4.223689364832602,-5.216215190296051,-5.32705745578936,-4.400961767469625,-5.223529641302441,-5.952317882380909,-5.931634134517944,-4.260144578327397,-5.407926390263483,-5.977602141320622,-5.3859649875782285,-4.306331061981983,-5.745904198903386,-6.265302539660779,-5.48254965406875,-4.9449527658558265,-4.007858541164586,-5.291550697740487,-3.224694861024739,-2.094931780036174,-3.672941702927278,-5.544697281695344,-5.113326824768429,-5.1871808126749155,-3.5953527830501297,-2.8663000852970413,-2.2406712924666055,-3.389072032148498,-2.052920457844385,-4.937215298523181,-4.3070223024355725,-4.528580087283417,-4.43908853211066,-4.3460615770482125,-1.716572825869114,1.1115916389983949,-5.773516709047099,-4.384534274900203,-1.8452858462444226,-1.6959984780053683,-1.0892701918606302,-3.287038856750754,-2.4524900272525207,-5.0439574301802,-3.6689848041415956,-4.8913814167937195,-4.058838318992876,-3.502149252156847,2.3878485668112406,-3.5247110848431924,-1.0684052997492663,-5.490020713107414,-4.600888665282895,-2.7789589384955646,-3.266242110124638,-4.780331471374385,-5.323606530305112,-5.993884582184319,-7.044343330706915,-4.11361321474045,-3.3067572234965388,-6.336911573595717,-2.6842702999753194,-5.386441148376157,-6.372923587316573,-5.384397164209035,-4.477830239274764,-5.062997353883908,-5.1480824899567965,-4.577933860805105,-4.552901624287198,-4.842664738342911,-4.146008792266582,-4.948664798875045,-5.534153070127365,-3.0710930616416516,-3.0241410216696245,-5.040371922485127,0.3153671681298656,0.9993974031360515,2.014033680702327,-3.5654173762106494,-6.035786410889142,-1.7044826654986105,-3.672980058070675,-4.838799221315887,-4.805925537122332,-5.150494799230422,1.5987477094619786,-3.819757841707768,-4.953414177151106,-4.310599746734956,-5.333354589240769,-4.542255602867439,-2.542532437464351,-2.835960656624527,-0.23187199037253148,-4.662199001393212,-5.101309962460466,-5.110689862495215,-3.1166115268591046,-4.5815364056514305,-4.325177853230861,-4.098554955301702,-4.15657632594688,-5.002729240006128,-4.107992241699433,-4.630167790398037,-3.470840021795197,-3.6420240348422945,-5.081408259744501,-1.4282829212236618,-4.684516615382822,-5.624256024642678,-2.837374321002098,-6.211362742972011,-5.75878129806669,-4.913236483585673,-4.4559404676650685,-3.6398202940431235,0.3493595886685898,-4.279185556631948,-3.9630502542870834,0.9047541002236549,-1.9519927158879422,-2.358156822980151,-4.662199001393212,-4.662199001393212,-3.1106699426004876,-2.4895745748204985,-4.318252272235193,-3.8349664336066343,-1.5704410061805805,-2.430755933721791,0.28373492957629276,-1.9206672931433504,-1.5331793005717527,-3.7048474635442825,-0.9662714825835351,-1.647165799430175,-0.889457874651629,-0.5972639135536889,-2.128439482752479,-1.4025920875825753,-4.907817182807567,-1.3539872938234094,-2.9331357180326374,-1.7676452704602548,-2.4352353756153895,-1.845197797602511,1.0358008813143658,-1.9347976233413748,-1.9188052171715462,-0.12855609997621967,-4.157968803012676,-5.246789738610435,-6.004098765346454,-4.374347457244833,-5.210567277321348,-4.852462681252904,-5.254842150335662,-0.08629814195833434,-5.364996859905467,0.553703027435038,-2.313891267255009,-5.4963543970194095,-1.7607693784046312,-4.189762846624239,-5.757783657522527,-4.969473383269282,-2.083654868758577,-0.28201015899848647,-2.5179564266639725,-4.299454685375825,-3.6607580382326743,-0.8078609258386803,-4.534604135674848,0.15373488229668464,-5.214342740992922,-5.300312652850117,-4.968113441570619,-3.2262907670382575,-5.840981938207326,-5.039767649744018,-5.20031012733402,-4.901287198822981,-2.510516851451867,-5.350604391019055,-3.429259510027256,-5.021275926345021,-2.052920457844385,-3.256618843305938,2.5571048372912752,0.38041141643364895,1.4397955535464277,-1.5114845176337803,-4.293643863531079,-4.3921910853775685,-2.8126047629433693,-3.410736086077794,-4.636424820684174,-2.8708050549486455,-1.547203295963305,1.208283312049669,-3.4883980746782157,-3.6444957763178323,-5.360852422045416,-5.229442394572215,-5.902545031988977,-3.7527969296311947,-3.6010875014317656,-5.199689593714902,-3.907971024257655,-2.8743747295337574,-0.6365689974859782,-2.794897864374335,0.6897957645963835,-0.5804869632352403,-3.0771641184124072,-2.6249485215438377,-4.877415053511759,-4.755541363675318,-4.379184222379162,-3.4599010050485495,-4.757304362151579,-6.634794713341573,-3.9181421935898797,-6.549271970898396,-4.192043469635213,-1.7680020287988045,-4.426985991810751],\"xaxis\":\"x\",\"y\":[0.43816913737697955,4.981612052751347,-0.8366525081079937,-0.4877989015663406,-0.5756819768820469,1.8644183183717793,0.2851835002352834,-0.6783790472312372,-0.5712993716580518,-1.2593788079708297,1.276556968061945,0.756074106430747,1.0427311644393216,-0.27638645862363015,-1.3169815431109795,0.5073029625781902,-0.33648270597710866,0.5058604987046368,1.2627579957290729,1.382276206533545,-0.42260307058543867,-0.8288723577239872,-0.6072880911782347,-1.4069288423640267,0.9933269247917428,-0.6737190709851918,-0.08662709156681676,0.6218511570174335,0.25557450298108725,0.017764042805292778,-0.10562522348205719,0.14018553873040954,-1.1509940464794908,0.0743349068304116,0.31835345264817433,1.2667484124675166,-0.15378440169132565,-0.9529183592404532,1.3092326125404625,0.410146846224582,1.3433083515952668,-0.02826511219509827,-0.6467204432711562,0.04848262443947057,0.5663131601694972,0.2192410594016994,-1.5825802864431395,0.7706398659885516,0.28337902089919936,2.21718716399214,-1.1734800739618412,0.8075898387722384,0.2584075410704592,1.0324372165462783,1.151840059283114,-0.587829234067528,1.6385172072426586,1.148928334520288,0.10511149169662795,0.049375810945137835,1.1110751737520235,0.9156514363587915,-0.8160546316754154,1.866954264068176,3.600987054031279,0.30077006726808014,1.3705633048663812,2.860694080309784,-0.2557154877672665,1.2950150145238393,0.18008384104958744,1.7021326301584214,1.1289370726337054,0.4076352520604114,0.6221134969005282,0.5102110581445461,1.1729319881917788,-1.4556208824574783,2.591153239880409,-0.07250822786735063,-0.07000333959076956,1.108072291687267,1.9152502276261427,1.5335940810483197,0.21029276221382176,2.322192422578855,-0.29802155298049965,2.2080950936018886,-0.09015614830483487,-2.6072714522024634,1.5623371715311232,1.2422083487867905,1.4848879604688943,1.3044986135695014,0.303953489081125,1.1685955502095748,1.6290922902605052,0.3652292565495457,-1.4359446534017015,0.06592910845293012,-1.250180696263442,0.35242348669587986,0.5219991373188861,0.12071843281537206,0.736790396844056,0.9339842015674865,0.6260314064275339,1.1017579199807557,0.02943436309048031,1.4360195655101717,0.32657800684017346,0.254621936959876,1.013195219943235,0.7586935229585199,-0.4293022605403323,0.44254278924464235,-0.01795463727932646,1.3974646451837016,-0.571996767414899,1.21184990082513,1.5432613993731104,1.8463902321032033,0.8517324091029553,0.5231426773109253,0.7172767556967554,-0.014812339420350179,0.6740278616052883,0.13397254451196086,-0.3164141630777709,2.637246862418732,0.9732994102064862,-0.06946140122825417,-0.04847631316391084,0.6008191631848392,1.7024577438216568,0.22606968778492978,0.985963748048518,3.600987054031279,0.16589574343657978,4.015508170914255,-0.5283858821370955,4.015508170914255,1.2852514925547618,-1.2538733405730835,1.520187614409796,0.4667600843699004,0.5926019884209373,0.03663260889451033,1.1697121668464308,0.7054202653376573,2.0153596046836912,-1.4879429228210108,-0.5120242154034723,0.659252623094537,2.4975751492205878,-0.30655106315362596,1.3476938721925042,1.6356608606387966,0.7275659416159649,0.2485936551515789,1.423832603351561,1.0719598387787315,0.8072512724749489,1.5988968281253426,0.7640721177159112,2.8786461985967766,1.6496394382455641,0.6407463928179679,0.09640300958251494,0.9385261139072142,1.5483437459945462,0.24366722426548668,0.9059066706555707,0.5062488462327603,-0.3347353956259722,2.8494683597316905,0.5136061474489902,-0.6544083573068755,0.5931578055316848,1.0416315882307468,1.23783878526285,1.4193403346876863,1.6449463426414914,0.08100386442235954,-0.3208561668855659,-2.177166976356309,3.5511843508425733,0.6655986849179281,0.45855537087500114,4.339508935633531,-0.1568209613532259,-0.35489804592857893,-0.28045348701741696,-0.24248295085573543,-0.7587586798467031,-0.8801508104052359,1.0316017960292778,0.505457853309945,-1.41845263596193,0.06079000695846055,-1.1737803353784446,-0.4385851281042727,-2.011033005224194,-0.7156056431097272,-1.421944548282912,1.0777772854812686,-0.05375926393291766,1.6814080868334844,0.16825732523787693,0.4485512444975404,1.2318972676517568,-0.7548267487074507,1.9876667414723432,-0.8597814470528742,-0.9313634986391517,-0.8005214713020798,-1.8901043511651356,-1.195004909076417,-0.3553875555426979,-1.1393896735941478,-0.6088341792179549,0.6877090819517139,-0.5039526412022918,-1.2423711055236795,-0.7028069772528653,0.05015255372918584,0.6071506933663414,-0.34035915669732225,-0.2408813795096042,0.4392927999063262,0.4566402746492393,0.9534501373803487,-0.11498589496320039,-1.931546141157013,0.47859003912352815,1.1655026285713956,1.2679434784358634,-0.6180433072867557,0.6648852624177862,1.4867628744254047,-0.5519320079501017,-0.1707079375206503,-0.2843688565788874,-0.558082934497947,0.921130794256475,-0.02367096842174287,-0.16226447857728654,-1.080883112042168,0.38598225637674455,-2.1509115594061456,-1.4066278328199147,0.4534372045909511,-0.0455481684811641,-0.03249100756082508,-0.20943029972202765,1.2516418310337998,3.854823919943985,3.854823919943985,0.4635309506254816,1.0952042720666886,1.4688296200578796,1.2522893729219122,0.27278970457437013,1.1477677539173685,2.1993170160065705,-1.163414988282606,2.2699783099086632,0.6545659859138229,1.8341334488968803,0.047474232093681824,1.7644917902132569,0.22883704702775792,-0.7370869388697157,-0.3477391611820894,-0.22108403243246683,0.9884601860838328,2.149246220844885,-0.5697394195184844,-0.7171655293491994,1.2245501349587582,-0.7837179333155863,1.3334051730261973,1.6142463936010978,-0.8263287472699308,2.3817014268401215,-0.06589601746806413,-0.2236375420556405,2.138731481090316,2.7188461597627773,4.4172313731380015,-1.783780139443658,3.4633503045934035,1.1937150885252608,3.288704592845795,4.4172313731380015,2.4790989754150643,2.0681442222218713,-0.5026322538669177,-0.19854537662382696,-0.6970836619405516,-0.7801254019185828,2.595727222177658,2.406585258548936,0.5008578239728004,0.9382678147230399,-1.062513415346949,-1.5559336223131541,-0.711763269047911,-0.13450811960956097,-0.9517551856565469,-0.1898087101044319,-0.8843065138045929,-0.7854838571820403,-0.9437918656949437,-0.10056766921212884,0.6035353293367559,-0.2775372708637666,0.39306503435447415,2.379354342305601,0.8343831941230091,0.6757298458008343,-0.19132921070551717,1.1292178206397054,-0.6646423160909625,0.8936029472539145,0.1551186414718366,0.5825671238286985,0.7772070571536065,-0.8263287472699308,1.7612184168735632,-0.018903391414426353,-0.36959248927652794,0.7845723908129919,-0.707399170121817,0.24139288020598246,0.8006627318160446,2.8494955083921494,0.44055434829442847,2.319905161100784,-0.9313909483512491,-0.8233334391672761,-0.2714715859437118,2.319905161100784,-0.3941928423539817,-2.489935707637234,-0.49730567090619626,-0.526325867482106,0.12398543478297687,1.1359708969273685,-0.8621072723744375,2.319905161100784,1.5474061987811778,0.05344586351929611,-0.8555943411699138,1.5733308043886878,0.5743838818778768,-0.6618650757458984,1.261790295533844,2.6865026463053447,1.7769732543693213,-0.3416064539072663,1.2146882086977606,2.781576292204587,0.4359981157911492,-2.2930504878954774,0.7249101947303137,0.841217128149444,-1.3752624805420086,1.1166459437425689,-1.124262890812477,2.8291637558375533,0.9817543859143913,-0.21051419844303793,2.7168833135985846,0.9265785771605767,0.8466017161633506,-0.22525299347710376,1.4758826827220202,0.36774254384501187,1.216099196557944,2.41480296615118,2.0503408586582723,0.49522067452326557,0.21061984485628263,1.81383468779626,1.0839696445652336,-0.3206873625672114,0.012553299003932525,-0.7418038948205444,-0.609361133705133,0.7472260056966725,1.5650756110804924,2.9170873541127613,0.05936058425005454,1.689502228465033,0.522651287150211,0.36236484736230395,-0.5448787834461937,-0.3443028084832794,0.48271029252028647,2.473861280738637,10.655072697769695,-1.4897328822849625,-1.1470093814972133,0.2126230247252822,0.7983648377669125,-1.2488573683469926,-0.13152065211390135,1.0270995181252012,-0.6737149105328764,0.6880030271849521,-1.951785465972928,-0.08854889154165772,0.2770307192271687,1.34409992947213,-1.2460070604604836,0.22564140769567315,-0.23571007156390875,0.8451972476497825,-0.055923876230588684,-2.1796053337156462,-0.09962791938201203,1.4706235716213216,0.5528409459200478,-0.3980659081321327,0.33303415330241787,-0.08549295200234022,-0.17886301032397428,1.8902700691094665,0.8613508077533406,1.3114931792380922,-0.062448783371746044,1.7015092665648994,-0.2351104531822643,2.1227662879161713,0.36620247860306027,-0.23978624568191012,-0.2568487267472603,0.49950344368690985,-0.22252323621646716,2.049378559360369,2.403221729128713,0.7598051264105325,0.507083963859277,1.3216913033700248,1.5553535926082664,4.615788752257964,0.8678575461206586,1.1492997751415304,1.1968897673941377,-1.3821435086430833,-0.11378689520612101,1.714249546075281,0.018026350568230695,0.9253533292392928,0.22141317566294672,-0.7061834971939477,1.5429798134178543,-0.439272037411862,0.1572076243072257,0.09348907585128392,-0.9998377955505666,-0.4378834748998823,2.441657918830827,-0.6763028241994381,-2.1345456939069423,0.0852914975671658,-0.45994100449324804,-0.4002376365763164,-0.2630978069448261,-1.1531550026513828,0.1946806532868703,0.6227305523983448,0.9118179425672543,1.3279100339280254,0.9980631144403428,0.7147399440931624,-0.20826027057164684,1.7263689417377255,2.199699285876033,-0.34301292912974163,0.34354546744485065,-1.719860526440989,2.8567540273684493,-0.9002497687941055,1.1575674148564203,1.175318299091899,0.34226012519638094,0.9386771565649857,0.6920068835901728,1.1527697417401646,1.0119184987483922,-0.5629407899545497,0.24328076916782884,-0.2536840411845153,-0.6491156555540101,1.2784502451111537,-1.8289771998796018,0.022374259668876215,0.48110498733712814,1.1939764597127331,-2.1072560640962554,-0.6712857841139537,0.20082147643444825,1.7879772921229027,0.9289489539960278,0.811280945953137,1.972715999544234,1.1736018985804353,-0.20784856446511973,-0.6953201135947638,1.076411572746484,-0.7684936202109574,-0.6188745486253688,0.09440216581759137,0.035188034509997836,-1.4567336893957863,-1.3733438204708572,-1.4579360285799718,0.6871043550364112,0.05403507502901533,0.9063515345391587,-0.7824584427965569,2.3314441464879976,0.09384577740679002,-0.623620123612678,2.21253662987542,-1.9805219242858445,-0.3582263325087334,-0.728859021096591,2.345983084574137,1.0093409287993722,-0.04845323635337036,1.138853778173144,0.7329827850018528,0.8200268429822786,2.4550430893037825,1.6778240324323197,0.5991847363734275,0.5130146877962751,2.6295626832076153,0.753988317525814,-0.7803257143803363,0.6963913706736695,1.138853778173144,1.5520585685368624,1.8125421598774252,-0.11402173852548042,0.6240809593111565,-1.1780643418933419,1.4891807488197044,-0.5456677398938211,0.4136138454577283,1.088867762671137,0.9913952020190768,1.6181069658530747,0.3017102913808114,0.23667151512063672,0.8491211797690408,1.2828071405726749,1.9978047001499937,1.1272634199815348,1.0982586285630624,1.383406020534843,0.6431999295822961,0.9442962653469265,1.2354618686207257,0.05103216243800887,1.1889023583853766,-0.1990893988837103,0.11979197873717577,-0.43085373927448456,-0.6769470757307674,0.602342815151062,1.096067320262923,1.3847633286845122,1.0797864976302152,-0.4028127545581598,0.3091960944553706,-0.9843414999895813,0.1917323717700746,-0.3528597643457074,-0.8742012369704872,0.20891191960568278,0.1435726445541538,-1.3085114343003188,-0.9543622650432488,-0.7733522790515861,-0.8671137448312864,2.1947867228657523,-0.6771071743630959,-2.097128095465284,-0.2250957882415637,-0.10036047859837635,-0.6797584070912135,-0.5756775106708502,1.8036147448923063,2.392497314663657,2.5592317283164983,-2.1276828349795482,-0.02325822768928257,-0.9074728314518995,-0.18813623702979373,1.4998791315404478,0.06317408734262413,0.2221324190615516,0.016627349560509107,0.3595359819823646,0.33747672989731103,0.4334133991505577,-0.8343991321250441,0.20248166304444404,-0.9582328923055389,-0.8656110237931796,0.5278464417689873,1.7064373930691799,-1.0447980204468355,0.38760406645520706,-1.6762802697763188,1.3568163438083338,-0.5701840896360538,-0.41363370202981214,0.6853765967222664,-0.4537660560601386,0.47902524355617776,-0.7833480740763217,0.02317915692857269,-0.1581562659202609,-0.9247331328828969,0.6894752032958061,1.2079108129269227,0.021140826184920438,0.444137306297143,0.9035597045092797,1.111371215058898,0.7484713520980367,1.9193642431399807,-0.018256524593440807,1.064218882819625,-0.024232184349001172,0.5660311073959609,1.1727186397006577,-0.08239362599142418,0.6144410494964123,1.171551009561311,1.1866218311538228,0.9902966691424803,0.9272729126551122,-0.5630384748857725,1.0725131916945523,2.0403849898099073,0.2485971383118986,0.3016067395756846,0.12999904528182313,0.1733698863525641,-0.47583331328192485,-1.4883894091679426,1.8795869889005503,-1.621575548002492,0.46458315668369904,-0.026563684745065534,-0.09043333985939592,-0.32738027056278607,-0.4578811523577861,0.19301574257162385,-0.8910271544145961,-0.8619022311237989,-0.7141653829018145,-0.5163528011105397,1.069988062173211,-0.5511125905158069,1.5288428097029423,1.5596569772066604,0.6976177126420717,2.6694542431701693,1.392494656846508,1.0678772752810406,-0.4660504596178615,1.1289370726337054,1.1977783744662625,0.926880870465434,0.5608970551106948,-0.32157990872213443,0.8623162943491015,1.0339009245852033,0.3222227280862052,-0.3608545177664141,1.1725543123076063,-0.07499015557502715,-0.9506618534004395,-1.740960641596914,3.002529409764387,-0.8375813835802629,-1.2770071947860662,-0.4869114397654302,2.0309722678418725,-0.2953786745360505,3.1050915889207054,0.06096757670005642,-1.286880708672161,-2.1633093995742723,0.41039929940588893,-1.2734252961427237,0.5739540543430877,0.17440470959738455,0.48135192354499245,-0.09348235606961358,-3.212375305032981,-1.0933491586262625,0.056689809331604765,0.769212567759906,0.4748080547745089,0.34216261617286653,0.34216261617286653,2.0590125937362305,-0.1410288719955769,1.5889497939995345,-0.14803091254171552,-1.2447671276243704,-0.721621961013768,-0.9768384067286207,-0.77224896344018,-1.0086372642872121,-0.7302593500329905,-1.0719742506646992,-1.0793610229052075,-0.8040960426640431,0.8153376767010911,-0.7721238256337168,-0.7456725768186083,-0.45861899946375095,-0.14652375384247185,-1.6312445455401239,-0.83545542456987,-1.0042895646473287,-0.5594685799137865,-0.8893682125632906,2.4308030132674467,1.1105038924898074,-0.9855623357030759,1.0247157656748447,0.966807374239052,-0.9740482200457629,2.0260634904443138,-0.3947032052826568,1.3235362321092652,0.492729017598672,0.31438098518083013,0.358939818291733,1.0844247465266195,-0.7899931723816086,2.5592317283164983,1.1371760270199416,1.531738861741695,1.5783336503340268,1.3204487197223924,0.06665472160811158,0.6790227763982122,2.3965190161021765,0.7100607332241561,1.3366306756173103,3.2970453570072586,0.5475950368303477,1.6679245864908474,3.2970453570072586,-1.5283146592889592,0.4498579222935105,-1.6522236811859048,-0.32684234601677065,0.7919757461640163,1.5573484204827979,0.7502306966116503,1.9621165116223502,1.1200673650828146,1.404367681173153,1.6597775104170729,1.6568916208227593,0.15087189643627846,1.452604322768947,2.0411879856796804,1.522278033744241,1.577906210484613,0.9992005728188817,3.37059630868063,2.7960372572265046,2.0077781547440656,0.20121478597352668,2.694402115407363,3.0239495841065023,1.937392979707731,2.7746514309736776,0.7563264003480737,-1.1192192811025727,1.4866003077470584,1.8726498277083434,0.3398906231013432,-0.7835507011456438,-2.6658280306337687,-0.3959231120112327,1.0545358520121983,-1.3866991476723998,0.3886965347766616,0.3220957081784486,2.56997442651202,-0.8627330612563169,0.2125958268928646,-0.3590050675933913,-0.34957069979161765,-0.4536691624618342,3.0241812440629054,-0.569082780124493,0.630553484640898,3.184107154424602,0.4228383493100525,0.30855793086499184,1.3674013872017994,-1.0673586008701101,3.71838652140717,-1.0271567199774996,0.10966879647806137,1.7302112888257437,1.0230561315702202,-1.7899291683087553,0.2688204046360695,-0.0815099634225012,-0.92864862268649,0.7252328804580759,1.2391024899121577,2.7109210804118624,3.767399196645221,0.4150590169174881,1.3819617259122983,-1.3112364598117545,-0.9858180641550032,0.7704442751735844,-0.683765217407312,2.0566240071840456,0.2610554238270343,-1.8356247523272662,-0.24267594828350378,1.463061118452649,0.2578761085614265,2.6648888539627906,1.7644917902132569,0.8849878914284878,0.2609098873701262,2.1969584411382055,-1.101446397571843,-0.4255071565401107,0.5921543752320477,0.3555557431995053,0.5789019714253466,1.7389649770484519,0.18045479360058184,1.5217858411282355,0.22041351611449417,-0.38743561650451663,1.5308694696505514,-0.20157474856059818,0.7086285666970346,1.9255353590366686,0.25679935499602435,0.9478624903968518,-1.936887091075172,0.22728353697595388,-0.45477138796458705,-1.8362222276583697,1.984756141120075,0.38475302347897117,-0.1466907700606116,-0.2808055503792633,-0.2757094136047711,0.7058662971241412,-0.597648357438507,0.44119525523144343,-1.1101222805521929,1.6799070256080613,2.1298845704220515,0.37340874300802857,-0.6496148131056306,-0.9000254502980892,-0.8297297706139458,2.7377156552839588,1.5880170708982289,1.1311430395270827,-1.0269335390867893,1.6665678920416962,1.6906963852225803,2.64952455827318,1.294160571089272,2.247594311659041,0.1648388454982192,1.4916167024707692,2.1746496643303037,1.0819095389132645,3.139435255072756,2.328433703942683,-1.0428950371281676,3.0731026107248605,-0.30545433917592973,1.9711462044024186,1.4853511286836152,1.6791681597681982,1.8463902321032033,0.015108453459395809,-0.5811565539395757,-1.1269971785412196,3.600987054031279,-1.1289826841613715,1.2234994759580662,2.246156704527968,-2.894066685296138,1.036593366269227,2.6059225205000907,2.882164073526921,1.016043375685218,-3.6702377317640837,-0.9679439106492386,1.148406545228804,-0.4838993058941404,3.5031260105935043,2.7082158592132335,0.25125502905394925,1.780961582917311,-0.659872562782809,-0.5459755316087274,2.118856326112169,0.3170445826732098,-1.9774159325485297,-1.4422487695071238,0.6166743702711038,-0.01915944548878169,1.0192247313685394,0.10157871538829301,-2.0848222333014186,0.3537454180827414,0.26455370143206713,1.0745720318020524,-0.7392308882579007,-0.12234074475666726,0.6300109412932853,-0.13527749682311208,0.6311985650440101,0.8205834551108141,1.4222862564479917,1.1681950818228983,0.20741504461037066,-0.7917439328627621,1.2517168910667953,0.24313376525652267,-0.12951672945062265,-1.668326162360846,2.505955075199596,0.9883074082161157,-0.258172958878751,0.12107890791994762,-0.4353743291553653,1.2330242195957628,0.6242860555600612,-0.019794280868774418,-0.17359607323229206,1.8531580952390931,0.24702782314730423,1.2294187353491357,-1.097358310051336,2.9979932141050942,1.1831837769198115,1.1672007143218888,1.0662067760275098,0.4860512417178477,0.6791335102103395,0.8344556769406101,1.4834456573250552,1.8000990056407589,1.803021922018024,0.17907037377683677,1.9418587231951485,-0.23760065485627313,1.9082204394223932,-0.9039293606789117,0.7352620067670989,-0.878460449306917,3.7003638759709783,3.203622237055564,1.9679493247420115,0.21227325955078521,0.21609175871663994,1.0536595872552301,3.184107154424602,-1.418823557296307,0.5509721204557546,1.663045287218024,0.9884374198317744,0.3123495185397816,0.3424854601221472,-1.376675423605688,1.2551333714134896,0.7325838763036177,1.6669305379392787,1.155714332530536,0.739549252653805,0.3063351086376271,0.3443834700341008,-0.23313389065536538,-0.3346300500908002,0.8603256410329567,1.5484729744203654,1.300593118641143,-0.5680862674454344,-0.22730478905520798,1.7514428099434596,0.6963279472189596,0.6839069242654008,1.9600996814226832,2.2071667299618656,0.8848111609397762,0.9480165759736254,0.3412898444951922,-1.2112379134414706,0.25946134578683333,-0.6276283848215509,3.1692117637185335,0.988547924872845,-0.6195970736429041,0.6781670645566091,1.8650809096964154,1.263208812150742,0.4518235562331546,1.4511911396905102,1.5808078963319767,0.6900138759617923,2.6629670182666447,1.955581803178139,1.2052243097646183,1.0508796651772654,2.17559353205685,2.6730236455632856,0.05597934026470326,-0.4289672122851305,0.30557998906035133,-0.6850956135407184,-0.8876902806108425,1.344640584284318,2.970135916059769,-0.7346559678789609,3.216376576331284,0.9172725728070639,0.8274176242685861,-0.6866579546089595,2.047061136587271,-0.5413234374319622,-1.6662912764654838,-2.3687998015442964,-0.23917030901022077,-1.6146275146390001,-1.3771631744149113,-0.003073764273847174,-0.18194102467638348,2.6838557443253275,0.5663941968984476,-0.16844289561727796,-0.7666728261091215,0.2685419960283519,-0.15492125010997765,0.022374259668876215,-0.9092025185307999,-0.9035474480102563,-0.22879729666459644,-1.351025480021776,-0.9685479155899257,-0.09480161807758195,0.7511500598641946,0.515350923519365,-1.8137212927438404,-1.7530335744651924,1.3868270226850028,1.7211318354342446,0.21321888618245205,0.7754798477123445,-0.06836172798774456,0.8702177525553771,0.5201966993601671,0.424149881248661,-0.09795697031106915,-0.6915150330284588,0.4216405018470354,-1.30591247497955,2.957021592428506,4.18284266986685,-0.11812428976112523,2.4166825701675854,0.09404467408648264,1.3154842311821617,-0.48973784748432453,2.957021592428506,-0.3338921325169239,0.12947056685936112,0.7497762344508969,0.02067063179906128,0.3611581961630183,1.6823583966754925,-0.6909982648718525,-0.17937806449216498,0.4111922099751846,2.276345074938902,-0.0033212695552274616,0.32069950535512065,1.8770250881872628,1.7770457635714099,3.5329832296042953,-1.0087714550497715,1.2898749599002863,-0.17272627550698466,-1.01859292036735,-0.03664775203883199,0.47936177267066155,1.1103566048288562,1.3986124816569674,-0.5329003917441225,-0.6012242287079648,0.33498726460096784,0.7059099135811275,0.6564089392378059,1.1929303320151805,1.2719552203124007,0.6485291094567659,1.0346154339860225,-0.3656952962095517,2.068411960887803,0.6413520520792466,-0.7520208515635136,1.5200736071878462,-0.16282055283395558,3.2058466978818316,1.1893586750881693,-0.6395397521197679,-0.7232956892104239,-0.47854616519171705,1.836707256294991,2.182061270961075,-0.40802566933608114,0.20715075313254902,1.1612325170205724,1.195024459517453,1.6457106413443194,1.235932900897439,1.127590289185436,0.5851840541811945,1.4598663072634275,0.8365183312437412,0.5992805461427149,-0.6549779502165434,0.9569175354470201,1.47449227537289,-0.4489719576790537,0.04760260134189541,0.5335301321670315,0.4915719289884212,0.2104847924682498,1.915331815338102,1.567393446438571,0.5665543343631745,-0.03754961685012271,1.1602492651052638,-3.628645599642423,2.5932443117405595,1.05459717317207,0.37405994147396665,0.8190632321582018,0.08354566150728122,0.3192654772880809,-0.3468262863829253,2.9286818101884213,0.24225446290648694,0.48839100477639086,1.3915069908400781,0.3467642728346951,0.5081272806115065,1.2894206513910431,1.215745103746163,2.6282633867889142,1.3472118139992804,-0.527677723451104,-0.25481581292317174,-1.8220844059174135,-0.8062741646986039,2.1993170160065705,-0.05362719883449922,1.245459350100658,1.1448388793540742,0.7751935091075511,0.5940534787161517,1.839269141333858,1.844786041889361,1.8713885081870063,0.09214276614032786,0.5408131188625678,3.226246262376058,1.0988977684895875,-1.1751538991501704,-1.107804682946881,-4.630958635745122,0.34623906981370633,0.16679257502730485,-0.8390150676477802,-0.3633597397162746,1.9398363862075054,0.9729859993213468,2.498745153500148,0.44239314995516205,-0.22970923458421572,3.4226750960190757,2.6542276595473617,1.6882086207585993,1.3177846864398224,2.017837025837631,0.26060038224677956,0.6556743047145095,1.3009263432509126,-1.0766032150425506,0.12502095013836462,-0.8727451858106913,-0.0993224767494637,2.5854799562312634,-0.1283914623699208,-0.8339174988646145,-1.5203579418874296,-0.25552346245311447,0.17912351055687756,2.8056072858006,1.5871553120336106,1.9699557358567703,-0.5343241266707941,1.4304923864295398,1.3574839006365382,-0.6370018155189062,-0.8198768945682852,-0.42440803620248674,0.07759738218069383,1.3847633286845122,1.4287953795003512,-2.022980021431459,1.1519194623488656,-1.2489665952185418,0.37013635358318464,-1.4844306157910792,-0.6663660438677065,-0.8923881504532372,3.117103872053094,1.4577043657448836,-2.714516899663985,-1.1848418747008092,-0.023391200518056397,-1.48524332678537,0.8658774482310572,-1.0020961133872957,0.5061262244699054,1.0308097060218515,-0.18071923484632865,1.0109897116296345,1.3705416880393972,1.4111203179129939,1.8055350391092786,-0.008525690413335323,1.3508809353049431,1.324687248693668,-0.25431206533649486,1.3462123954005984,-0.8013456499749987,1.2680684947650618,1.2604146050106482,1.7226423215948155,-0.47582097166016,-1.413506546302926,-0.9186267660999186,-1.163414988282606,0.7857875593657617,-0.0590779437518221,-0.608670582340873,2.4770106811260244,-0.2480602454342501,-0.7953640336277049,-0.06184906488959634,2.3674756364620513,0.4586462263948798,0.20334569591495427,-0.1949287629624259,0.941861026704605,-0.29993465384586493,-0.1657546794817336,0.5263302256216498,-1.3326163276761185,-0.42694069195937323,-0.212659354703047,0.13779433419160048,-0.2640927797268906,-0.6078809346957723,5.356673730726956,0.12998724384772004,0.9865805928392972,0.353327801451976,0.885014417346755,0.022181075943212097,0.18014444593116094,-3.1794635351552585,0.84268255599669,0.06714200065438171,0.6750146611417319,-0.4753760471099027,-0.4753760471099027,-1.6613670916135097,-1.2778478001128073,0.667042905302931,1.4885420181570135,1.6769828654294858,0.17111342277656527,0.8887872169423802,-0.42282587543970623,-1.1605570800124065,-0.16303431748232297,-0.4060328934165572,-2.097128095465284,1.231629025472663,0.9400291256694377,0.8255197278071447,-0.5571483789269102,1.9030433551281491,-1.0780033660618729,-1.0442981851556314,-1.0442981851556314,1.9030433551281491,1.4934341704483705,-0.0449360485326998,-0.8045291230766853,1.0840385270830741,2.3843828440438837,0.9012153639729877,0.5580020199035507,0.13839750193039452,0.06882177724720523,1.4614277150138026,2.1261372144915027,1.7252286252642972,0.8778013023251882,2.2865726990463253,0.08438082373686415,-1.6147715364024355,0.7028307361294824,-0.5294026670983134,0.18713777304055448,-0.14022903318048385,1.360393928629884,0.17392611445789397,-0.6201540110278035,0.42335988034465427,-0.3264501152260757,0.3216295809364315,0.32971636377547175,-2.206950454215763,1.0374617601564675,1.1329302791496851,0.6967627061724398,0.32803534526077466,1.1062493944981775,0.7563635459604592,-0.8649412690975508,0.3681853186288338,0.6304256479533336,0.29001018573711934,0.7333742272099467,0.10108713159718202,1.0230134957408927,0.7277922481804137,-0.08033832110165269,0.9505073745761056,2.764498301079096,0.674433197076984,3.6367931351757212,0.4848075412403566,0.08185196782123111,0.9998804587391917,-0.6798225192048052,0.5591441061760191,0.8675854349075651,-0.121772612812943,2.5592317283164983,1.0705665501248356,0.1663373665345932,-0.3748331233850062,1.3448585819152188,-0.5313343321288778,0.11651713862581685,1.4623441942937847,1.5808242923850624,1.18917407513322,-0.24884895453889547,-0.21267627644531692,-0.05627361770010057,-0.28001794538959324,3.6216132580523452,3.142529415612289,0.9565660229662658,2.023456475795391,0.2418535525249319,2.904768367571807,0.7190677367595577,1.4957575947832171,-1.5156450244343724,-1.0521143579759822,-0.8427179441591007,-0.6023571013081324,-0.3659049104128949,0.09848540590693629,2.4693975655528155,-1.4124230420526123,-0.7731257172202236,-0.08546394624945466,0.7540778926073796,3.1834889331094276,0.7221198107790816,-1.3304710919703893,1.2113473267812132,0.16218058355692333,-2.097128095465284,-1.2173525503464266,-0.08698848066491387,0.014081162427851446,1.2803801324011639,-1.5059954046543613,-0.6184336559976982,2.285537894849954,0.05873165513054872,-0.5177753672040087,-0.39792796639360734,0.5739655920471353,-0.006539136026287889,-0.4868383470374727,0.17350974490154186,0.17831306481710157,-0.4064914672639907,1.3184839250020375,0.05705030898581782,0.8730125518836626,1.2079108129269227,0.20238921872079213,2.765415029241391,2.765415029241391,0.051487002309026454,0.8916730029295149,0.7109442447507883,0.27347033639762675,2.765415029241391,-0.4015735507306175,3.5734444105106107,-0.0628876609482752,0.40046837260554297,-0.15199286540165133,2.037724428935541,1.4845128770249172,2.1930243680547674,0.5490602882950782,-0.21276297321449586,-0.1913205739997331,0.9835121180343844,1.9827773364774575,-0.36373713477569874,-0.23668930665169294,0.24611366947251467,0.3265494268437251,2.665736505010215,2.161907322799856,0.4603492912483351,1.7424199987741296,0.08401111734488022,1.966546147430792,1.9110412213912018,1.2256808758028344,-0.014484055970527309,1.524983884565742,1.4911036241509836,0.6264987155361883,1.435602063258229,1.2004721194554393,0.4388564779070076,0.1914526665450155,-0.44939539197590017,0.7759991067473082,1.1350216584793005,-0.7442733450269194,-0.05796957631832755,1.4861204697504409,1.1780698171127915,1.060551053858486,2.202140224925242,2.053307665217033,1.6785806305712414,0.33803708459635223,1.7294640158908963,0.7540486566986979,0.07974973791175652,0.7216378873599796,1.6442999576310537,2.6161057486631805,1.6785806305712414,-1.9541703038756268,1.2106262063134463,0.7404222535014883,0.3340255578020407,0.9595174220991869,2.0844211805859745,2.1476542016785687,0.8584117066522748,2.169585345470361,1.844964254176995,2.0226856393272685,2.5494270866754114,0.7210306255220524,1.5742718618328722,1.5088617961368127,0.6264987155361883,-0.025725097142231715,1.018559758862469,1.4465459553038202,-0.5036431530444827,1.6100060310731397,0.6343598936546768,-0.7041938607682147,0.01795098448618672,-0.5257446864334795,-0.829714059549855,-1.2181745453329174,-0.5080340066631002,-1.77311472563536,-0.3173419466999811,-0.27663191892922173,-0.5612128844574459,1.008472226274283,0.23936886797165402,0.3576555746098501,0.10526454351506324,0.764348379830208,0.2760386336237635,0.21896574879770145,2.5093422554048397,0.4724991797926092,-0.5107535354565957,-0.0491258055652383,-0.034926889635879865,-0.10852041354769847,-0.47732509933547873,-0.8397658160184713,1.1631225709403201,-0.09712976417366734,0.21794175350119113,-1.1383755372258064,-0.1771059079910058,-0.7464674757529194,-1.6853909177199609,-0.31376381777476,-0.6385794949272228,1.056894232207142,0.2863009719199798,-0.8939255740471467,0.31029709121674404,0.5865081869923996,-1.3543555517935306,0.3077952676661941,-1.282015671255313,-0.07009433766436796,-1.5851486978010043,4.18284266986685,-0.2170535881782553,0.24088453803718296,0.5999944324855694,0.47254869677437616,0.20711746670349804,-1.6465853405073758,-0.9669091769193952,-1.5011111267412611,-0.9762660634441971,0.5195959914399634,-2.7590426077723094,0.9271069480282421,2.21718716399214,-0.2025829659783252,1.7378000615798583,1.0677071003547274,-0.5766409923394321,-0.04233925641329446,-0.1818897193851031,-1.4873555008066668,-0.006925540340124918,0.4563435941575883,-0.7242595794301006,0.8304302171055469,0.43872605530970926,-1.2757914644391362,-1.5290867386601894,-0.2626135504827777,2.0703656923588682,0.533196004697573,-0.16282055283395558,-4.745736538424162,-1.4034599136370964,0.35582398413582134,-0.4163712529200856,-0.9668519601939071,-0.013379737083082483,-0.4857830426681113,-0.20453836647287646,0.9598893705979716,-0.8128286234754133,2.3992168236414826,-0.07295824500584394,0.011149666119039501,-0.22392765406346843,0.7918513316708687,0.5230089227115394,2.1215740404216885,-1.157276368516773,0.6020978993781161,0.900004907843864,0.22731499722651635,-0.43465335726882853,-0.8513505083771814,2.035027398899235,1.288727295018036,0.6688187644592083,-0.09368908037348361,-0.3561988716892465,0.3369419542669789,1.1895302668638703,0.5160164157754586,1.1293730100454382,-0.5707096247557439,-0.588484875017832,-0.33990898228070465,-0.37537709890883547,-0.8798422287954051,1.45023307226774,0.07642120303432053,0.5013382829154188,0.11048121232278468,0.453742159081861,0.2020002461422338,0.6343646492043804,-0.08717346737106668,1.479469948912818,0.8387145069316491,-0.3169694723319461,-0.2404416670160164,-0.23576077229830567,0.016627349560508885,0.5924834074871524,0.9343533657365005,0.22596308245016156,1.5798990707711063,0.6812023066863412,0.007494170377503761,-0.21986985341253323,0.8701207399890873,0.8699467868321288,0.32305505237695037,2.151105924496311,0.963363790330837,0.6066575551185728,1.2269564768013617,-1.812204227795073,0.08787057604926728,0.8332502936459699,-0.7475921899452538,-0.6866579546089595,-0.7230051881664981,1.1126497664062058,1.1374100371628877,-0.046609492793640545,0.9990311571410516,0.7834313726921318,-0.09733094963792546,-1.0318125436061483,2.5871886020741997,1.8065569209930623,2.7340547253796514,-0.3038373925580162,0.9603151908022793,-1.1203970336746685,0.16707753192409372,0.9113947235415043,-1.237404609185037,-0.35406259396911216,0.8657837704481568,-0.5053635169605889,-1.0780033660618729,-0.7510782829640797,0.4459071704107964,0.8303158789113084,-0.6998260341827426,0.8914362916542244,1.7033292046487194,0.44336341845099614,1.2043533212807354,1.9148903477945551,-0.8517394572227316,0.03406911063981342,2.334187696858002,0.2850270686810862,-0.17791320248466846,0.6834113876152873,-1.0509536782886757,-0.696055549881314,0.7347217424607274,0.023797843084714658,-0.1806668222751375,-1.0400006854239137,0.011847971740468718,-0.6042867067593838,0.19571085386751694,-0.640633558826094,1.410910074420467,0.7495469731582491,0.9552166257126908,2.4510226695693773,1.1670732550338678,-1.2352907829762205,0.9220131034220316,2.174818206154597,1.8423241445206113,0.7126174765603153,0.5372042995401749,0.5237296567999397,0.9948053869528388,0.061221962808177724,2.148275988336717,2.2021262826940338,2.0326198978602696,2.0916615102692755,1.6346827274842395,1.312427496605521,2.3666498024809113,1.9804950395017757,3.1053679146043747,-0.083354429006022,2.5329131490146324,-0.7023144652057661,0.5082334733377627,-1.2222716866254135,-0.13616703780747094,1.2627579957290729,-0.539000227524964,-2.7033232326249093,-0.7805684141122973,-0.41507065573982427,-0.49691352805113614,0.6583078669939224,2.209191007029466,2.407302334879228,2.319905161100784,1.7764244580554942,0.9276550558007568,-0.2753321294697398,-1.1436680989307264,-0.5586084105675986,0.8666043355460349,0.2476335488318726,1.3239486570826848,0.8477811630564012,-0.7629509562877751,-0.707482681306933,-1.9706893613275935,-0.693849308816982,-0.0792271018536266,-0.8300768366009297,1.2586311172897635,0.45386049922277993,1.3221976825759862,6.174641604836998,0.26427908139605144,0.9339842015674865,0.8304302171055469,1.2237201666192974,1.1339788386933158,-0.7125985735121121,0.12058125570081664,-0.33328618435217067,2.9676732710995277,0.6873750157577742,3.1088081366118554,0.7638139312997769,1.0164596812663744,1.4664508024138647,1.0649991252371962,0.5251368641490428,1.7452395205111704,2.11582778347171,-0.12317818301859584,-0.3951453760783418,0.04111555590757126,0.43497141035140635,1.4744997120327095,1.32180477401505,0.49779482856174395,0.990096370672807,1.4641548354171323,0.571064849433246,0.9440912226298162,-0.3254066219072391,0.5728436856810873,1.3387342330793448,0.2977206402940052,0.12417345078800064,0.7110484439403312,-0.2513382053775877,1.0201916532463156,0.9726203967305537,-0.04819283900627443,1.650775551364113,1.1466738065516968,0.7517740424827697,-0.48752523163644157,0.9967164548166919,-0.3036955678921568,0.6143823490340031,0.6239216159698008,1.3529556125638236,1.9354110831507916,1.297142831986237,3.3760865977056222,0.5706387754775037,-1.6901133854393189,-0.6118959671349543,-0.6118959671349543,0.4595917726276348,-0.464819134516709,0.8663488217080392,0.9702114083775293,-0.6763028241994381,-2.022980021431459,-0.5391169825956217,-0.7940088384444848,-0.6036407771762826,-0.44447966053829435,-0.7646261588688361,-2.5646472968040257,-0.09200978529912292,-0.6592635133305927,0.10292245373917995,-1.6662912764654838,-1.4049573681644174,1.7205431453636377,-0.16303431748232297,-1.035557374630403,0.5784494654118544,-0.9846985820555372,-0.1750511208298032,1.3261989309075086,-1.8901043511651356,-0.7868481095759062,-1.0156475901751203,-1.8435075423484122,-1.0037820577967826,-0.9763595807216188,-0.5892037736325375,-0.2860778007459446,-0.9507568692982765,0.1074889673722303,-1.2048764529098719,-0.8246127815934349,0.019415503087972494,-0.9751197791294383,-1.1869941198576277,-2.2890305352588394,-1.4340855356522706,-1.354783764323396,0.7201159791570372,1.0814084193885691,-1.0790149635861401,1.4201797395670275,2.519183627881672,-2.7773684701090535,5.356673730726956,0.35590828830470655,-1.627567824457411,-2.5423592221621796,1.3667918415825784,1.23604470004986,0.08265644354333816,0.08635714002318572,-0.6900580499565646,0.8857342316288853,0.6673817552369647,-0.8582440723464626,0.1108588449127671,-0.7026506305857906,0.046633494860280275,-1.4037711855225958,0.5993321962852856,-0.9143606148378454,2.133829236902907,0.3794447597381626,2.3286096859845613,-0.03122199151754711,0.5239981953485711,-0.10454060048386324,-0.05151506975955586,0.8357290172529284,1.463061118452649,0.09646525574269085,1.558845356487796,1.3112911496409796,-0.516002364767593,-0.0016810281347656945,1.072615143194771,2.68457374719452,-0.07136159782797917,-0.298711375579808,1.0465184627093091,0.5922375013383102,1.410910074420467,0.8279411886932182,0.9321096224006198,-2.1763084657613163,-2.1763084657613163,1.0718707796012776,1.8020690885292132,1.682026468633744,0.18608989474886675,2.56997442651202,1.4126441714147382,1.009580802190637,0.29035989365400855,1.0478172814112126,-1.7069454566974627,-0.11129811236486536,0.8610821405562832,0.651311511072654,0.8577816166784379,-0.04131170302450665,1.7520871483528844,0.9434990799304694,1.7753032531415773,-0.30091976494912964,-1.0644254981485413,-1.0632444954435332,-0.06851018864908828,-0.24169018159523256,-0.5973854069870563,-0.07645748159350482,1.0954372657186424,0.29812175715804673,2.9392450615145136,0.46213988745629575,2.0813841773178194,0.2052923073296183,0.021753106873134496,2.2725885318254755,-0.24788725263430106,4.089328063827412,2.0893429988331182,1.159610803577787,0.6378990281643782,-0.005140828602781993,1.1919430585688346,1.9265189114566086,1.209411086057293,2.0806101966414086,-0.30095909231792145,-1.1545788921636206,0.8645232156019913,1.3908104727647297,2.108172184507635,1.10357022590566,0.3863899078425853,0.39802769284718853,2.2385109825321767,0.8746084681778662,1.8674486240617119,1.3646110270940355,2.2284612245964692,-1.4674796576295002,2.0430563790265395,-0.8658834400355915,-0.8246252664464121,1.9319965917211332,-0.49790203649482007,0.6744012093933424,1.4825831710107389,-0.06072932718833372,2.9271799477899143,0.9598781178050391,1.3089076600942937,-0.7731161826195052,3.9633520829531768,0.03362784939651563,1.660915212509638,0.22925149849844825,4.4172313731380015,2.1169051474397933,1.0709107511050688,0.5944325866301875,1.3292428989372687,4.139408025809829,1.1434366870982822,3.1502938858739986,3.343603536897616,3.3698987754665635,1.3035624814720166,1.7324041610402172,1.7151379155982356,-0.6164881376617699,-0.062201531455344065,-0.4916287573732494,-0.6078987208516734,-1.1515001926819988,2.8735376263886327,0.3765667983920632,1.7507188105949587,0.48050255395140384,1.6039984052472636,1.8974505128869563,-0.37952300845192116,1.919225639416047,-1.668326162360846,-0.3897860744864842,-0.31978296329218675,-0.1109084057324258,-0.3105957120954441,-1.33719010524119,-0.7084489368541702,-0.14969350925245842,-1.0307917273498566,2.3429124759178945,2.884298257523795,-0.703207323006693,0.09212305710368902,-0.2900937798830934,1.524345422632862,-0.037952947969137264,0.6297938699471183,1.0975920488153328,0.5346349872538363,0.5464790351288094,1.0975920488153328,1.2876028988541361,0.22430784903136522,-0.5034152867349759,0.056518102073643064,1.6175709482655525,-0.037935449104252006,1.1108848236594777,0.0026841814643326144,0.44420354222940955,1.4243365050602461,-0.2474056584927527,1.5914871071641477,0.8379432459563254,-0.47249010031272626,-1.1038678537093365,-0.5992393650137461,-0.118124289761125,2.529193806688074,0.4786487995571303,1.5674395640228462,-0.8314002016154651,-0.9117813691499358,0.4919453802456578,1.5743616926986896,-0.17743403352962991,0.11453352922496064,0.38377042741533485,0.12410163783958861,2.597332725299867,0.7933459963367187,-0.2783512860323474,0.7047434843009691,2.2984055266343293,1.1192675080021954,1.1010897028304896,4.225268163748146,1.4940701773059843,2.5854799562312634,1.4018759687721574,1.678647485597245,-0.2295179507219569,-1.1655825125405659,-0.6544333375927488,-1.255055749079764,2.4156030651875753,0.9266323889500573,0.8837904140454389,0.5729532840419005,-0.7741028366403031,0.3726326961951903,-0.6551669469524742,-0.12793971415345834,-0.4120506607661235,-0.25907135838815554,2.1338418907094674,1.6279381716020238,1.3656903754166627,-0.13014829805079423,3.5511843508425733,-0.8349328524645306,0.032612546072133305,0.8772424805296369,-0.7203647734213795,0.7453936657001141,-0.39625117371258844,0.9339842015674865,1.3311990650621421,-0.3934561590240299,-0.010443480031914202,1.1583090370528315,1.0377876196552736,-0.21163108740253422,-1.346270478766399,0.0653881502664045,-1.024063854293348,0.7485133713052333,-0.03160600754574547,-0.7082863805078943,0.15986216546225956,1.8931629333030624,0.2489279657495464,-0.20090726619496965,-0.012975290217414942,1.160266928032289,-0.417081095842296,-0.27938610075619763,-0.06769302128552682,-0.23860873731462195,-1.9040104538747116,-0.9613278196418432,0.968593981412836,0.09260439884161695,0.6957002209799609,0.578678068022057,-1.307494033588159,-1.1334991660459417,1.1672127576074152,1.5811985041918195,1.8121525336566515,-1.698295728377487,0.3378639245194665,1.2533522211269852,0.00995397819726012,-1.3005983266631684,0.4240986512885769,-0.20382075522988805,-0.26928414095705033,0.15409810516223396,1.3054826309413003,1.2605859449251242,-3.404856483462598,0.5714601669722069,-1.6161442281579221,0.3745472190853152,0.825837810379122,3.3579323338677294,1.160914399411591,1.4500940129154756,-0.6046307048454818,1.958430358824333,-0.6368780777468221,-1.6161442281579221,-0.5380331113361595,-1.2917923509638896,0.8416510753263039,-0.9783889104024163,0.6514135802946042,0.396372679667789,0.3275150070432153,0.3453841254559696,1.1254840115545544,0.627120133965686,1.1830678506450816,-0.03429181781328317,1.0630572515183916,-0.46724873609055384,0.49795296729923955,1.0506820993455532,0.4202433321626017,0.17431934014638972,-0.4349866623454268,1.1498413697479961,0.14085695262274853,0.16031453542964225,-0.012239229231001928,-0.4643846154319353,0.7432875479718285,1.078218535803182,-0.10002134917326329,0.3361843764218568,0.5227732994178427,0.8823311594942027,-0.23050195850758856,-0.9611901327591165,0.7150146733176428,1.673297927057982,0.187675155198772,-0.6352384706438329,0.6001993700096934,-0.1634220081610599,3.538952009740767,0.6526011035331207,-0.15890970032891805,-0.2692781360308118,-0.6961067113635317,2.5931880252022186,1.578750013648235,1.6679410258249612,2.793176981670118,0.7048475539956958,1.5175507662904437,0.7222861279219867,0.19546819231302406,2.3135255386762164,0.4791999777335062,1.7710628069503969,0.4245308948685871,2.338358880402305,0.5943960528921115,2.7463992320994732,1.2440878315721786,1.1330704480995972,-0.25613777444763,-1.771370694037154,1.2169166867702848,-0.14834874407880497,-0.18669890596600694,4.250717996259497,1.4471061265037157,2.9898714880744595,1.6816819386435051,1.52355123554046,2.6808158795184873,1.9689293667352392,1.7635898101996228,4.860570908737348,2.5435857250962575,1.4460017433165817,2.778185830983754,1.8833643883624602,1.2046334063176294,2.8346137779720935,-1.0769035456669735,1.4512900561454736,0.452957832436393,-0.5456677398938211,-0.09861379271188922,3.907556367943324,1.5399360052454039,2.9362129551670226,0.14277808683246157,-0.11050737713087173,0.1539688054037716,0.12874636440709275,2.972404398810679,0.3668727161064681,0.2061282978578562,2.8683886383219086,1.4778016600209403,1.071314164811939,0.45303773161355937,-1.7088727332570182,0.42385938795160105,0.5470353432428193,-1.9162625781567268,-0.3155808672169513,-0.32560510194564524,1.112573925297095,1.5533403207397523,0.976842361768929,0.693812730986567,1.8000990056407589,-0.7868481095759062,-0.03387670073177112,0.45728014450559595,0.3631487114879985,1.35272850418148,3.397293118850825,0.6438134546568496,-0.6428380192982834,-0.04769900219847168,0.11313030799930968,-0.14839419802922604,-1.2173525503464266,0.028627366947361375,-0.6123502725066342,-0.8899000126701888,1.2281232612877007,-1.1894658201003887,2.1326027691744205,-0.5775322683655755,-0.2471149549501533,-1.6082553223208849,-0.5530206074724461,-0.20168881648784023,0.7734275405408304,-0.4666439835370493,0.02686321748141372,-0.48109284549790043,1.425363395503537,-0.8843065138045929,0.09695268368442579,1.1332394503581005,-1.2659224906017008,0.32443571305459756,1.5813011166621271,1.5268714228070996,-2.8066022188841915,2.4081225926811345,0.9484418651043838,-1.5160885181486763,-1.2444964454416003,0.7694820763816421,0.29765176761355816,-0.9521319600531426,-0.40824650803021933,-0.2559004868743724,-0.4167040218624439,-0.13051567004769338,-0.17658853055072257,1.9755126846533753,0.1593117129795455,-0.9116283116913614,-0.7400862925241644,-0.4408812598977751,-0.46077105902304183,-0.7337878938840435,2.1592267482936527,0.32413629648267667,0.4165108202441561,0.38038629495006554,-1.0432536373771053,-1.1302850973588972,1.0729366892842116,1.1867464917789037,-0.09787723287122789,0.9551858401036829,-0.4878189473531966,0.985692071126882,-0.8149374744895784,-0.25431206533649486,-0.04852900185098212,-0.0698722345989912,0.7386691977573759,1.4287953795003512,1.9095480531962292,0.9372805765926762,0.39647355496114883,1.078218535803182,1.7104359633301938,-1.0760806153865698,1.128062831244847,0.4097492999901565,0.3832435367571929,-1.9476694734032127,1.7885919916609652,-1.53019796151185,0.9593455443176369,-0.7689064086042136,-0.7882608007974106,-1.0378167337749635,-1.8414427521741923,0.6404121680936745,0.8069184758134813,1.1583090370528315,0.30720009841054263,-0.37897145916881964,-0.0643034228387445,0.2612555341543274,-0.9538399018431517,0.16734737772035238,0.9242461713853903,-0.05360550806164248,0.3415399554095718,0.0071008925706033624,0.8984977325242677,1.9640965288912513,2.51646158301718,-0.6066391123531031,1.0778982388521052,1.1544363878501973,2.7541073575499637,1.741841330870417,0.049560168469337446,-0.17423997390100077,-1.7531754298804674,1.3143200521370033,1.3143200521370033,0.6703637581191535,1.7110540730503732,0.10784085208698432,1.2542762635592792,-0.34788202386607314,0.41404252481150355,1.0004287659534357,1.7967080639919606,3.1439133752238213,-1.1116221067784022,-0.6189827651924188,-1.3798988002254209,-0.4923873033826036,1.2950925081244775,-0.09963868490337205,-0.41735801007320555,-0.7244797910708716,-0.5943363395497931,-0.2677849186075843,-1.2657003712389945,-0.922031984455259,-0.5776187521365359,-0.6546338779550172,-0.21772704941417734,-0.8721826734262639,-1.100763805063507,-1.4600891325630752,-0.20080593705437955,-0.6907025231386812,-0.4515731780305544,-0.12229647026225951,1.7656073231912084,-0.22910559721452597,0.21339226106058956,-1.2666358194742522,1.017146498361042,-0.531829929073472,0.7687441306237373,-0.03441735754716862,0.41471677044490246,0.06705368671889417,1.6366399247846164,0.3737918157463363,0.877230838914376,0.5774075051451524,-0.03387670073177112,1.2557251747860179,-1.4328357341024494,0.8103071006118515,0.4551695662472525,0.7539553992722564,-0.0013286093930815856,-0.3300910858415757,-0.12647524360807452,1.8267815109919485,-0.5388888269322238,0.9106224341092182,-0.6662876704719856,-0.23693081583585313,-0.061587511014840314,0.31274501972477786,-0.4933935912295199,-0.522614631161522,-1.3316790529403308,-0.6905071116381671,-0.07924611815583965,0.025267352008493445,0.46616858866119004,-1.0382878469479002,1.1069164994379161,1.5724569867754288,-1.6032964185397478,1.4905880170560648,0.11313434567915598,0.8357318223492561,0.2364956772062742,0.9295325995547594,2.0479811161357846,-0.23269578598383275,2.2985368644593827,2.824140331223053,-0.70050804420301,0.7062507829186504,0.4605552987922097,1.5229085406668923,-0.006169052581747748,2.5555271096337537,-0.31058065187220646,-0.3520106300040874,0.03393427171648883,0.6871043550364112,0.7295867598289851,0.9876790032721343,0.646336100434189,-0.93150337320333,1.190097892994991,-0.4886698874873489,-0.07637124436549049,1.7456786075484758,-0.18086917877974862,0.9426886413454791,2.2013790657473535,2.6469219308196514,1.9458504206879141,2.102196519470284,1.1122343893912496,2.3226843245668896,0.9679398180994188,-0.6262071670997322,4.250717996259497,-0.11241332378876251,1.21332219229496,2.4753684213318565,0.5985264053664436,0.34048234590847026,0.630357234135937,-0.36778634087485795,-0.7947512694627732,1.144944462675687,0.11164920861979141,-1.9206178037940846,0.0634879197892276,0.5541874649154287,-0.7255649725514272,-1.9328291946207679,-1.1997380468493646,-0.07516694100046456,-2.097128095465284,-0.8186320649774513,-0.44421528904952884,-0.5899166766899337,0.4408663415664592,0.017052527411772378,-0.5399233788681504,2.897699227252326,1.1922006766771065,2.544094524654428,0.5285731748296898,1.4432278667812344,0.05024359480184804,-1.3461251579559281,-0.7920501445906161,0.21108641213493948,-0.2322686826296706,-0.5437981343344664,-0.17411944869504678,0.1677745315723149,1.409846166743516,0.3131890057028292,0.573260248139831,3.1736814135797515,1.312740484692553,1.2727238056802788,-0.5145717772358089,0.2430749312209172,-0.1585775105985268,1.922724170220988,0.6036790080712279,-0.6222444925271258,-0.3009643688263415,-0.40398117281648355,1.2516418310337998,2.856055863751365,-0.6210452409997452,1.3803322309008974,2.1749792235527226,-0.6747035127448933,-0.14213524163923608,1.796507968092223,1.883408324751397,-0.16411552478343722,-0.0600227037900504,-0.23314208295129718,2.048510715344732,1.586858753336133,0.5292434931872462,1.586858753336133,0.2611104975600728,-0.008756628587925216,-0.4445372585401126,0.5625625018424534,0.6759513802958063,1.6248602334374886,0.535452295122467,2.7273096574874542,-0.5313343321288778,0.3501276341517039,0.7360982966748622,-0.5019080742547044,0.5989813664115928,0.2056491315038149,0.133999791098132,0.754014332511817,-0.11549200811159249,-1.0470164109495095,0.7670890618479135,-0.2861367565363772,0.5161665468212473,-1.3643096613977572,0.6756777754327962,2.4032567408709227,2.257492706182018,1.450197998801979,0.6603320909358934,0.29655956121355304,1.3975907417153852,1.5090739055364069,-0.4965758460897789,-0.8964588828278881,0.6525061600907582,1.5343642003160276,1.2978756895789874,0.3145702496432191,2.4696546763827056,1.7460186779534108,-0.4575733113369362,0.08438082373686415,-0.38310872487424635,1.0340068245328382,0.3955067275584997,1.987882357440914,1.738859244073755,-1.2073284147918104,-0.9068212030510467,-0.25658296854618173,1.5883493353204376,0.9873091388423274,0.7884072949979225,3.469588342078502,2.095874035362684,0.740323128815688,-1.0118018224225491,2.097056507721675,3.203622237055564,0.6062847954799849,0.8747597110900833,2.0390501675187935,0.9976012166592498,1.4730902508464525,1.0304124254147207,0.5250752687492856,0.6062847954799849,1.2764701915055667,0.21538704716086254,1.0197009048685857,1.041964064770155,0.5538235566338406,-1.8862546319075348,0.6852428998849099,2.680138155371817,3.1429074402831656,0.33084631114146346,1.0304124254147207,2.6204495406372508,1.738859244073755,3.356626009844669,-0.25294977819720516,0.6641334616569027,0.1162682558832625,0.7975676405610777,1.9926246227299536,0.8675752702428445,1.1701989199330147,0.750882154943188,-0.8762685025917878,-0.8928993632384544,0.9512381364146121,3.963974382086263,-0.07704848183765532,0.9761676831805572,3.2617846356132407,0.4455689330680818,1.11003605084921,0.5582661349933346,-0.01437467653876154,3.568645764689396,2.593361992848548,1.0998489918579621,-0.19778060250929586,0.2613372894639332,1.3499822216352173,0.018735308694947495,-1.1616060715643746,-1.3005983266631684,1.256226647971587,-0.15563847662520428,1.4298843712232423,-0.06917174894261789,0.22122673112864083,0.23913365932385147,0.314579591109059,-3.145780057036705,0.416990716314858,0.8387145069316491,-0.8719070207100295,-0.7600738247976528,-1.0692760496881029,-1.1487591314441254,-1.887782458465549,0.9259380953902396,-1.5546764712724606,-1.0988707957317587,0.818824643987889,0.8047595571112297,2.8664658453137357,0.21613842233179453,3.6608296173151453,2.8723019150274505,3.3200179376408903,1.3846816583107209,0.3964905114279303,-1.0129185798213363,0.16223816802188365,-0.6332953454114677,0.22848236994667145,-0.2914427375342735,2.616920939438681,-0.6642716936592227,-0.16794028201825711,0.47178914948264883,-0.6074710213081909,0.5380172237373402,0.3564882012534717,-1.1155279717415496,0.21661857353672273,0.15136655571462074,-1.3250438733992729,-0.6202282118488162,0.9565660229662658,0.46493508120563776,0.40979802963433287,1.4697313399591632,2.486919656323048,-1.7753200168918706,-0.8559578795141504,-0.25383048501470085,2.080402316897987,-1.7920115212407899,2.6792457031547174,-1.039974424595776,0.4799041063861941,0.20355028721096255,-1.185766846697201,-0.426203888524628,-1.3124021897657856,0.007727162678114918,-1.476072292121358,-0.5911699250184697,0.9393284648253278,-1.5039024884292564,-0.9802362183918474,-0.055450200201938984,2.199285324974723,1.318561974662171,1.7740157255944233,-0.08752888115281154,-0.06718085194677487,0.43992844857596286,1.1776405947425634,0.8434945897344396,-0.0005829156739700503,-1.1454374294037541,-0.5229389384441763,0.016190292095496404,0.5844031262863176,-0.5960458830848058,1.8725126373606031,0.9685079242678003,1.5366924696742437,0.598129432478278,-2.6342816314754836,-2.109213501313923,0.844486638716123,-0.10989320459652807,-0.3989967777301788,0.8030199554639904,-0.6243243646079139,-0.1635652099363896,-0.5596926575648815,-1.5864180587112457,0.35590828830470655,0.2160845904776511,0.5538992635895111,-1.617552002302796,-0.7833480740763217,0.0003083263254827757,0.12215604261026089,0.9785813632699856,1.3958428483275005,1.4201797395670275,-0.423545966178131,0.05170236430704846,0.15031868737410756,0.12860751161057324,-0.3936145921389443,1.5359157996185018,0.4494871830128641,-0.7126532790636049,0.6552131716677566,-0.5052749669056208,2.108446905551141,-0.16282055283395558,-0.2843583371697738,-0.2943703777904648,0.44946156153717887,0.194179834131884,0.43632670245015615,0.43919252791185065,0.7481571523074172,-0.4754881365625547,2.419879833610725,2.2822052188252884,2.3593405474445954,-1.0472334565888604,1.2927185734452564,0.5764356901943684,-0.07874154076081467,0.13638193147920147,0.6036494761538705,2.3856556001136426,0.2598638572228509,0.4330553871518901,0.7121592587666582,1.3813240560023594,0.8638346826665035,-0.9160697498519538,0.996740738697038,3.3261563320984098,1.412946583345632,1.2513757551033844,3.0100003649383047,0.04382535887842282,0.7909741984371017,1.6683633517854333,-0.5371461875359074,0.009701213231985327,-1.0855726073311942,0.008342680801118387,0.5029907213909774,-0.669172439831729,1.6279381716020238,2.3153773908014594,1.6043171629045017,-0.05434851515090167,-0.3582887067285043,2.2567776894972296,0.7211559056592577,-3.145780057036705,-2.309532835438711,-0.4376859625469148,-0.46995845530259045,-0.31866770697989705,0.5060744868494194,3.821423946753087,1.012568240294822,0.5960312551674621,0.4559372891643177,-0.3570200474793873,0.8700004911381994,1.176752168179129,0.34123959054810077,-2.1757002391850833,-0.995935788647914,-1.349059065724048,1.2797314775280009,1.6206884446272452,-1.2883335773129436,-0.03587142548801536,-0.4089193802882702,-0.49526597621651475,-0.365356455154851,-0.31501685688411785,0.05782970175000632,1.674354986358326,-0.5600573234967787,0.6593980083327684,1.3993844754358333,1.7779961233976722,-0.4376859625469148,-0.4376859625469148,3.469588342078502,2.2385109825321763,2.0809600255978196,-1.9791370645990556,-2.0029180949075718,-0.12333651371750307,-0.8817968918573429,-1.5828710092043043,-1.9398078358934618,0.9152333339447001,-0.9551502916361904,-1.0930522751124994,-1.2938011755473746,0.26238305966273084,-1.540448286428395,-1.7578367684647613,-0.2713983278210199,-1.7482635760769198,-1.3083391672204419,-0.9295777174484573,-2.0787082289399126,-1.5005295644482464,0.9250444815576694,-0.07584149358454394,-0.9777388773112231,0.7703149566627537,0.4395452128778393,-0.5421134751123173,0.8400923808716696,0.19762583667250158,-0.07193753618578191,2.271577736457404,1.6447614728846367,-1.3615500396910354,2.030667863852739,0.9732317633382923,-1.0410097475867512,0.34518796753556963,-0.5103981939741475,1.6086266654076875,1.6888233407545952,-0.9499881778596266,-2.1838202987668125,1.745178186757039,-0.7663731750724159,0.3697780650692333,-0.906499667432175,3.7987454637539746,-0.27794177396683334,-0.15305316679418365,1.2264692722792765,1.5297977391694741,1.2590945946083194,0.6008829405948325,-0.0015772804424292425,-0.6308289241364197,-0.3262234940047856,-0.7048116869139952,-0.16764948913038835,1.037044422965505,0.12679357503967897,0.5938972407937846,0.35590828830470655,-1.7142074536630512,1.2725330161909127,0.5518251752319714,0.4657741705475371,1.5359151072116806,0.9420395438728201,2.8896588964468215,0.07754728261347091,0.7016476535083123,0.6771021488261977,0.10458002074048217,1.2564977147850802,2.07622312665289,1.654035532106133,1.2195039928688833,0.9895682645408065,-0.2941345493835406,1.1629170834709253,0.19157243139434801,-0.729933519955718,1.528706864137665,-0.34388394793164506,-0.16155351303111684,0.031789863198925274,-1.0479223954738102,2.154046286106798,0.03362784939651563,-1.2406466665402167,1.1651731832528465,-0.2882326565193229,0.37714568911774216,-1.7006212507456453,2.26410916495167,0.8121061982916165,0.12652175728991172,0.41650701837244286,-0.668292822368372,-0.6687762062702762,-2.969740528792513,-0.9713639496773534],\"yaxis\":\"y\",\"type\":\"scattergl\"}],                        {\"template\":{\"data\":{\"histogram2dcontour\":[{\"type\":\"histogram2dcontour\",\"colorbar\":{\"outlinewidth\":0,\"ticks\":\"\"},\"colorscale\":[[0.0,\"#0d0887\"],[0.1111111111111111,\"#46039f\"],[0.2222222222222222,\"#7201a8\"],[0.3333333333333333,\"#9c179e\"],[0.4444444444444444,\"#bd3786\"],[0.5555555555555556,\"#d8576b\"],[0.6666666666666666,\"#ed7953\"],[0.7777777777777778,\"#fb9f3a\"],[0.8888888888888888,\"#fdca26\"],[1.0,\"#f0f921\"]]}],\"choropleth\":[{\"type\":\"choropleth\",\"colorbar\":{\"outlinewidth\":0,\"ticks\":\"\"}}],\"histogram2d\":[{\"type\":\"histogram2d\",\"colorbar\":{\"outlinewidth\":0,\"ticks\":\"\"},\"colorscale\":[[0.0,\"#0d0887\"],[0.1111111111111111,\"#46039f\"],[0.2222222222222222,\"#7201a8\"],[0.3333333333333333,\"#9c179e\"],[0.4444444444444444,\"#bd3786\"],[0.5555555555555556,\"#d8576b\"],[0.6666666666666666,\"#ed7953\"],[0.7777777777777778,\"#fb9f3a\"],[0.8888888888888888,\"#fdca26\"],[1.0,\"#f0f921\"]]}],\"heatmap\":[{\"type\":\"heatmap\",\"colorbar\":{\"outlinewidth\":0,\"ticks\":\"\"},\"colorscale\":[[0.0,\"#0d0887\"],[0.1111111111111111,\"#46039f\"],[0.2222222222222222,\"#7201a8\"],[0.3333333333333333,\"#9c179e\"],[0.4444444444444444,\"#bd3786\"],[0.5555555555555556,\"#d8576b\"],[0.6666666666666666,\"#ed7953\"],[0.7777777777777778,\"#fb9f3a\"],[0.8888888888888888,\"#fdca26\"],[1.0,\"#f0f921\"]]}],\"heatmapgl\":[{\"type\":\"heatmapgl\",\"colorbar\":{\"outlinewidth\":0,\"ticks\":\"\"},\"colorscale\":[[0.0,\"#0d0887\"],[0.1111111111111111,\"#46039f\"],[0.2222222222222222,\"#7201a8\"],[0.3333333333333333,\"#9c179e\"],[0.4444444444444444,\"#bd3786\"],[0.5555555555555556,\"#d8576b\"],[0.6666666666666666,\"#ed7953\"],[0.7777777777777778,\"#fb9f3a\"],[0.8888888888888888,\"#fdca26\"],[1.0,\"#f0f921\"]]}],\"contourcarpet\":[{\"type\":\"contourcarpet\",\"colorbar\":{\"outlinewidth\":0,\"ticks\":\"\"}}],\"contour\":[{\"type\":\"contour\",\"colorbar\":{\"outlinewidth\":0,\"ticks\":\"\"},\"colorscale\":[[0.0,\"#0d0887\"],[0.1111111111111111,\"#46039f\"],[0.2222222222222222,\"#7201a8\"],[0.3333333333333333,\"#9c179e\"],[0.4444444444444444,\"#bd3786\"],[0.5555555555555556,\"#d8576b\"],[0.6666666666666666,\"#ed7953\"],[0.7777777777777778,\"#fb9f3a\"],[0.8888888888888888,\"#fdca26\"],[1.0,\"#f0f921\"]]}],\"surface\":[{\"type\":\"surface\",\"colorbar\":{\"outlinewidth\":0,\"ticks\":\"\"},\"colorscale\":[[0.0,\"#0d0887\"],[0.1111111111111111,\"#46039f\"],[0.2222222222222222,\"#7201a8\"],[0.3333333333333333,\"#9c179e\"],[0.4444444444444444,\"#bd3786\"],[0.5555555555555556,\"#d8576b\"],[0.6666666666666666,\"#ed7953\"],[0.7777777777777778,\"#fb9f3a\"],[0.8888888888888888,\"#fdca26\"],[1.0,\"#f0f921\"]]}],\"mesh3d\":[{\"type\":\"mesh3d\",\"colorbar\":{\"outlinewidth\":0,\"ticks\":\"\"}}],\"scatter\":[{\"fillpattern\":{\"fillmode\":\"overlay\",\"size\":10,\"solidity\":0.2},\"type\":\"scatter\"}],\"parcoords\":[{\"type\":\"parcoords\",\"line\":{\"colorbar\":{\"outlinewidth\":0,\"ticks\":\"\"}}}],\"scatterpolargl\":[{\"type\":\"scatterpolargl\",\"marker\":{\"colorbar\":{\"outlinewidth\":0,\"ticks\":\"\"}}}],\"bar\":[{\"error_x\":{\"color\":\"#2a3f5f\"},\"error_y\":{\"color\":\"#2a3f5f\"},\"marker\":{\"line\":{\"color\":\"#E5ECF6\",\"width\":0.5},\"pattern\":{\"fillmode\":\"overlay\",\"size\":10,\"solidity\":0.2}},\"type\":\"bar\"}],\"scattergeo\":[{\"type\":\"scattergeo\",\"marker\":{\"colorbar\":{\"outlinewidth\":0,\"ticks\":\"\"}}}],\"scatterpolar\":[{\"type\":\"scatterpolar\",\"marker\":{\"colorbar\":{\"outlinewidth\":0,\"ticks\":\"\"}}}],\"histogram\":[{\"marker\":{\"pattern\":{\"fillmode\":\"overlay\",\"size\":10,\"solidity\":0.2}},\"type\":\"histogram\"}],\"scattergl\":[{\"type\":\"scattergl\",\"marker\":{\"colorbar\":{\"outlinewidth\":0,\"ticks\":\"\"}}}],\"scatter3d\":[{\"type\":\"scatter3d\",\"line\":{\"colorbar\":{\"outlinewidth\":0,\"ticks\":\"\"}},\"marker\":{\"colorbar\":{\"outlinewidth\":0,\"ticks\":\"\"}}}],\"scattermapbox\":[{\"type\":\"scattermapbox\",\"marker\":{\"colorbar\":{\"outlinewidth\":0,\"ticks\":\"\"}}}],\"scatterternary\":[{\"type\":\"scatterternary\",\"marker\":{\"colorbar\":{\"outlinewidth\":0,\"ticks\":\"\"}}}],\"scattercarpet\":[{\"type\":\"scattercarpet\",\"marker\":{\"colorbar\":{\"outlinewidth\":0,\"ticks\":\"\"}}}],\"carpet\":[{\"aaxis\":{\"endlinecolor\":\"#2a3f5f\",\"gridcolor\":\"white\",\"linecolor\":\"white\",\"minorgridcolor\":\"white\",\"startlinecolor\":\"#2a3f5f\"},\"baxis\":{\"endlinecolor\":\"#2a3f5f\",\"gridcolor\":\"white\",\"linecolor\":\"white\",\"minorgridcolor\":\"white\",\"startlinecolor\":\"#2a3f5f\"},\"type\":\"carpet\"}],\"table\":[{\"cells\":{\"fill\":{\"color\":\"#EBF0F8\"},\"line\":{\"color\":\"white\"}},\"header\":{\"fill\":{\"color\":\"#C8D4E3\"},\"line\":{\"color\":\"white\"}},\"type\":\"table\"}],\"barpolar\":[{\"marker\":{\"line\":{\"color\":\"#E5ECF6\",\"width\":0.5},\"pattern\":{\"fillmode\":\"overlay\",\"size\":10,\"solidity\":0.2}},\"type\":\"barpolar\"}],\"pie\":[{\"automargin\":true,\"type\":\"pie\"}]},\"layout\":{\"autotypenumbers\":\"strict\",\"colorway\":[\"#636efa\",\"#EF553B\",\"#00cc96\",\"#ab63fa\",\"#FFA15A\",\"#19d3f3\",\"#FF6692\",\"#B6E880\",\"#FF97FF\",\"#FECB52\"],\"font\":{\"color\":\"#2a3f5f\"},\"hovermode\":\"closest\",\"hoverlabel\":{\"align\":\"left\"},\"paper_bgcolor\":\"white\",\"plot_bgcolor\":\"#E5ECF6\",\"polar\":{\"bgcolor\":\"#E5ECF6\",\"angularaxis\":{\"gridcolor\":\"white\",\"linecolor\":\"white\",\"ticks\":\"\"},\"radialaxis\":{\"gridcolor\":\"white\",\"linecolor\":\"white\",\"ticks\":\"\"}},\"ternary\":{\"bgcolor\":\"#E5ECF6\",\"aaxis\":{\"gridcolor\":\"white\",\"linecolor\":\"white\",\"ticks\":\"\"},\"baxis\":{\"gridcolor\":\"white\",\"linecolor\":\"white\",\"ticks\":\"\"},\"caxis\":{\"gridcolor\":\"white\",\"linecolor\":\"white\",\"ticks\":\"\"}},\"coloraxis\":{\"colorbar\":{\"outlinewidth\":0,\"ticks\":\"\"}},\"colorscale\":{\"sequential\":[[0.0,\"#0d0887\"],[0.1111111111111111,\"#46039f\"],[0.2222222222222222,\"#7201a8\"],[0.3333333333333333,\"#9c179e\"],[0.4444444444444444,\"#bd3786\"],[0.5555555555555556,\"#d8576b\"],[0.6666666666666666,\"#ed7953\"],[0.7777777777777778,\"#fb9f3a\"],[0.8888888888888888,\"#fdca26\"],[1.0,\"#f0f921\"]],\"sequentialminus\":[[0.0,\"#0d0887\"],[0.1111111111111111,\"#46039f\"],[0.2222222222222222,\"#7201a8\"],[0.3333333333333333,\"#9c179e\"],[0.4444444444444444,\"#bd3786\"],[0.5555555555555556,\"#d8576b\"],[0.6666666666666666,\"#ed7953\"],[0.7777777777777778,\"#fb9f3a\"],[0.8888888888888888,\"#fdca26\"],[1.0,\"#f0f921\"]],\"diverging\":[[0,\"#8e0152\"],[0.1,\"#c51b7d\"],[0.2,\"#de77ae\"],[0.3,\"#f1b6da\"],[0.4,\"#fde0ef\"],[0.5,\"#f7f7f7\"],[0.6,\"#e6f5d0\"],[0.7,\"#b8e186\"],[0.8,\"#7fbc41\"],[0.9,\"#4d9221\"],[1,\"#276419\"]]},\"xaxis\":{\"gridcolor\":\"white\",\"linecolor\":\"white\",\"ticks\":\"\",\"title\":{\"standoff\":15},\"zerolinecolor\":\"white\",\"automargin\":true,\"zerolinewidth\":2},\"yaxis\":{\"gridcolor\":\"white\",\"linecolor\":\"white\",\"ticks\":\"\",\"title\":{\"standoff\":15},\"zerolinecolor\":\"white\",\"automargin\":true,\"zerolinewidth\":2},\"scene\":{\"xaxis\":{\"backgroundcolor\":\"#E5ECF6\",\"gridcolor\":\"white\",\"linecolor\":\"white\",\"showbackground\":true,\"ticks\":\"\",\"zerolinecolor\":\"white\",\"gridwidth\":2},\"yaxis\":{\"backgroundcolor\":\"#E5ECF6\",\"gridcolor\":\"white\",\"linecolor\":\"white\",\"showbackground\":true,\"ticks\":\"\",\"zerolinecolor\":\"white\",\"gridwidth\":2},\"zaxis\":{\"backgroundcolor\":\"#E5ECF6\",\"gridcolor\":\"white\",\"linecolor\":\"white\",\"showbackground\":true,\"ticks\":\"\",\"zerolinecolor\":\"white\",\"gridwidth\":2}},\"shapedefaults\":{\"line\":{\"color\":\"#2a3f5f\"}},\"annotationdefaults\":{\"arrowcolor\":\"#2a3f5f\",\"arrowhead\":0,\"arrowwidth\":1},\"geo\":{\"bgcolor\":\"white\",\"landcolor\":\"#E5ECF6\",\"subunitcolor\":\"white\",\"showland\":true,\"showlakes\":true,\"lakecolor\":\"white\"},\"title\":{\"x\":0.05},\"mapbox\":{\"style\":\"light\"}}},\"xaxis\":{\"anchor\":\"y\",\"domain\":[0.0,1.0],\"title\":{\"text\":\"x\"}},\"yaxis\":{\"anchor\":\"x\",\"domain\":[0.0,1.0],\"title\":{\"text\":\"y\"}},\"coloraxis\":{\"colorbar\":{\"title\":{\"text\":\"cluster_pca\"}},\"colorscale\":[[0.0,\"#0d0887\"],[0.1111111111111111,\"#46039f\"],[0.2222222222222222,\"#7201a8\"],[0.3333333333333333,\"#9c179e\"],[0.4444444444444444,\"#bd3786\"],[0.5555555555555556,\"#d8576b\"],[0.6666666666666666,\"#ed7953\"],[0.7777777777777778,\"#fb9f3a\"],[0.8888888888888888,\"#fdca26\"],[1.0,\"#f0f921\"]]},\"legend\":{\"tracegroupgap\":0},\"margin\":{\"t\":60}},                        {\"responsive\": true}                    ).then(function(){\n",
              "                            \n",
              "var gd = document.getElementById('8cd5968d-367d-4404-a145-7045864643ec');\n",
              "var x = new MutationObserver(function (mutations, observer) {{\n",
              "        var display = window.getComputedStyle(gd).display;\n",
              "        if (!display || display === 'none') {{\n",
              "            console.log([gd, 'removed!']);\n",
              "            Plotly.purge(gd);\n",
              "            observer.disconnect();\n",
              "        }}\n",
              "}});\n",
              "\n",
              "// Listen for the removal of the full notebook cells\n",
              "var notebookContainer = gd.closest('#notebook-container');\n",
              "if (notebookContainer) {{\n",
              "    x.observe(notebookContainer, {childList: true});\n",
              "}}\n",
              "\n",
              "// Listen for the clearing of the current output cell\n",
              "var outputEl = gd.closest('.output');\n",
              "if (outputEl) {{\n",
              "    x.observe(outputEl, {childList: true});\n",
              "}}\n",
              "\n",
              "                        })                };                            </script>        </div>\n",
              "</body>\n",
              "</html>"
            ]
          },
          "metadata": {}
        }
      ]
    },
    {
      "cell_type": "code",
      "source": [],
      "metadata": {
        "id": "Zw5Sz3Y4wtSr"
      },
      "execution_count": null,
      "outputs": []
    }
  ]
}